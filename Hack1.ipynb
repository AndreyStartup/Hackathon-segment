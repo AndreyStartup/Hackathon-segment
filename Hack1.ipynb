{
 "cells": [
  {
   "cell_type": "markdown",
   "id": "7b917ab4-86dc-4c0b-a8fb-5cad7648b380",
   "metadata": {},
   "source": [
    "# Hackathon"
   ]
  },
  {
   "cell_type": "markdown",
   "id": "481629af-3a24-4f11-9e44-e16f844f2ccd",
   "metadata": {},
   "source": [
    "Импортируем модули"
   ]
  },
  {
   "cell_type": "code",
   "execution_count": 295,
   "id": "4b736a34-1a60-4310-a995-ec5f4874a448",
   "metadata": {
    "tags": []
   },
   "outputs": [],
   "source": [
    "import pandas as pd\n",
    "import numpy as np\n",
    "from sklearn.preprocessing import OneHotEncoder, LabelEncoder, StandardScaler\n",
    "from sklearn.model_selection import train_test_split, GridSearchCV\n",
    "from sklearn.ensemble import RandomForestRegressor\n",
    "from sklearn.metrics import mean_squared_error, r2_score, mean_absolute_error\n",
    "import catboost as ctb\n",
    "import tensorflow as tf"
   ]
  },
  {
   "cell_type": "markdown",
   "id": "ce894429-4a4d-4eba-a2f7-20a12e2ba834",
   "metadata": {},
   "source": [
    "Читаем файлы для трэйна и теста"
   ]
  },
  {
   "cell_type": "code",
   "execution_count": 264,
   "id": "a32ed4e1-5f75-4a4b-9cc2-9d3b74aef4db",
   "metadata": {
    "tags": []
   },
   "outputs": [],
   "source": [
    "df_train = pd.read_csv('train.csv')\n",
    "df_test = pd.read_csv('test.csv')"
   ]
  },
  {
   "cell_type": "markdown",
   "id": "09ce55bf-ba19-49fa-b78a-3b5f0318cd1d",
   "metadata": {},
   "source": [
    "Для начала разберемся какие типы данных у нас присутствуют "
   ]
  },
  {
   "cell_type": "code",
   "execution_count": 265,
   "id": "211cb857-a763-4aef-a45b-bef818663db4",
   "metadata": {
    "tags": []
   },
   "outputs": [
    {
     "data": {
      "text/plain": [
       "Year                   int64\n",
       "Date                  object\n",
       "Locality              object\n",
       "Address               object\n",
       "Estimated Value      float64\n",
       "Sale Price           float64\n",
       "Property              object\n",
       "Residential           object\n",
       "num_rooms              int64\n",
       "carpet_area            int64\n",
       "property_tax_rate    float64\n",
       "dtype: object"
      ]
     },
     "execution_count": 265,
     "metadata": {},
     "output_type": "execute_result"
    }
   ],
   "source": [
    "df_train.dtypes"
   ]
  },
  {
   "cell_type": "code",
   "execution_count": 266,
   "id": "d3f99fbe-f4c5-4f8d-889c-aa506ed982a0",
   "metadata": {
    "tags": []
   },
   "outputs": [
    {
     "data": {
      "text/html": [
       "<div>\n",
       "<style scoped>\n",
       "    .dataframe tbody tr th:only-of-type {\n",
       "        vertical-align: middle;\n",
       "    }\n",
       "\n",
       "    .dataframe tbody tr th {\n",
       "        vertical-align: top;\n",
       "    }\n",
       "\n",
       "    .dataframe thead th {\n",
       "        text-align: right;\n",
       "    }\n",
       "</style>\n",
       "<table border=\"1\" class=\"dataframe\">\n",
       "  <thead>\n",
       "    <tr style=\"text-align: right;\">\n",
       "      <th></th>\n",
       "      <th>Year</th>\n",
       "      <th>Date</th>\n",
       "      <th>Locality</th>\n",
       "      <th>Address</th>\n",
       "      <th>Estimated Value</th>\n",
       "      <th>Sale Price</th>\n",
       "      <th>Property</th>\n",
       "      <th>Residential</th>\n",
       "      <th>num_rooms</th>\n",
       "      <th>carpet_area</th>\n",
       "      <th>property_tax_rate</th>\n",
       "    </tr>\n",
       "  </thead>\n",
       "  <tbody>\n",
       "    <tr>\n",
       "      <th>0</th>\n",
       "      <td>2009</td>\n",
       "      <td>2009-01-02</td>\n",
       "      <td>Greenwich</td>\n",
       "      <td>40 ETTL LN UT 24</td>\n",
       "      <td>711270.0</td>\n",
       "      <td>975000.0</td>\n",
       "      <td>Condo</td>\n",
       "      <td>Condominium</td>\n",
       "      <td>2</td>\n",
       "      <td>760</td>\n",
       "      <td>1.025953</td>\n",
       "    </tr>\n",
       "    <tr>\n",
       "      <th>1</th>\n",
       "      <td>2009</td>\n",
       "      <td>2009-01-02</td>\n",
       "      <td>East Hampton</td>\n",
       "      <td>18 BAUER RD</td>\n",
       "      <td>119970.0</td>\n",
       "      <td>189900.0</td>\n",
       "      <td>Single Family</td>\n",
       "      <td>Detached House</td>\n",
       "      <td>3</td>\n",
       "      <td>921</td>\n",
       "      <td>1.025953</td>\n",
       "    </tr>\n",
       "    <tr>\n",
       "      <th>2</th>\n",
       "      <td>2009</td>\n",
       "      <td>2009-01-02</td>\n",
       "      <td>Ridgefield</td>\n",
       "      <td>48 HIGH VALLEY RD.</td>\n",
       "      <td>494530.0</td>\n",
       "      <td>825000.0</td>\n",
       "      <td>Single Family</td>\n",
       "      <td>Detached House</td>\n",
       "      <td>3</td>\n",
       "      <td>982</td>\n",
       "      <td>1.025953</td>\n",
       "    </tr>\n",
       "    <tr>\n",
       "      <th>3</th>\n",
       "      <td>2009</td>\n",
       "      <td>2009-01-02</td>\n",
       "      <td>Old Lyme</td>\n",
       "      <td>56 MERIDEN RD</td>\n",
       "      <td>197600.0</td>\n",
       "      <td>450000.0</td>\n",
       "      <td>Single Family</td>\n",
       "      <td>Detached House</td>\n",
       "      <td>3</td>\n",
       "      <td>976</td>\n",
       "      <td>1.025953</td>\n",
       "    </tr>\n",
       "    <tr>\n",
       "      <th>4</th>\n",
       "      <td>2009</td>\n",
       "      <td>2009-01-02</td>\n",
       "      <td>Naugatuck</td>\n",
       "      <td>13 CELENTANO DR</td>\n",
       "      <td>105440.0</td>\n",
       "      <td>200000.0</td>\n",
       "      <td>Single Family</td>\n",
       "      <td>Detached House</td>\n",
       "      <td>3</td>\n",
       "      <td>947</td>\n",
       "      <td>1.025953</td>\n",
       "    </tr>\n",
       "    <tr>\n",
       "      <th>...</th>\n",
       "      <td>...</td>\n",
       "      <td>...</td>\n",
       "      <td>...</td>\n",
       "      <td>...</td>\n",
       "      <td>...</td>\n",
       "      <td>...</td>\n",
       "      <td>...</td>\n",
       "      <td>...</td>\n",
       "      <td>...</td>\n",
       "      <td>...</td>\n",
       "      <td>...</td>\n",
       "    </tr>\n",
       "    <tr>\n",
       "      <th>553947</th>\n",
       "      <td>2022</td>\n",
       "      <td>2022-12-31</td>\n",
       "      <td>Enfield</td>\n",
       "      <td>50 SWORD AVE</td>\n",
       "      <td>122420.0</td>\n",
       "      <td>198000.0</td>\n",
       "      <td>Residential</td>\n",
       "      <td>Detached House</td>\n",
       "      <td>3</td>\n",
       "      <td>1009</td>\n",
       "      <td>1.003979</td>\n",
       "    </tr>\n",
       "    <tr>\n",
       "      <th>553948</th>\n",
       "      <td>2022</td>\n",
       "      <td>2022-12-31</td>\n",
       "      <td>Naugatuck</td>\n",
       "      <td>10 ROLLINGWOOD DR</td>\n",
       "      <td>139180.0</td>\n",
       "      <td>319900.0</td>\n",
       "      <td>Residential</td>\n",
       "      <td>Detached House</td>\n",
       "      <td>3</td>\n",
       "      <td>999</td>\n",
       "      <td>1.003979</td>\n",
       "    </tr>\n",
       "    <tr>\n",
       "      <th>553949</th>\n",
       "      <td>2022</td>\n",
       "      <td>2022-12-31</td>\n",
       "      <td>South Windsor</td>\n",
       "      <td>189 PALMER DR</td>\n",
       "      <td>200000.0</td>\n",
       "      <td>305000.0</td>\n",
       "      <td>Residential</td>\n",
       "      <td>Detached House</td>\n",
       "      <td>3</td>\n",
       "      <td>1017</td>\n",
       "      <td>1.003979</td>\n",
       "    </tr>\n",
       "    <tr>\n",
       "      <th>553950</th>\n",
       "      <td>2022</td>\n",
       "      <td>2022-12-31</td>\n",
       "      <td>Bloomfield</td>\n",
       "      <td>33 BURNWOOD DRIVE</td>\n",
       "      <td>195440.0</td>\n",
       "      <td>271000.0</td>\n",
       "      <td>Residential</td>\n",
       "      <td>Detached House</td>\n",
       "      <td>3</td>\n",
       "      <td>1061</td>\n",
       "      <td>1.003979</td>\n",
       "    </tr>\n",
       "    <tr>\n",
       "      <th>553951</th>\n",
       "      <td>2022</td>\n",
       "      <td>2022-12-31</td>\n",
       "      <td>Stamford</td>\n",
       "      <td>154 GAYMOOR DRIVE</td>\n",
       "      <td>346600.0</td>\n",
       "      <td>500000.0</td>\n",
       "      <td>Residential</td>\n",
       "      <td>Detached House</td>\n",
       "      <td>3</td>\n",
       "      <td>1003</td>\n",
       "      <td>1.003979</td>\n",
       "    </tr>\n",
       "  </tbody>\n",
       "</table>\n",
       "<p>553952 rows × 11 columns</p>\n",
       "</div>"
      ],
      "text/plain": [
       "        Year        Date       Locality             Address  Estimated Value  \\\n",
       "0       2009  2009-01-02      Greenwich    40 ETTL LN UT 24         711270.0   \n",
       "1       2009  2009-01-02   East Hampton         18 BAUER RD         119970.0   \n",
       "2       2009  2009-01-02     Ridgefield  48 HIGH VALLEY RD.         494530.0   \n",
       "3       2009  2009-01-02       Old Lyme       56 MERIDEN RD         197600.0   \n",
       "4       2009  2009-01-02      Naugatuck     13 CELENTANO DR         105440.0   \n",
       "...      ...         ...            ...                 ...              ...   \n",
       "553947  2022  2022-12-31        Enfield        50 SWORD AVE         122420.0   \n",
       "553948  2022  2022-12-31      Naugatuck   10 ROLLINGWOOD DR         139180.0   \n",
       "553949  2022  2022-12-31  South Windsor       189 PALMER DR         200000.0   \n",
       "553950  2022  2022-12-31     Bloomfield   33 BURNWOOD DRIVE         195440.0   \n",
       "553951  2022  2022-12-31       Stamford   154 GAYMOOR DRIVE         346600.0   \n",
       "\n",
       "        Sale Price       Property     Residential  num_rooms  carpet_area  \\\n",
       "0         975000.0          Condo     Condominium          2          760   \n",
       "1         189900.0  Single Family  Detached House          3          921   \n",
       "2         825000.0  Single Family  Detached House          3          982   \n",
       "3         450000.0  Single Family  Detached House          3          976   \n",
       "4         200000.0  Single Family  Detached House          3          947   \n",
       "...            ...            ...             ...        ...          ...   \n",
       "553947    198000.0    Residential  Detached House          3         1009   \n",
       "553948    319900.0    Residential  Detached House          3          999   \n",
       "553949    305000.0    Residential  Detached House          3         1017   \n",
       "553950    271000.0    Residential  Detached House          3         1061   \n",
       "553951    500000.0    Residential  Detached House          3         1003   \n",
       "\n",
       "        property_tax_rate  \n",
       "0                1.025953  \n",
       "1                1.025953  \n",
       "2                1.025953  \n",
       "3                1.025953  \n",
       "4                1.025953  \n",
       "...                   ...  \n",
       "553947           1.003979  \n",
       "553948           1.003979  \n",
       "553949           1.003979  \n",
       "553950           1.003979  \n",
       "553951           1.003979  \n",
       "\n",
       "[553952 rows x 11 columns]"
      ]
     },
     "execution_count": 266,
     "metadata": {},
     "output_type": "execute_result"
    }
   ],
   "source": [
    "df_train"
   ]
  },
  {
   "cell_type": "markdown",
   "id": "81daead2-d926-4c06-9b89-171e194143fd",
   "metadata": {},
   "source": [
    "У нас присутствуют категориальные признаки(Locality, Property, Residential), также есть дата, и множество числовых данных. Для начала разберемся с датой, год уже присутствует, остается только вытащить месяц и день, это потенциально может повлиять на цену, ну и затем уберем дату и адрес(они нам больше не понадобятся)"
   ]
  },
  {
   "cell_type": "code",
   "execution_count": 267,
   "id": "8d671459-11b1-4389-9313-3b63de5cdbe7",
   "metadata": {
    "tags": []
   },
   "outputs": [],
   "source": [
    "df_train['Date'] = pd.to_datetime(df_train['Date'])\n",
    "df_train['month']= df_train['Date'].dt.month\n",
    "df_train['day']= df_train['Date'].dt.day\n",
    "df_test['Date'] = pd.to_datetime(df_test['Date'])\n",
    "df_test['month']= df_test['Date'].dt.month\n",
    "df_test['day']= df_test['Date'].dt.day"
   ]
  },
  {
   "cell_type": "code",
   "execution_count": 269,
   "id": "f958d311-5c97-4146-9fc4-e97b24f68bd1",
   "metadata": {
    "tags": []
   },
   "outputs": [],
   "source": [
    "df_train.drop(['Date','Address'], axis=1, inplace=True)\n",
    "df_test.drop(['Date','Address'], axis=1, inplace=True)"
   ]
  },
  {
   "cell_type": "markdown",
   "id": "39c75b65-0aec-4640-807e-c7fe87caf031",
   "metadata": {},
   "source": [
    "Дальше разберемся с категориальными признаками. Property и Residential ввиду малого кол-ва уникальных значений просто воспользуемся OneHotEncoder, а с Locality так не прокатит(там 170 уникальных значений), к нему применим обычный LabelEncoder"
   ]
  },
  {
   "cell_type": "code",
   "execution_count": 272,
   "id": "19df988a-8565-4850-8872-e8d3af49e64e",
   "metadata": {
    "tags": []
   },
   "outputs": [
    {
     "data": {
      "text/plain": [
       "(Locality    170\n",
       " dtype: int64,\n",
       " Property    6\n",
       " dtype: int64,\n",
       " Residential    5\n",
       " dtype: int64)"
      ]
     },
     "execution_count": 272,
     "metadata": {},
     "output_type": "execute_result"
    }
   ],
   "source": [
    "df_train[['Locality']].nunique(), df_train[['Property']].nunique(), df_train[['Residential']].nunique()"
   ]
  },
  {
   "cell_type": "code",
   "execution_count": 275,
   "id": "fe6b9c9b-6e35-47d8-8db2-be150053cabe",
   "metadata": {
    "tags": []
   },
   "outputs": [],
   "source": [
    "# ohe = OneHotEncoder()\n",
    "# transformed = ohe.fit_transform(df_ohe[['Locality']]) \n",
    "ohe1 = OneHotEncoder()\n",
    "transformed1 = ohe1.fit_transform(df_train[['Property']]) \n",
    "ohe2 = OneHotEncoder()\n",
    "transformed2 = ohe2.fit_transform(df_train[['Residential']]) "
   ]
  },
  {
   "cell_type": "code",
   "execution_count": 276,
   "id": "312a2a6f-cce4-441a-bc2c-3d082521a72d",
   "metadata": {
    "tags": []
   },
   "outputs": [],
   "source": [
    "# df_ohe[ohe.categories_[0]] = transformed.toarray()\n",
    "df_train[ohe1.categories_[0]] = transformed1.toarray()\n",
    "df_train[ohe2.categories_[0]] = transformed2.toarray()"
   ]
  },
  {
   "cell_type": "code",
   "execution_count": 277,
   "id": "1a6e43fd-ceb6-452a-b48d-653d81a86528",
   "metadata": {
    "tags": []
   },
   "outputs": [],
   "source": [
    "lb = LabelEncoder()\n",
    "df_train['Locality'] = lb.fit_transform(df_train['Locality'])"
   ]
  },
  {
   "cell_type": "code",
   "execution_count": 278,
   "id": "75a9307b-0aaa-428d-8892-d2aa61c79f78",
   "metadata": {
    "tags": []
   },
   "outputs": [],
   "source": [
    "df_train.drop(['Property'], axis=1, inplace=True)"
   ]
  },
  {
   "cell_type": "markdown",
   "id": "2a999436-b380-4581-be7d-3e9558b2110d",
   "metadata": {},
   "source": [
    "Осталось только разобраться с числовыми признаками, необходимо стандартизировать Sale price и Estimated Value, это улучшит работу модели и нам никак не помешает"
   ]
  },
  {
   "cell_type": "code",
   "execution_count": 279,
   "id": "641e7fc4-9ef9-44bf-b849-02ad0af37a20",
   "metadata": {
    "tags": []
   },
   "outputs": [],
   "source": [
    "scaler = StandardScaler()\n",
    "df_train[\"Estimated Value\"] = scaler.fit_transform(df_ohe_w[\"Estimated Value\"].values.reshape(-1,1))\n",
    "df_train[\"Sale Price\"] = scaler.fit_transform(df_ohe_w[\"Sale Price\"].values.reshape(-1,1))"
   ]
  },
  {
   "cell_type": "markdown",
   "id": "318a918e-9f5f-445e-ad01-dc113a282521",
   "metadata": {},
   "source": [
    "Разобьем данные на train и validation выборки"
   ]
  },
  {
   "cell_type": "code",
   "execution_count": 280,
   "id": "cd1a536d-9457-4a8a-93fa-c41d94e9acc0",
   "metadata": {
    "tags": []
   },
   "outputs": [],
   "source": [
    "x_train, x_test = train_test_split(df_ohe_w.drop('Sale Price', axis=1), train_size=0.7, random_state=1)\n",
    "y_train, y_test = train_test_split(df_ohe_w['Sale Price'], train_size=0.7, random_state=1)"
   ]
  },
  {
   "cell_type": "markdown",
   "id": "b7ac3339-6720-4359-af5f-c03e8b66b992",
   "metadata": {},
   "source": [
    "Я собираюсь построить множество различных моделей(Catboost, RandomForest, Linear) и нейронку для регрессии"
   ]
  },
  {
   "cell_type": "code",
   "execution_count": 282,
   "id": "0465f23f-3b4d-4053-9033-9c1717a2912f",
   "metadata": {
    "collapsed": true,
    "jupyter": {
     "outputs_hidden": true
    },
    "tags": []
   },
   "outputs": [
    {
     "name": "stderr",
     "output_type": "stream",
     "text": [
      "[Parallel(n_jobs=-1)]: Using backend ThreadingBackend with 12 concurrent workers.\n"
     ]
    },
    {
     "name": "stdout",
     "output_type": "stream",
     "text": [
      "building tree 1 of 100building tree 2 of 100\n",
      "building tree 3 of 100\n",
      "\n",
      "building tree 4 of 100\n",
      "building tree 5 of 100\n",
      "building tree 6 of 100\n",
      "building tree 7 of 100\n",
      "building tree 8 of 100\n",
      "building tree 9 of 100\n",
      "building tree 10 of 100\n",
      "building tree 11 of 100\n",
      "building tree 12 of 100\n",
      "building tree 13 of 100\n",
      "building tree 14 of 100\n"
     ]
    },
    {
     "name": "stderr",
     "output_type": "stream",
     "text": [
      "[Parallel(n_jobs=-1)]: Done   1 tasks      | elapsed:    7.4s\n"
     ]
    },
    {
     "name": "stdout",
     "output_type": "stream",
     "text": [
      "building tree 15 of 100\n",
      "building tree 16 of 100\n",
      "building tree 17 of 100\n",
      "building tree 18 of 100\n",
      "building tree 19 of 100\n",
      "building tree 20 of 100\n"
     ]
    },
    {
     "name": "stderr",
     "output_type": "stream",
     "text": [
      "[Parallel(n_jobs=-1)]: Done   8 tasks      | elapsed:    8.2s\n"
     ]
    },
    {
     "name": "stdout",
     "output_type": "stream",
     "text": [
      "building tree 21 of 100\n",
      "building tree 22 of 100\n",
      "building tree 23 of 100\n",
      "building tree 24 of 100\n",
      "building tree 25 of 100\n",
      "building tree 26 of 100\n",
      "building tree 27 of 100\n",
      "building tree 28 of 100\n",
      "building tree 29 of 100\n"
     ]
    },
    {
     "name": "stderr",
     "output_type": "stream",
     "text": [
      "[Parallel(n_jobs=-1)]: Done  17 tasks      | elapsed:   16.2s\n"
     ]
    },
    {
     "name": "stdout",
     "output_type": "stream",
     "text": [
      "building tree 30 of 100\n",
      "building tree 31 of 100\n",
      "building tree 32 of 100\n",
      "building tree 33 of 100\n",
      "building tree 34 of 100\n",
      "building tree 35 of 100\n",
      "building tree 36 of 100\n",
      "building tree 37 of 100\n",
      "building tree 38 of 100\n"
     ]
    },
    {
     "name": "stderr",
     "output_type": "stream",
     "text": [
      "[Parallel(n_jobs=-1)]: Done  26 tasks      | elapsed:   22.6s\n"
     ]
    },
    {
     "name": "stdout",
     "output_type": "stream",
     "text": [
      "building tree 39 of 100\n",
      "building tree 40 of 100\n",
      "building tree 41 of 100\n",
      "building tree 42 of 100\n",
      "building tree 43 of 100\n",
      "building tree 44 of 100\n",
      "building tree 45 of 100\n",
      "building tree 46 of 100\n",
      "building tree 47 of 100\n",
      "building tree 48 of 100\n",
      "building tree 49 of 100\n"
     ]
    },
    {
     "name": "stderr",
     "output_type": "stream",
     "text": [
      "[Parallel(n_jobs=-1)]: Done  37 tasks      | elapsed:   29.6s\n"
     ]
    },
    {
     "name": "stdout",
     "output_type": "stream",
     "text": [
      "building tree 50 of 100\n",
      "building tree 51 of 100\n",
      "building tree 52 of 100\n",
      "building tree 53 of 100\n",
      "building tree 54 of 100\n",
      "building tree 55 of 100\n",
      "building tree 56 of 100\n",
      "building tree 57 of 100\n",
      "building tree 58 of 100\n",
      "building tree 59 of 100\n",
      "building tree 60 of 100\n"
     ]
    },
    {
     "name": "stderr",
     "output_type": "stream",
     "text": [
      "[Parallel(n_jobs=-1)]: Done  48 tasks      | elapsed:   35.5s\n"
     ]
    },
    {
     "name": "stdout",
     "output_type": "stream",
     "text": [
      "building tree 61 of 100\n",
      "building tree 62 of 100\n",
      "building tree 63 of 100\n",
      "building tree 64 of 100\n",
      "building tree 65 of 100\n",
      "building tree 66 of 100\n",
      "building tree 67 of 100\n",
      "building tree 68 of 100\n",
      "building tree 69 of 100\n",
      "building tree 70 of 100\n",
      "building tree 71 of 100\n",
      "building tree 72 of 100\n",
      "building tree 73 of 100\n"
     ]
    },
    {
     "name": "stderr",
     "output_type": "stream",
     "text": [
      "[Parallel(n_jobs=-1)]: Done  61 tasks      | elapsed:   44.2s\n"
     ]
    },
    {
     "name": "stdout",
     "output_type": "stream",
     "text": [
      "building tree 74 of 100\n",
      "building tree 75 of 100\n",
      "building tree 76 of 100\n",
      "building tree 77 of 100\n",
      "building tree 78 of 100\n",
      "building tree 79 of 100\n",
      "building tree 80 of 100\n",
      "building tree 81 of 100\n",
      "building tree 82 of 100\n",
      "building tree 83 of 100\n",
      "building tree 84 of 100\n",
      "building tree 85 of 100\n",
      "building tree 86 of 100\n"
     ]
    },
    {
     "name": "stderr",
     "output_type": "stream",
     "text": [
      "[Parallel(n_jobs=-1)]: Done  74 tasks      | elapsed:   52.0s\n"
     ]
    },
    {
     "name": "stdout",
     "output_type": "stream",
     "text": [
      "building tree 87 of 100\n",
      "building tree 88 of 100\n",
      "building tree 89 of 100\n",
      "building tree 90 of 100\n",
      "building tree 91 of 100\n",
      "building tree 92 of 100\n",
      "building tree 93 of 100\n",
      "building tree 94 of 100\n",
      "building tree 95 of 100\n",
      "building tree 96 of 100\n",
      "building tree 97 of 100\n",
      "building tree 98 of 100\n",
      "building tree 99 of 100\n",
      "building tree 100 of 100\n"
     ]
    },
    {
     "name": "stderr",
     "output_type": "stream",
     "text": [
      "[Parallel(n_jobs=-1)]: Done  88 out of 100 | elapsed:  1.0min remaining:    8.3s\n",
      "[Parallel(n_jobs=-1)]: Done 100 out of 100 | elapsed:  1.1min finished\n"
     ]
    },
    {
     "data": {
      "text/html": [
       "<style>#sk-container-id-6 {color: black;background-color: white;}#sk-container-id-6 pre{padding: 0;}#sk-container-id-6 div.sk-toggleable {background-color: white;}#sk-container-id-6 label.sk-toggleable__label {cursor: pointer;display: block;width: 100%;margin-bottom: 0;padding: 0.3em;box-sizing: border-box;text-align: center;}#sk-container-id-6 label.sk-toggleable__label-arrow:before {content: \"▸\";float: left;margin-right: 0.25em;color: #696969;}#sk-container-id-6 label.sk-toggleable__label-arrow:hover:before {color: black;}#sk-container-id-6 div.sk-estimator:hover label.sk-toggleable__label-arrow:before {color: black;}#sk-container-id-6 div.sk-toggleable__content {max-height: 0;max-width: 0;overflow: hidden;text-align: left;background-color: #f0f8ff;}#sk-container-id-6 div.sk-toggleable__content pre {margin: 0.2em;color: black;border-radius: 0.25em;background-color: #f0f8ff;}#sk-container-id-6 input.sk-toggleable__control:checked~div.sk-toggleable__content {max-height: 200px;max-width: 100%;overflow: auto;}#sk-container-id-6 input.sk-toggleable__control:checked~label.sk-toggleable__label-arrow:before {content: \"▾\";}#sk-container-id-6 div.sk-estimator input.sk-toggleable__control:checked~label.sk-toggleable__label {background-color: #d4ebff;}#sk-container-id-6 div.sk-label input.sk-toggleable__control:checked~label.sk-toggleable__label {background-color: #d4ebff;}#sk-container-id-6 input.sk-hidden--visually {border: 0;clip: rect(1px 1px 1px 1px);clip: rect(1px, 1px, 1px, 1px);height: 1px;margin: -1px;overflow: hidden;padding: 0;position: absolute;width: 1px;}#sk-container-id-6 div.sk-estimator {font-family: monospace;background-color: #f0f8ff;border: 1px dotted black;border-radius: 0.25em;box-sizing: border-box;margin-bottom: 0.5em;}#sk-container-id-6 div.sk-estimator:hover {background-color: #d4ebff;}#sk-container-id-6 div.sk-parallel-item::after {content: \"\";width: 100%;border-bottom: 1px solid gray;flex-grow: 1;}#sk-container-id-6 div.sk-label:hover label.sk-toggleable__label {background-color: #d4ebff;}#sk-container-id-6 div.sk-serial::before {content: \"\";position: absolute;border-left: 1px solid gray;box-sizing: border-box;top: 0;bottom: 0;left: 50%;z-index: 0;}#sk-container-id-6 div.sk-serial {display: flex;flex-direction: column;align-items: center;background-color: white;padding-right: 0.2em;padding-left: 0.2em;position: relative;}#sk-container-id-6 div.sk-item {position: relative;z-index: 1;}#sk-container-id-6 div.sk-parallel {display: flex;align-items: stretch;justify-content: center;background-color: white;position: relative;}#sk-container-id-6 div.sk-item::before, #sk-container-id-6 div.sk-parallel-item::before {content: \"\";position: absolute;border-left: 1px solid gray;box-sizing: border-box;top: 0;bottom: 0;left: 50%;z-index: -1;}#sk-container-id-6 div.sk-parallel-item {display: flex;flex-direction: column;z-index: 1;position: relative;background-color: white;}#sk-container-id-6 div.sk-parallel-item:first-child::after {align-self: flex-end;width: 50%;}#sk-container-id-6 div.sk-parallel-item:last-child::after {align-self: flex-start;width: 50%;}#sk-container-id-6 div.sk-parallel-item:only-child::after {width: 0;}#sk-container-id-6 div.sk-dashed-wrapped {border: 1px dashed gray;margin: 0 0.4em 0.5em 0.4em;box-sizing: border-box;padding-bottom: 0.4em;background-color: white;}#sk-container-id-6 div.sk-label label {font-family: monospace;font-weight: bold;display: inline-block;line-height: 1.2em;}#sk-container-id-6 div.sk-label-container {text-align: center;}#sk-container-id-6 div.sk-container {/* jupyter's `normalize.less` sets `[hidden] { display: none; }` but bootstrap.min.css set `[hidden] { display: none !important; }` so we also need the `!important` here to be able to override the default hidden behavior on the sphinx rendered scikit-learn.org. See: https://github.com/scikit-learn/scikit-learn/issues/21755 */display: inline-block !important;position: relative;}#sk-container-id-6 div.sk-text-repr-fallback {display: none;}</style><div id=\"sk-container-id-6\" class=\"sk-top-container\"><div class=\"sk-text-repr-fallback\"><pre>RandomForestRegressor(n_jobs=-1, verbose=10)</pre><b>In a Jupyter environment, please rerun this cell to show the HTML representation or trust the notebook. <br />On GitHub, the HTML representation is unable to render, please try loading this page with nbviewer.org.</b></div><div class=\"sk-container\" hidden><div class=\"sk-item\"><div class=\"sk-estimator sk-toggleable\"><input class=\"sk-toggleable__control sk-hidden--visually\" id=\"sk-estimator-id-6\" type=\"checkbox\" checked><label for=\"sk-estimator-id-6\" class=\"sk-toggleable__label sk-toggleable__label-arrow\">RandomForestRegressor</label><div class=\"sk-toggleable__content\"><pre>RandomForestRegressor(n_jobs=-1, verbose=10)</pre></div></div></div></div></div>"
      ],
      "text/plain": [
       "RandomForestRegressor(n_jobs=-1, verbose=10)"
      ]
     },
     "execution_count": 282,
     "metadata": {},
     "output_type": "execute_result"
    }
   ],
   "source": [
    "model = RandomForestRegressor(n_jobs=-1, verbose=10, random_state=27)\n",
    "# Для начала обучим модель без настройки гиперпараметров\n",
    "model.fit(x_train, y_train)"
   ]
  },
  {
   "cell_type": "code",
   "execution_count": 287,
   "id": "9a57f3f3-19aa-45b6-ac19-482706ae815f",
   "metadata": {
    "collapsed": true,
    "jupyter": {
     "outputs_hidden": true
    },
    "tags": []
   },
   "outputs": [
    {
     "name": "stderr",
     "output_type": "stream",
     "text": [
      "[Parallel(n_jobs=12)]: Using backend ThreadingBackend with 12 concurrent workers.\n",
      "[Parallel(n_jobs=12)]: Done   1 tasks      | elapsed:    0.3s\n",
      "[Parallel(n_jobs=12)]: Done   8 tasks      | elapsed:    0.3s\n",
      "[Parallel(n_jobs=12)]: Done  17 tasks      | elapsed:    0.7s\n",
      "[Parallel(n_jobs=12)]: Done  26 tasks      | elapsed:    1.2s\n",
      "[Parallel(n_jobs=12)]: Done  37 tasks      | elapsed:    1.6s\n",
      "[Parallel(n_jobs=12)]: Done  48 tasks      | elapsed:    3.3s\n",
      "[Parallel(n_jobs=12)]: Done  61 tasks      | elapsed:    5.3s\n",
      "[Parallel(n_jobs=12)]: Done  74 tasks      | elapsed:    7.5s\n",
      "[Parallel(n_jobs=12)]: Done  88 out of 100 | elapsed:   10.8s remaining:    1.4s\n",
      "[Parallel(n_jobs=12)]: Done 100 out of 100 | elapsed:   12.4s finished\n",
      "[Parallel(n_jobs=12)]: Using backend ThreadingBackend with 12 concurrent workers.\n",
      "[Parallel(n_jobs=12)]: Done   1 tasks      | elapsed:    0.9s\n",
      "[Parallel(n_jobs=12)]: Done   8 tasks      | elapsed:    1.4s\n",
      "[Parallel(n_jobs=12)]: Done  17 tasks      | elapsed:    3.0s\n",
      "[Parallel(n_jobs=12)]: Done  26 tasks      | elapsed:    3.9s\n",
      "[Parallel(n_jobs=12)]: Done  37 tasks      | elapsed:    5.1s\n",
      "[Parallel(n_jobs=12)]: Done  48 tasks      | elapsed:    5.8s\n",
      "[Parallel(n_jobs=12)]: Done  61 tasks      | elapsed:    6.8s\n",
      "[Parallel(n_jobs=12)]: Done  74 tasks      | elapsed:    7.8s\n",
      "[Parallel(n_jobs=12)]: Done  88 out of 100 | elapsed:    8.6s remaining:    1.1s\n",
      "[Parallel(n_jobs=12)]: Done 100 out of 100 | elapsed:    9.3s finished\n"
     ]
    }
   ],
   "source": [
    "pred_test = model.predict(x_test)\n",
    "pred_train = model.predict(x_train)"
   ]
  },
  {
   "cell_type": "code",
   "execution_count": 288,
   "id": "dc45ebbb-8748-45aa-8b79-637adcfdb3b8",
   "metadata": {
    "tags": []
   },
   "outputs": [
    {
     "data": {
      "text/plain": [
       "(0.9601139397338165, 0.0433383560636188)"
      ]
     },
     "execution_count": 288,
     "metadata": {},
     "output_type": "execute_result"
    }
   ],
   "source": [
    "r2_score(y_train, pred_train), mean_absolute_error(y_train, pred_train)"
   ]
  },
  {
   "cell_type": "code",
   "execution_count": 289,
   "id": "e840452f-56c8-41b3-9293-68f05e7b7658",
   "metadata": {
    "tags": []
   },
   "outputs": [
    {
     "data": {
      "text/plain": [
       "(0.5041485547993616, 0.11620408223179166)"
      ]
     },
     "execution_count": 289,
     "metadata": {},
     "output_type": "execute_result"
    }
   ],
   "source": [
    "r2_score(y_test, pred_test), mean_absolute_error(y_test, pred_test)"
   ]
  },
  {
   "cell_type": "markdown",
   "id": "c35dad96-0e06-42af-9c15-9e84bc39ca72",
   "metadata": {},
   "source": [
    "Всего 50% дисперсии на тесте и 96% на трейне, признаки переобучения, попробуем настроить max_depth"
   ]
  },
  {
   "cell_type": "code",
   "execution_count": null,
   "id": "d8461da8-5b24-4a83-a84e-e7f29196b902",
   "metadata": {
    "tags": []
   },
   "outputs": [],
   "source": [
    "param = [10, 15, 20, 30, 40]\n",
    "res=[]\n",
    "for i in param:\n",
    "    model = RandomForestRegressor(n_jobs=-1, verbose=10, random_state=27)\n",
    "    \n",
    "    model.fit(x_train, y_train)\n",
    "    \n",
    "    pred_test = model.predict(x_test)\n",
    "    pred_train = model.predict(x_train)\n",
    "    \n",
    "    res.append((r2_score(y_train, pred_train), r2_score(y_test, pred_test)))"
   ]
  },
  {
   "cell_type": "code",
   "execution_count": 308,
   "id": "55d16806-362e-484c-9112-a6b15f8882b9",
   "metadata": {
    "tags": []
   },
   "outputs": [
    {
     "data": {
      "text/plain": [
       "[(0.8370303216446241, 0.5414108541853),\n",
       " (0.9463678167223394, 0.5167737982438512),\n",
       " (0.9535759464051375, 0.5190224180178811),\n",
       " (0.9551932203133116, 0.5100959972256005),\n",
       " (0.9555948645889194, 0.5147110741669813)]"
      ]
     },
     "execution_count": 308,
     "metadata": {},
     "output_type": "execute_result"
    }
   ],
   "source": [
    "res"
   ]
  },
  {
   "cell_type": "markdown",
   "id": "34fc9245-880c-4aef-9fff-05fbb5a30c66",
   "metadata": {},
   "source": [
    "Лучше всего себя показал результат с max_depth 10, дальше настроим min_samples_leaf"
   ]
  },
  {
   "cell_type": "code",
   "execution_count": 297,
   "id": "16cd4c92-9312-4072-b265-2006565ab872",
   "metadata": {
    "collapsed": true,
    "jupyter": {
     "outputs_hidden": true
    },
    "tags": []
   },
   "outputs": [
    {
     "name": "stderr",
     "output_type": "stream",
     "text": [
      "[Parallel(n_jobs=-1)]: Using backend LokyBackend with 12 concurrent workers.\n",
      "[Parallel(n_jobs=-1)]: Done   1 tasks      | elapsed:   20.1s\n",
      "[Parallel(n_jobs=-1)]: Done   8 tasks      | elapsed:   20.2s\n",
      "[Parallel(n_jobs=-1)]: Done  17 tasks      | elapsed:   23.5s\n",
      "[Parallel(n_jobs=-1)]: Done  26 tasks      | elapsed:   26.7s\n",
      "[Parallel(n_jobs=-1)]: Done  37 tasks      | elapsed:   30.1s\n",
      "[Parallel(n_jobs=-1)]: Done  48 tasks      | elapsed:   31.2s\n",
      "[Parallel(n_jobs=-1)]: Done  61 tasks      | elapsed:   36.9s\n",
      "[Parallel(n_jobs=-1)]: Done  74 tasks      | elapsed:   40.3s\n",
      "[Parallel(n_jobs=-1)]: Done  88 out of 100 | elapsed:   43.9s remaining:    5.9s\n",
      "[Parallel(n_jobs=-1)]: Done 100 out of 100 | elapsed:   45.9s finished\n"
     ]
    },
    {
     "name": "stdout",
     "output_type": "stream",
     "text": [
      "Using ThreadingBackend as joblib.Parallel backend instead of LokyBackend as the latter does not provide shared memory semantics.\n"
     ]
    },
    {
     "name": "stderr",
     "output_type": "stream",
     "text": [
      "[Parallel(n_jobs=12)]: Using backend ThreadingBackend with 12 concurrent workers.\n",
      "[Parallel(n_jobs=12)]: Done   1 tasks      | elapsed:    0.0s\n",
      "[Parallel(n_jobs=12)]: Done   8 tasks      | elapsed:    0.0s\n",
      "[Parallel(n_jobs=12)]: Done  17 tasks      | elapsed:    0.0s\n",
      "[Parallel(n_jobs=12)]: Done  26 tasks      | elapsed:    0.0s\n",
      "[Parallel(n_jobs=12)]: Done  37 tasks      | elapsed:    0.0s\n",
      "[Parallel(n_jobs=12)]: Done  48 tasks      | elapsed:    0.0s\n",
      "[Parallel(n_jobs=12)]: Done  61 tasks      | elapsed:    0.0s\n",
      "[Parallel(n_jobs=12)]: Done  74 tasks      | elapsed:    0.0s\n",
      "[Parallel(n_jobs=12)]: Done  88 out of 100 | elapsed:    0.1s remaining:    0.0s\n",
      "[Parallel(n_jobs=12)]: Done 100 out of 100 | elapsed:    0.1s finished\n",
      "[Parallel(n_jobs=-1)]: Using backend LokyBackend with 12 concurrent workers.\n",
      "[Parallel(n_jobs=-1)]: Done   1 tasks      | elapsed:    3.0s\n",
      "[Parallel(n_jobs=-1)]: Done   8 tasks      | elapsed:    3.4s\n",
      "[Parallel(n_jobs=-1)]: Done  17 tasks      | elapsed:    6.6s\n",
      "[Parallel(n_jobs=-1)]: Done  26 tasks      | elapsed:    9.6s\n",
      "[Parallel(n_jobs=-1)]: Done  37 tasks      | elapsed:   12.8s\n",
      "[Parallel(n_jobs=-1)]: Done  48 tasks      | elapsed:   14.1s\n",
      "[Parallel(n_jobs=-1)]: Done  61 tasks      | elapsed:   19.3s\n",
      "[Parallel(n_jobs=-1)]: Done  74 tasks      | elapsed:   22.7s\n",
      "[Parallel(n_jobs=-1)]: Done  88 out of 100 | elapsed:   25.9s remaining:    3.5s\n",
      "[Parallel(n_jobs=-1)]: Done 100 out of 100 | elapsed:   27.8s finished\n"
     ]
    },
    {
     "name": "stdout",
     "output_type": "stream",
     "text": [
      "Using ThreadingBackend as joblib.Parallel backend instead of LokyBackend as the latter does not provide shared memory semantics.\n"
     ]
    },
    {
     "name": "stderr",
     "output_type": "stream",
     "text": [
      "[Parallel(n_jobs=12)]: Using backend ThreadingBackend with 12 concurrent workers.\n",
      "[Parallel(n_jobs=12)]: Done   1 tasks      | elapsed:    0.0s\n",
      "[Parallel(n_jobs=12)]: Done   8 tasks      | elapsed:    0.0s\n",
      "[Parallel(n_jobs=12)]: Done  17 tasks      | elapsed:    0.0s\n",
      "[Parallel(n_jobs=12)]: Done  26 tasks      | elapsed:    0.0s\n",
      "[Parallel(n_jobs=12)]: Done  37 tasks      | elapsed:    0.0s\n",
      "[Parallel(n_jobs=12)]: Done  48 tasks      | elapsed:    0.0s\n",
      "[Parallel(n_jobs=12)]: Done  61 tasks      | elapsed:    0.0s\n",
      "[Parallel(n_jobs=12)]: Done  74 tasks      | elapsed:    0.0s\n",
      "[Parallel(n_jobs=12)]: Done  88 out of 100 | elapsed:    0.0s remaining:    0.0s\n",
      "[Parallel(n_jobs=12)]: Done 100 out of 100 | elapsed:    0.0s finished\n",
      "[Parallel(n_jobs=-1)]: Using backend LokyBackend with 12 concurrent workers.\n",
      "[Parallel(n_jobs=-1)]: Done   1 tasks      | elapsed:    3.1s\n",
      "[Parallel(n_jobs=-1)]: Done   8 tasks      | elapsed:    3.2s\n",
      "[Parallel(n_jobs=-1)]: Done  17 tasks      | elapsed:    6.3s\n",
      "[Parallel(n_jobs=-1)]: Done  26 tasks      | elapsed:    9.5s\n",
      "[Parallel(n_jobs=-1)]: Done  37 tasks      | elapsed:   12.9s\n",
      "[Parallel(n_jobs=-1)]: Done  48 tasks      | elapsed:   13.8s\n",
      "[Parallel(n_jobs=-1)]: Done  61 tasks      | elapsed:   19.3s\n",
      "[Parallel(n_jobs=-1)]: Done  74 tasks      | elapsed:   22.7s\n",
      "[Parallel(n_jobs=-1)]: Done  88 out of 100 | elapsed:   26.2s remaining:    3.5s\n",
      "[Parallel(n_jobs=-1)]: Done 100 out of 100 | elapsed:   28.1s finished\n"
     ]
    },
    {
     "name": "stdout",
     "output_type": "stream",
     "text": [
      "Using ThreadingBackend as joblib.Parallel backend instead of LokyBackend as the latter does not provide shared memory semantics.\n"
     ]
    },
    {
     "name": "stderr",
     "output_type": "stream",
     "text": [
      "[Parallel(n_jobs=12)]: Using backend ThreadingBackend with 12 concurrent workers.\n",
      "[Parallel(n_jobs=12)]: Done   1 tasks      | elapsed:    0.0s\n",
      "[Parallel(n_jobs=12)]: Done   8 tasks      | elapsed:    0.0s\n",
      "[Parallel(n_jobs=12)]: Done  17 tasks      | elapsed:    0.0s\n",
      "[Parallel(n_jobs=12)]: Done  26 tasks      | elapsed:    0.0s\n",
      "[Parallel(n_jobs=12)]: Done  37 tasks      | elapsed:    0.0s\n",
      "[Parallel(n_jobs=12)]: Done  48 tasks      | elapsed:    0.0s\n",
      "[Parallel(n_jobs=12)]: Done  61 tasks      | elapsed:    0.0s\n",
      "[Parallel(n_jobs=12)]: Done  74 tasks      | elapsed:    0.0s\n",
      "[Parallel(n_jobs=12)]: Done  88 out of 100 | elapsed:    0.0s remaining:    0.0s\n",
      "[Parallel(n_jobs=12)]: Done 100 out of 100 | elapsed:    0.0s finished\n",
      "[Parallel(n_jobs=-1)]: Using backend LokyBackend with 12 concurrent workers.\n",
      "[Parallel(n_jobs=-1)]: Done   1 tasks      | elapsed:    3.1s\n",
      "[Parallel(n_jobs=-1)]: Done   8 tasks      | elapsed:    3.5s\n",
      "[Parallel(n_jobs=-1)]: Done  17 tasks      | elapsed:    6.9s\n",
      "[Parallel(n_jobs=-1)]: Done  26 tasks      | elapsed:    9.9s\n",
      "[Parallel(n_jobs=-1)]: Done  37 tasks      | elapsed:   13.2s\n",
      "[Parallel(n_jobs=-1)]: Done  48 tasks      | elapsed:   14.3s\n",
      "[Parallel(n_jobs=-1)]: Done  61 tasks      | elapsed:   20.1s\n",
      "[Parallel(n_jobs=-1)]: Done  74 tasks      | elapsed:   23.5s\n",
      "[Parallel(n_jobs=-1)]: Done  88 out of 100 | elapsed:   27.0s remaining:    3.6s\n",
      "[Parallel(n_jobs=-1)]: Done 100 out of 100 | elapsed:   28.9s finished\n"
     ]
    },
    {
     "name": "stdout",
     "output_type": "stream",
     "text": [
      "Using ThreadingBackend as joblib.Parallel backend instead of LokyBackend as the latter does not provide shared memory semantics.\n"
     ]
    },
    {
     "name": "stderr",
     "output_type": "stream",
     "text": [
      "[Parallel(n_jobs=12)]: Using backend ThreadingBackend with 12 concurrent workers.\n",
      "[Parallel(n_jobs=12)]: Done   1 tasks      | elapsed:    0.0s\n",
      "[Parallel(n_jobs=12)]: Done   8 tasks      | elapsed:    0.0s\n",
      "[Parallel(n_jobs=12)]: Done  17 tasks      | elapsed:    0.0s\n",
      "[Parallel(n_jobs=12)]: Done  26 tasks      | elapsed:    0.0s\n",
      "[Parallel(n_jobs=12)]: Done  37 tasks      | elapsed:    0.0s\n",
      "[Parallel(n_jobs=12)]: Done  48 tasks      | elapsed:    0.0s\n",
      "[Parallel(n_jobs=12)]: Done  61 tasks      | elapsed:    0.0s\n",
      "[Parallel(n_jobs=12)]: Done  74 tasks      | elapsed:    0.0s\n",
      "[Parallel(n_jobs=12)]: Done  88 out of 100 | elapsed:    0.0s remaining:    0.0s\n",
      "[Parallel(n_jobs=12)]: Done 100 out of 100 | elapsed:    0.0s finished\n",
      "[Parallel(n_jobs=-1)]: Using backend LokyBackend with 12 concurrent workers.\n",
      "[Parallel(n_jobs=-1)]: Done   1 tasks      | elapsed:    3.1s\n",
      "[Parallel(n_jobs=-1)]: Done   8 tasks      | elapsed:    3.2s\n",
      "[Parallel(n_jobs=-1)]: Done  17 tasks      | elapsed:    6.5s\n",
      "[Parallel(n_jobs=-1)]: Done  26 tasks      | elapsed:    9.7s\n",
      "[Parallel(n_jobs=-1)]: Done  37 tasks      | elapsed:   12.9s\n",
      "[Parallel(n_jobs=-1)]: Done  48 tasks      | elapsed:   13.7s\n",
      "[Parallel(n_jobs=-1)]: Done  61 tasks      | elapsed:   19.5s\n",
      "[Parallel(n_jobs=-1)]: Done  74 tasks      | elapsed:   22.9s\n",
      "[Parallel(n_jobs=-1)]: Done  88 out of 100 | elapsed:   26.6s remaining:    3.5s\n",
      "[Parallel(n_jobs=-1)]: Done 100 out of 100 | elapsed:   28.4s finished\n"
     ]
    },
    {
     "name": "stdout",
     "output_type": "stream",
     "text": [
      "Using ThreadingBackend as joblib.Parallel backend instead of LokyBackend as the latter does not provide shared memory semantics.\n"
     ]
    },
    {
     "name": "stderr",
     "output_type": "stream",
     "text": [
      "[Parallel(n_jobs=12)]: Using backend ThreadingBackend with 12 concurrent workers.\n",
      "[Parallel(n_jobs=12)]: Done   1 tasks      | elapsed:    0.0s\n",
      "[Parallel(n_jobs=12)]: Done   8 tasks      | elapsed:    0.0s\n",
      "[Parallel(n_jobs=12)]: Done  17 tasks      | elapsed:    0.0s\n",
      "[Parallel(n_jobs=12)]: Done  26 tasks      | elapsed:    0.0s\n",
      "[Parallel(n_jobs=12)]: Done  37 tasks      | elapsed:    0.0s\n",
      "[Parallel(n_jobs=12)]: Done  48 tasks      | elapsed:    0.0s\n",
      "[Parallel(n_jobs=12)]: Done  61 tasks      | elapsed:    0.0s\n",
      "[Parallel(n_jobs=12)]: Done  74 tasks      | elapsed:    0.0s\n",
      "[Parallel(n_jobs=12)]: Done  88 out of 100 | elapsed:    0.0s remaining:    0.0s\n",
      "[Parallel(n_jobs=12)]: Done 100 out of 100 | elapsed:    0.0s finished\n",
      "[Parallel(n_jobs=-1)]: Using backend LokyBackend with 12 concurrent workers.\n",
      "[Parallel(n_jobs=-1)]: Done   1 tasks      | elapsed:    3.3s\n",
      "[Parallel(n_jobs=-1)]: Done   8 tasks      | elapsed:    3.5s\n",
      "[Parallel(n_jobs=-1)]: Done  17 tasks      | elapsed:    7.0s\n",
      "[Parallel(n_jobs=-1)]: Done  26 tasks      | elapsed:   10.2s\n",
      "[Parallel(n_jobs=-1)]: Done  37 tasks      | elapsed:   13.4s\n",
      "[Parallel(n_jobs=-1)]: Done  48 tasks      | elapsed:   14.7s\n",
      "[Parallel(n_jobs=-1)]: Done  61 tasks      | elapsed:   20.5s\n",
      "[Parallel(n_jobs=-1)]: Done  74 tasks      | elapsed:   23.9s\n",
      "[Parallel(n_jobs=-1)]: Done  88 out of 100 | elapsed:   27.5s remaining:    3.7s\n",
      "[Parallel(n_jobs=-1)]: Done 100 out of 100 | elapsed:   29.4s finished\n"
     ]
    },
    {
     "name": "stdout",
     "output_type": "stream",
     "text": [
      "Using ThreadingBackend as joblib.Parallel backend instead of LokyBackend as the latter does not provide shared memory semantics.\n"
     ]
    },
    {
     "name": "stderr",
     "output_type": "stream",
     "text": [
      "[Parallel(n_jobs=12)]: Using backend ThreadingBackend with 12 concurrent workers.\n",
      "[Parallel(n_jobs=12)]: Done   1 tasks      | elapsed:    0.0s\n",
      "[Parallel(n_jobs=12)]: Done   8 tasks      | elapsed:    0.0s\n",
      "[Parallel(n_jobs=12)]: Done  17 tasks      | elapsed:    0.0s\n",
      "[Parallel(n_jobs=12)]: Done  26 tasks      | elapsed:    0.0s\n",
      "[Parallel(n_jobs=12)]: Done  37 tasks      | elapsed:    0.0s\n",
      "[Parallel(n_jobs=12)]: Done  48 tasks      | elapsed:    0.0s\n",
      "[Parallel(n_jobs=12)]: Done  61 tasks      | elapsed:    0.0s\n",
      "[Parallel(n_jobs=12)]: Done  74 tasks      | elapsed:    0.0s\n",
      "[Parallel(n_jobs=12)]: Done  88 out of 100 | elapsed:    0.0s remaining:    0.0s\n",
      "[Parallel(n_jobs=12)]: Done 100 out of 100 | elapsed:    0.0s finished\n",
      "[Parallel(n_jobs=-1)]: Using backend LokyBackend with 12 concurrent workers.\n",
      "[Parallel(n_jobs=-1)]: Done   1 tasks      | elapsed:    3.2s\n",
      "[Parallel(n_jobs=-1)]: Done   8 tasks      | elapsed:    3.3s\n",
      "[Parallel(n_jobs=-1)]: Done  17 tasks      | elapsed:    6.8s\n",
      "[Parallel(n_jobs=-1)]: Done  26 tasks      | elapsed:   10.3s\n",
      "[Parallel(n_jobs=-1)]: Done  37 tasks      | elapsed:   14.0s\n",
      "[Parallel(n_jobs=-1)]: Done  48 tasks      | elapsed:   15.2s\n",
      "[Parallel(n_jobs=-1)]: Done  61 tasks      | elapsed:   20.9s\n",
      "[Parallel(n_jobs=-1)]: Done  74 tasks      | elapsed:   24.4s\n",
      "[Parallel(n_jobs=-1)]: Done  88 out of 100 | elapsed:   28.3s remaining:    3.8s\n",
      "[Parallel(n_jobs=-1)]: Done 100 out of 100 | elapsed:   30.6s finished\n"
     ]
    },
    {
     "name": "stdout",
     "output_type": "stream",
     "text": [
      "Using ThreadingBackend as joblib.Parallel backend instead of LokyBackend as the latter does not provide shared memory semantics.\n"
     ]
    },
    {
     "name": "stderr",
     "output_type": "stream",
     "text": [
      "[Parallel(n_jobs=12)]: Using backend ThreadingBackend with 12 concurrent workers.\n",
      "[Parallel(n_jobs=12)]: Done   1 tasks      | elapsed:    0.0s\n",
      "[Parallel(n_jobs=12)]: Done   8 tasks      | elapsed:    0.0s\n",
      "[Parallel(n_jobs=12)]: Done  17 tasks      | elapsed:    0.0s\n",
      "[Parallel(n_jobs=12)]: Done  26 tasks      | elapsed:    0.0s\n",
      "[Parallel(n_jobs=12)]: Done  37 tasks      | elapsed:    0.0s\n",
      "[Parallel(n_jobs=12)]: Done  48 tasks      | elapsed:    0.0s\n",
      "[Parallel(n_jobs=12)]: Done  61 tasks      | elapsed:    0.0s\n",
      "[Parallel(n_jobs=12)]: Done  74 tasks      | elapsed:    0.0s\n",
      "[Parallel(n_jobs=12)]: Done  88 out of 100 | elapsed:    0.0s remaining:    0.0s\n",
      "[Parallel(n_jobs=12)]: Done 100 out of 100 | elapsed:    0.0s finished\n",
      "[Parallel(n_jobs=-1)]: Using backend LokyBackend with 12 concurrent workers.\n",
      "[Parallel(n_jobs=-1)]: Done   1 tasks      | elapsed:    3.4s\n",
      "[Parallel(n_jobs=-1)]: Done   8 tasks      | elapsed:    3.8s\n",
      "[Parallel(n_jobs=-1)]: Done  17 tasks      | elapsed:    7.4s\n",
      "[Parallel(n_jobs=-1)]: Done  26 tasks      | elapsed:   10.8s\n",
      "[Parallel(n_jobs=-1)]: Done  37 tasks      | elapsed:   14.2s\n",
      "[Parallel(n_jobs=-1)]: Done  48 tasks      | elapsed:   15.6s\n",
      "[Parallel(n_jobs=-1)]: Done  61 tasks      | elapsed:   21.5s\n",
      "[Parallel(n_jobs=-1)]: Done  74 tasks      | elapsed:   25.1s\n",
      "[Parallel(n_jobs=-1)]: Done  88 out of 100 | elapsed:   28.9s remaining:    3.8s\n",
      "[Parallel(n_jobs=-1)]: Done 100 out of 100 | elapsed:   31.4s finished\n"
     ]
    },
    {
     "name": "stdout",
     "output_type": "stream",
     "text": [
      "Using ThreadingBackend as joblib.Parallel backend instead of LokyBackend as the latter does not provide shared memory semantics.\n"
     ]
    },
    {
     "name": "stderr",
     "output_type": "stream",
     "text": [
      "[Parallel(n_jobs=12)]: Using backend ThreadingBackend with 12 concurrent workers.\n",
      "[Parallel(n_jobs=12)]: Done   1 tasks      | elapsed:    0.0s\n",
      "[Parallel(n_jobs=12)]: Done   8 tasks      | elapsed:    0.0s\n",
      "[Parallel(n_jobs=12)]: Done  17 tasks      | elapsed:    0.0s\n",
      "[Parallel(n_jobs=12)]: Done  26 tasks      | elapsed:    0.0s\n",
      "[Parallel(n_jobs=12)]: Done  37 tasks      | elapsed:    0.0s\n",
      "[Parallel(n_jobs=12)]: Done  48 tasks      | elapsed:    0.0s\n",
      "[Parallel(n_jobs=12)]: Done  61 tasks      | elapsed:    0.0s\n",
      "[Parallel(n_jobs=12)]: Done  74 tasks      | elapsed:    0.0s\n",
      "[Parallel(n_jobs=12)]: Done  88 out of 100 | elapsed:    0.0s remaining:    0.0s\n",
      "[Parallel(n_jobs=12)]: Done 100 out of 100 | elapsed:    0.0s finished\n",
      "[Parallel(n_jobs=-1)]: Using backend LokyBackend with 12 concurrent workers.\n",
      "[Parallel(n_jobs=-1)]: Done   1 tasks      | elapsed:    3.4s\n",
      "[Parallel(n_jobs=-1)]: Done   8 tasks      | elapsed:    3.8s\n",
      "[Parallel(n_jobs=-1)]: Done  17 tasks      | elapsed:    7.1s\n",
      "[Parallel(n_jobs=-1)]: Done  26 tasks      | elapsed:   10.3s\n",
      "[Parallel(n_jobs=-1)]: Done  37 tasks      | elapsed:   13.6s\n",
      "[Parallel(n_jobs=-1)]: Done  48 tasks      | elapsed:   15.5s\n",
      "[Parallel(n_jobs=-1)]: Done  61 tasks      | elapsed:   20.5s\n",
      "[Parallel(n_jobs=-1)]: Done  74 tasks      | elapsed:   24.2s\n",
      "[Parallel(n_jobs=-1)]: Done  88 out of 100 | elapsed:   28.0s remaining:    3.7s\n",
      "[Parallel(n_jobs=-1)]: Done 100 out of 100 | elapsed:   29.9s finished\n"
     ]
    },
    {
     "name": "stdout",
     "output_type": "stream",
     "text": [
      "Using ThreadingBackend as joblib.Parallel backend instead of LokyBackend as the latter does not provide shared memory semantics.\n"
     ]
    },
    {
     "name": "stderr",
     "output_type": "stream",
     "text": [
      "[Parallel(n_jobs=12)]: Using backend ThreadingBackend with 12 concurrent workers.\n",
      "[Parallel(n_jobs=12)]: Done   1 tasks      | elapsed:    0.0s\n",
      "[Parallel(n_jobs=12)]: Done   8 tasks      | elapsed:    0.0s\n",
      "[Parallel(n_jobs=12)]: Done  17 tasks      | elapsed:    0.0s\n",
      "[Parallel(n_jobs=12)]: Done  26 tasks      | elapsed:    0.0s\n",
      "[Parallel(n_jobs=12)]: Done  37 tasks      | elapsed:    0.0s\n",
      "[Parallel(n_jobs=12)]: Done  48 tasks      | elapsed:    0.0s\n",
      "[Parallel(n_jobs=12)]: Done  61 tasks      | elapsed:    0.0s\n",
      "[Parallel(n_jobs=12)]: Done  74 tasks      | elapsed:    0.0s\n",
      "[Parallel(n_jobs=12)]: Done  88 out of 100 | elapsed:    0.0s remaining:    0.0s\n",
      "[Parallel(n_jobs=12)]: Done 100 out of 100 | elapsed:    0.0s finished\n",
      "[Parallel(n_jobs=-1)]: Using backend LokyBackend with 12 concurrent workers.\n",
      "[Parallel(n_jobs=-1)]: Done   1 tasks      | elapsed:    3.5s\n",
      "[Parallel(n_jobs=-1)]: Done   8 tasks      | elapsed:    3.7s\n",
      "[Parallel(n_jobs=-1)]: Done  17 tasks      | elapsed:    7.8s\n",
      "[Parallel(n_jobs=-1)]: Done  26 tasks      | elapsed:   11.2s\n",
      "[Parallel(n_jobs=-1)]: Done  37 tasks      | elapsed:   14.5s\n",
      "[Parallel(n_jobs=-1)]: Done  48 tasks      | elapsed:   15.8s\n",
      "[Parallel(n_jobs=-1)]: Done  61 tasks      | elapsed:   21.2s\n",
      "[Parallel(n_jobs=-1)]: Done  74 tasks      | elapsed:   24.9s\n",
      "[Parallel(n_jobs=-1)]: Done  88 out of 100 | elapsed:   28.4s remaining:    3.8s\n",
      "[Parallel(n_jobs=-1)]: Done 100 out of 100 | elapsed:   30.7s finished\n"
     ]
    },
    {
     "name": "stdout",
     "output_type": "stream",
     "text": [
      "Using ThreadingBackend as joblib.Parallel backend instead of LokyBackend as the latter does not provide shared memory semantics.\n"
     ]
    },
    {
     "name": "stderr",
     "output_type": "stream",
     "text": [
      "[Parallel(n_jobs=12)]: Using backend ThreadingBackend with 12 concurrent workers.\n",
      "[Parallel(n_jobs=12)]: Done   1 tasks      | elapsed:    0.0s\n",
      "[Parallel(n_jobs=12)]: Done   8 tasks      | elapsed:    0.0s\n",
      "[Parallel(n_jobs=12)]: Done  17 tasks      | elapsed:    0.0s\n",
      "[Parallel(n_jobs=12)]: Done  26 tasks      | elapsed:    0.0s\n",
      "[Parallel(n_jobs=12)]: Done  37 tasks      | elapsed:    0.0s\n",
      "[Parallel(n_jobs=12)]: Done  48 tasks      | elapsed:    0.0s\n",
      "[Parallel(n_jobs=12)]: Done  61 tasks      | elapsed:    0.0s\n",
      "[Parallel(n_jobs=12)]: Done  74 tasks      | elapsed:    0.0s\n",
      "[Parallel(n_jobs=12)]: Done  88 out of 100 | elapsed:    0.0s remaining:    0.0s\n",
      "[Parallel(n_jobs=12)]: Done 100 out of 100 | elapsed:    0.0s finished\n",
      "[Parallel(n_jobs=-1)]: Using backend LokyBackend with 12 concurrent workers.\n",
      "[Parallel(n_jobs=-1)]: Done   1 tasks      | elapsed:    3.4s\n",
      "[Parallel(n_jobs=-1)]: Done   8 tasks      | elapsed:    3.7s\n",
      "[Parallel(n_jobs=-1)]: Done  17 tasks      | elapsed:    7.2s\n",
      "[Parallel(n_jobs=-1)]: Done  26 tasks      | elapsed:   10.4s\n",
      "[Parallel(n_jobs=-1)]: Done  37 tasks      | elapsed:   13.6s\n",
      "[Parallel(n_jobs=-1)]: Done  48 tasks      | elapsed:   15.1s\n",
      "[Parallel(n_jobs=-1)]: Done  61 tasks      | elapsed:   20.5s\n",
      "[Parallel(n_jobs=-1)]: Done  74 tasks      | elapsed:   24.5s\n",
      "[Parallel(n_jobs=-1)]: Done  88 out of 100 | elapsed:   28.1s remaining:    3.7s\n",
      "[Parallel(n_jobs=-1)]: Done 100 out of 100 | elapsed:   30.3s finished\n"
     ]
    },
    {
     "name": "stdout",
     "output_type": "stream",
     "text": [
      "Using ThreadingBackend as joblib.Parallel backend instead of LokyBackend as the latter does not provide shared memory semantics.\n"
     ]
    },
    {
     "name": "stderr",
     "output_type": "stream",
     "text": [
      "[Parallel(n_jobs=12)]: Using backend ThreadingBackend with 12 concurrent workers.\n",
      "[Parallel(n_jobs=12)]: Done   1 tasks      | elapsed:    0.0s\n",
      "[Parallel(n_jobs=12)]: Done   8 tasks      | elapsed:    0.0s\n",
      "[Parallel(n_jobs=12)]: Done  17 tasks      | elapsed:    0.0s\n",
      "[Parallel(n_jobs=12)]: Done  26 tasks      | elapsed:    0.0s\n",
      "[Parallel(n_jobs=12)]: Done  37 tasks      | elapsed:    0.0s\n",
      "[Parallel(n_jobs=12)]: Done  48 tasks      | elapsed:    0.0s\n",
      "[Parallel(n_jobs=12)]: Done  61 tasks      | elapsed:    0.0s\n",
      "[Parallel(n_jobs=12)]: Done  74 tasks      | elapsed:    0.0s\n",
      "[Parallel(n_jobs=12)]: Done  88 out of 100 | elapsed:    0.0s remaining:    0.0s\n",
      "[Parallel(n_jobs=12)]: Done 100 out of 100 | elapsed:    0.0s finished\n",
      "[Parallel(n_jobs=-1)]: Using backend LokyBackend with 12 concurrent workers.\n",
      "[Parallel(n_jobs=-1)]: Done   1 tasks      | elapsed:    3.4s\n",
      "[Parallel(n_jobs=-1)]: Done   8 tasks      | elapsed:    4.2s\n",
      "[Parallel(n_jobs=-1)]: Done  17 tasks      | elapsed:    7.2s\n",
      "[Parallel(n_jobs=-1)]: Done  26 tasks      | elapsed:   10.7s\n",
      "[Parallel(n_jobs=-1)]: Done  37 tasks      | elapsed:   14.3s\n",
      "[Parallel(n_jobs=-1)]: Done  48 tasks      | elapsed:   16.1s\n",
      "[Parallel(n_jobs=-1)]: Done  61 tasks      | elapsed:   21.5s\n",
      "[Parallel(n_jobs=-1)]: Done  74 tasks      | elapsed:   25.0s\n",
      "[Parallel(n_jobs=-1)]: Done  88 out of 100 | elapsed:   29.2s remaining:    3.9s\n",
      "[Parallel(n_jobs=-1)]: Done 100 out of 100 | elapsed:   31.3s finished\n"
     ]
    },
    {
     "name": "stdout",
     "output_type": "stream",
     "text": [
      "Using ThreadingBackend as joblib.Parallel backend instead of LokyBackend as the latter does not provide shared memory semantics.\n"
     ]
    },
    {
     "name": "stderr",
     "output_type": "stream",
     "text": [
      "[Parallel(n_jobs=12)]: Using backend ThreadingBackend with 12 concurrent workers.\n",
      "[Parallel(n_jobs=12)]: Done   1 tasks      | elapsed:    0.0s\n",
      "[Parallel(n_jobs=12)]: Done   8 tasks      | elapsed:    0.0s\n",
      "[Parallel(n_jobs=12)]: Done  17 tasks      | elapsed:    0.0s\n",
      "[Parallel(n_jobs=12)]: Done  26 tasks      | elapsed:    0.0s\n",
      "[Parallel(n_jobs=12)]: Done  37 tasks      | elapsed:    0.0s\n",
      "[Parallel(n_jobs=12)]: Done  48 tasks      | elapsed:    0.0s\n",
      "[Parallel(n_jobs=12)]: Done  61 tasks      | elapsed:    0.0s\n",
      "[Parallel(n_jobs=12)]: Done  74 tasks      | elapsed:    0.0s\n",
      "[Parallel(n_jobs=12)]: Done  88 out of 100 | elapsed:    0.0s remaining:    0.0s\n",
      "[Parallel(n_jobs=12)]: Done 100 out of 100 | elapsed:    0.0s finished\n",
      "[Parallel(n_jobs=-1)]: Using backend LokyBackend with 12 concurrent workers.\n",
      "[Parallel(n_jobs=-1)]: Done   1 tasks      | elapsed:    3.2s\n",
      "[Parallel(n_jobs=-1)]: Done   8 tasks      | elapsed:    3.3s\n",
      "[Parallel(n_jobs=-1)]: Done  17 tasks      | elapsed:    6.5s\n",
      "[Parallel(n_jobs=-1)]: Done  26 tasks      | elapsed:    9.6s\n",
      "[Parallel(n_jobs=-1)]: Done  37 tasks      | elapsed:   12.8s\n",
      "[Parallel(n_jobs=-1)]: Done  48 tasks      | elapsed:   14.0s\n",
      "[Parallel(n_jobs=-1)]: Done  61 tasks      | elapsed:   19.8s\n",
      "[Parallel(n_jobs=-1)]: Done  74 tasks      | elapsed:   23.5s\n",
      "[Parallel(n_jobs=-1)]: Done  88 out of 100 | elapsed:   27.5s remaining:    3.7s\n",
      "[Parallel(n_jobs=-1)]: Done 100 out of 100 | elapsed:   29.5s finished\n"
     ]
    },
    {
     "name": "stdout",
     "output_type": "stream",
     "text": [
      "Using ThreadingBackend as joblib.Parallel backend instead of LokyBackend as the latter does not provide shared memory semantics.\n"
     ]
    },
    {
     "name": "stderr",
     "output_type": "stream",
     "text": [
      "[Parallel(n_jobs=12)]: Using backend ThreadingBackend with 12 concurrent workers.\n",
      "[Parallel(n_jobs=12)]: Done   1 tasks      | elapsed:    0.0s\n",
      "[Parallel(n_jobs=12)]: Done   8 tasks      | elapsed:    0.0s\n",
      "[Parallel(n_jobs=12)]: Done  17 tasks      | elapsed:    0.0s\n",
      "[Parallel(n_jobs=12)]: Done  26 tasks      | elapsed:    0.0s\n",
      "[Parallel(n_jobs=12)]: Done  37 tasks      | elapsed:    0.0s\n",
      "[Parallel(n_jobs=12)]: Done  48 tasks      | elapsed:    0.0s\n",
      "[Parallel(n_jobs=12)]: Done  61 tasks      | elapsed:    0.0s\n",
      "[Parallel(n_jobs=12)]: Done  74 tasks      | elapsed:    0.0s\n",
      "[Parallel(n_jobs=12)]: Done  88 out of 100 | elapsed:    0.0s remaining:    0.0s\n",
      "[Parallel(n_jobs=12)]: Done 100 out of 100 | elapsed:    0.0s finished\n",
      "[Parallel(n_jobs=-1)]: Using backend LokyBackend with 12 concurrent workers.\n",
      "[Parallel(n_jobs=-1)]: Done   1 tasks      | elapsed:    3.5s\n",
      "[Parallel(n_jobs=-1)]: Done   8 tasks      | elapsed:    3.8s\n",
      "[Parallel(n_jobs=-1)]: Done  17 tasks      | elapsed:    7.3s\n",
      "[Parallel(n_jobs=-1)]: Done  26 tasks      | elapsed:   10.4s\n",
      "[Parallel(n_jobs=-1)]: Done  37 tasks      | elapsed:   13.5s\n",
      "[Parallel(n_jobs=-1)]: Done  48 tasks      | elapsed:   14.7s\n",
      "[Parallel(n_jobs=-1)]: Done  61 tasks      | elapsed:   20.4s\n",
      "[Parallel(n_jobs=-1)]: Done  74 tasks      | elapsed:   24.3s\n",
      "[Parallel(n_jobs=-1)]: Done  88 out of 100 | elapsed:   27.8s remaining:    3.7s\n",
      "[Parallel(n_jobs=-1)]: Done 100 out of 100 | elapsed:   29.6s finished\n"
     ]
    },
    {
     "name": "stdout",
     "output_type": "stream",
     "text": [
      "Using ThreadingBackend as joblib.Parallel backend instead of LokyBackend as the latter does not provide shared memory semantics.\n"
     ]
    },
    {
     "name": "stderr",
     "output_type": "stream",
     "text": [
      "[Parallel(n_jobs=12)]: Using backend ThreadingBackend with 12 concurrent workers.\n",
      "[Parallel(n_jobs=12)]: Done   1 tasks      | elapsed:    0.0s\n",
      "[Parallel(n_jobs=12)]: Done   8 tasks      | elapsed:    0.0s\n",
      "[Parallel(n_jobs=12)]: Done  17 tasks      | elapsed:    0.0s\n",
      "[Parallel(n_jobs=12)]: Done  26 tasks      | elapsed:    0.0s\n",
      "[Parallel(n_jobs=12)]: Done  37 tasks      | elapsed:    0.0s\n",
      "[Parallel(n_jobs=12)]: Done  48 tasks      | elapsed:    0.0s\n",
      "[Parallel(n_jobs=12)]: Done  61 tasks      | elapsed:    0.0s\n",
      "[Parallel(n_jobs=12)]: Done  74 tasks      | elapsed:    0.0s\n",
      "[Parallel(n_jobs=12)]: Done  88 out of 100 | elapsed:    0.0s remaining:    0.0s\n",
      "[Parallel(n_jobs=12)]: Done 100 out of 100 | elapsed:    0.0s finished\n",
      "[Parallel(n_jobs=-1)]: Using backend LokyBackend with 12 concurrent workers.\n",
      "[Parallel(n_jobs=-1)]: Done   1 tasks      | elapsed:    3.2s\n",
      "[Parallel(n_jobs=-1)]: Done   8 tasks      | elapsed:    3.3s\n",
      "[Parallel(n_jobs=-1)]: Done  17 tasks      | elapsed:    6.6s\n",
      "[Parallel(n_jobs=-1)]: Done  26 tasks      | elapsed:    9.8s\n",
      "[Parallel(n_jobs=-1)]: Done  37 tasks      | elapsed:   13.1s\n",
      "[Parallel(n_jobs=-1)]: Done  48 tasks      | elapsed:   14.6s\n",
      "[Parallel(n_jobs=-1)]: Done  61 tasks      | elapsed:   19.7s\n",
      "[Parallel(n_jobs=-1)]: Done  74 tasks      | elapsed:   23.0s\n",
      "[Parallel(n_jobs=-1)]: Done  88 out of 100 | elapsed:   26.7s remaining:    3.5s\n",
      "[Parallel(n_jobs=-1)]: Done 100 out of 100 | elapsed:   28.7s finished\n"
     ]
    },
    {
     "name": "stdout",
     "output_type": "stream",
     "text": [
      "Using ThreadingBackend as joblib.Parallel backend instead of LokyBackend as the latter does not provide shared memory semantics.\n"
     ]
    },
    {
     "name": "stderr",
     "output_type": "stream",
     "text": [
      "[Parallel(n_jobs=12)]: Using backend ThreadingBackend with 12 concurrent workers.\n",
      "[Parallel(n_jobs=12)]: Done   1 tasks      | elapsed:    0.0s\n",
      "[Parallel(n_jobs=12)]: Done   8 tasks      | elapsed:    0.0s\n",
      "[Parallel(n_jobs=12)]: Done  17 tasks      | elapsed:    0.0s\n",
      "[Parallel(n_jobs=12)]: Done  26 tasks      | elapsed:    0.0s\n",
      "[Parallel(n_jobs=12)]: Done  37 tasks      | elapsed:    0.0s\n",
      "[Parallel(n_jobs=12)]: Done  48 tasks      | elapsed:    0.0s\n",
      "[Parallel(n_jobs=12)]: Done  61 tasks      | elapsed:    0.0s\n",
      "[Parallel(n_jobs=12)]: Done  74 tasks      | elapsed:    0.0s\n",
      "[Parallel(n_jobs=12)]: Done  88 out of 100 | elapsed:    0.0s remaining:    0.0s\n",
      "[Parallel(n_jobs=12)]: Done 100 out of 100 | elapsed:    0.0s finished\n",
      "[Parallel(n_jobs=-1)]: Using backend LokyBackend with 12 concurrent workers.\n",
      "[Parallel(n_jobs=-1)]: Done   1 tasks      | elapsed:    3.4s\n",
      "[Parallel(n_jobs=-1)]: Done   8 tasks      | elapsed:    3.6s\n",
      "[Parallel(n_jobs=-1)]: Done  17 tasks      | elapsed:    6.9s\n",
      "[Parallel(n_jobs=-1)]: Done  26 tasks      | elapsed:   10.2s\n",
      "[Parallel(n_jobs=-1)]: Done  37 tasks      | elapsed:   13.7s\n",
      "[Parallel(n_jobs=-1)]: Done  48 tasks      | elapsed:   15.4s\n",
      "[Parallel(n_jobs=-1)]: Done  61 tasks      | elapsed:   20.3s\n",
      "[Parallel(n_jobs=-1)]: Done  74 tasks      | elapsed:   23.8s\n",
      "[Parallel(n_jobs=-1)]: Done  88 out of 100 | elapsed:   28.3s remaining:    3.8s\n",
      "[Parallel(n_jobs=-1)]: Done 100 out of 100 | elapsed:   30.0s finished\n"
     ]
    },
    {
     "name": "stdout",
     "output_type": "stream",
     "text": [
      "Using ThreadingBackend as joblib.Parallel backend instead of LokyBackend as the latter does not provide shared memory semantics.\n"
     ]
    },
    {
     "name": "stderr",
     "output_type": "stream",
     "text": [
      "[Parallel(n_jobs=12)]: Using backend ThreadingBackend with 12 concurrent workers.\n",
      "[Parallel(n_jobs=12)]: Done   1 tasks      | elapsed:    0.0s\n",
      "[Parallel(n_jobs=12)]: Done   8 tasks      | elapsed:    0.0s\n",
      "[Parallel(n_jobs=12)]: Done  17 tasks      | elapsed:    0.0s\n",
      "[Parallel(n_jobs=12)]: Done  26 tasks      | elapsed:    0.0s\n",
      "[Parallel(n_jobs=12)]: Done  37 tasks      | elapsed:    0.0s\n",
      "[Parallel(n_jobs=12)]: Done  48 tasks      | elapsed:    0.0s\n",
      "[Parallel(n_jobs=12)]: Done  61 tasks      | elapsed:    0.0s\n",
      "[Parallel(n_jobs=12)]: Done  74 tasks      | elapsed:    0.0s\n",
      "[Parallel(n_jobs=12)]: Done  88 out of 100 | elapsed:    0.0s remaining:    0.0s\n",
      "[Parallel(n_jobs=12)]: Done 100 out of 100 | elapsed:    0.0s finished\n",
      "[Parallel(n_jobs=-1)]: Using backend LokyBackend with 12 concurrent workers.\n",
      "[Parallel(n_jobs=-1)]: Done   1 tasks      | elapsed:    3.1s\n",
      "[Parallel(n_jobs=-1)]: Done   8 tasks      | elapsed:    3.3s\n",
      "[Parallel(n_jobs=-1)]: Done  17 tasks      | elapsed:    6.5s\n",
      "[Parallel(n_jobs=-1)]: Done  26 tasks      | elapsed:    9.7s\n",
      "[Parallel(n_jobs=-1)]: Done  37 tasks      | elapsed:   12.9s\n",
      "[Parallel(n_jobs=-1)]: Done  48 tasks      | elapsed:   14.2s\n",
      "[Parallel(n_jobs=-1)]: Done  61 tasks      | elapsed:   19.4s\n",
      "[Parallel(n_jobs=-1)]: Done  74 tasks      | elapsed:   23.2s\n",
      "[Parallel(n_jobs=-1)]: Done  88 out of 100 | elapsed:   26.8s remaining:    3.6s\n",
      "[Parallel(n_jobs=-1)]: Done 100 out of 100 | elapsed:   28.9s finished\n"
     ]
    },
    {
     "name": "stdout",
     "output_type": "stream",
     "text": [
      "Using ThreadingBackend as joblib.Parallel backend instead of LokyBackend as the latter does not provide shared memory semantics.\n"
     ]
    },
    {
     "name": "stderr",
     "output_type": "stream",
     "text": [
      "[Parallel(n_jobs=12)]: Using backend ThreadingBackend with 12 concurrent workers.\n",
      "[Parallel(n_jobs=12)]: Done   1 tasks      | elapsed:    0.0s\n",
      "[Parallel(n_jobs=12)]: Done   8 tasks      | elapsed:    0.0s\n",
      "[Parallel(n_jobs=12)]: Done  17 tasks      | elapsed:    0.0s\n",
      "[Parallel(n_jobs=12)]: Done  26 tasks      | elapsed:    0.0s\n",
      "[Parallel(n_jobs=12)]: Done  37 tasks      | elapsed:    0.0s\n",
      "[Parallel(n_jobs=12)]: Done  48 tasks      | elapsed:    0.0s\n",
      "[Parallel(n_jobs=12)]: Done  61 tasks      | elapsed:    0.0s\n",
      "[Parallel(n_jobs=12)]: Done  74 tasks      | elapsed:    0.0s\n",
      "[Parallel(n_jobs=12)]: Done  88 out of 100 | elapsed:    0.0s remaining:    0.0s\n",
      "[Parallel(n_jobs=12)]: Done 100 out of 100 | elapsed:    0.0s finished\n",
      "[Parallel(n_jobs=-1)]: Using backend LokyBackend with 12 concurrent workers.\n",
      "[Parallel(n_jobs=-1)]: Done   1 tasks      | elapsed:    3.2s\n",
      "[Parallel(n_jobs=-1)]: Done   8 tasks      | elapsed:    3.4s\n",
      "[Parallel(n_jobs=-1)]: Done  17 tasks      | elapsed:    6.8s\n",
      "[Parallel(n_jobs=-1)]: Done  26 tasks      | elapsed:    9.9s\n",
      "[Parallel(n_jobs=-1)]: Done  37 tasks      | elapsed:   13.3s\n",
      "[Parallel(n_jobs=-1)]: Done  48 tasks      | elapsed:   14.7s\n",
      "[Parallel(n_jobs=-1)]: Done  61 tasks      | elapsed:   19.8s\n",
      "[Parallel(n_jobs=-1)]: Done  74 tasks      | elapsed:   23.3s\n",
      "[Parallel(n_jobs=-1)]: Done  88 out of 100 | elapsed:   26.8s remaining:    3.6s\n",
      "[Parallel(n_jobs=-1)]: Done 100 out of 100 | elapsed:   28.6s finished\n"
     ]
    },
    {
     "name": "stdout",
     "output_type": "stream",
     "text": [
      "Using ThreadingBackend as joblib.Parallel backend instead of LokyBackend as the latter does not provide shared memory semantics.\n"
     ]
    },
    {
     "name": "stderr",
     "output_type": "stream",
     "text": [
      "[Parallel(n_jobs=12)]: Using backend ThreadingBackend with 12 concurrent workers.\n",
      "[Parallel(n_jobs=12)]: Done   1 tasks      | elapsed:    0.0s\n",
      "[Parallel(n_jobs=12)]: Done   8 tasks      | elapsed:    0.0s\n",
      "[Parallel(n_jobs=12)]: Done  17 tasks      | elapsed:    0.0s\n",
      "[Parallel(n_jobs=12)]: Done  26 tasks      | elapsed:    0.0s\n",
      "[Parallel(n_jobs=12)]: Done  37 tasks      | elapsed:    0.0s\n",
      "[Parallel(n_jobs=12)]: Done  48 tasks      | elapsed:    0.0s\n",
      "[Parallel(n_jobs=12)]: Done  61 tasks      | elapsed:    0.0s\n",
      "[Parallel(n_jobs=12)]: Done  74 tasks      | elapsed:    0.0s\n",
      "[Parallel(n_jobs=12)]: Done  88 out of 100 | elapsed:    0.0s remaining:    0.0s\n",
      "[Parallel(n_jobs=12)]: Done 100 out of 100 | elapsed:    0.0s finished\n",
      "[Parallel(n_jobs=-1)]: Using backend LokyBackend with 12 concurrent workers.\n",
      "[Parallel(n_jobs=-1)]: Done   1 tasks      | elapsed:    3.2s\n",
      "[Parallel(n_jobs=-1)]: Done   8 tasks      | elapsed:    3.2s\n",
      "[Parallel(n_jobs=-1)]: Done  17 tasks      | elapsed:    7.2s\n",
      "[Parallel(n_jobs=-1)]: Done  26 tasks      | elapsed:   10.5s\n",
      "[Parallel(n_jobs=-1)]: Done  37 tasks      | elapsed:   13.6s\n",
      "[Parallel(n_jobs=-1)]: Done  48 tasks      | elapsed:   15.0s\n",
      "[Parallel(n_jobs=-1)]: Done  61 tasks      | elapsed:   20.5s\n",
      "[Parallel(n_jobs=-1)]: Done  74 tasks      | elapsed:   24.0s\n",
      "[Parallel(n_jobs=-1)]: Done  88 out of 100 | elapsed:   27.6s remaining:    3.7s\n",
      "[Parallel(n_jobs=-1)]: Done 100 out of 100 | elapsed:   29.5s finished\n"
     ]
    },
    {
     "name": "stdout",
     "output_type": "stream",
     "text": [
      "Using ThreadingBackend as joblib.Parallel backend instead of LokyBackend as the latter does not provide shared memory semantics.\n"
     ]
    },
    {
     "name": "stderr",
     "output_type": "stream",
     "text": [
      "[Parallel(n_jobs=12)]: Using backend ThreadingBackend with 12 concurrent workers.\n",
      "[Parallel(n_jobs=12)]: Done   1 tasks      | elapsed:    0.0s\n",
      "[Parallel(n_jobs=12)]: Done   8 tasks      | elapsed:    0.0s\n",
      "[Parallel(n_jobs=12)]: Done  17 tasks      | elapsed:    0.0s\n",
      "[Parallel(n_jobs=12)]: Done  26 tasks      | elapsed:    0.0s\n",
      "[Parallel(n_jobs=12)]: Done  37 tasks      | elapsed:    0.0s\n",
      "[Parallel(n_jobs=12)]: Done  48 tasks      | elapsed:    0.0s\n",
      "[Parallel(n_jobs=12)]: Done  61 tasks      | elapsed:    0.0s\n",
      "[Parallel(n_jobs=12)]: Done  74 tasks      | elapsed:    0.0s\n",
      "[Parallel(n_jobs=12)]: Done  88 out of 100 | elapsed:    0.0s remaining:    0.0s\n",
      "[Parallel(n_jobs=12)]: Done 100 out of 100 | elapsed:    0.0s finished\n",
      "[Parallel(n_jobs=-1)]: Using backend LokyBackend with 12 concurrent workers.\n",
      "[Parallel(n_jobs=-1)]: Done   1 tasks      | elapsed:    3.4s\n",
      "[Parallel(n_jobs=-1)]: Done   8 tasks      | elapsed:    3.7s\n",
      "[Parallel(n_jobs=-1)]: Done  17 tasks      | elapsed:    7.2s\n",
      "[Parallel(n_jobs=-1)]: Done  26 tasks      | elapsed:   10.4s\n",
      "[Parallel(n_jobs=-1)]: Done  37 tasks      | elapsed:   13.8s\n",
      "[Parallel(n_jobs=-1)]: Done  48 tasks      | elapsed:   14.9s\n",
      "[Parallel(n_jobs=-1)]: Done  61 tasks      | elapsed:   20.9s\n",
      "[Parallel(n_jobs=-1)]: Done  74 tasks      | elapsed:   24.7s\n",
      "[Parallel(n_jobs=-1)]: Done  88 out of 100 | elapsed:   28.5s remaining:    3.8s\n",
      "[Parallel(n_jobs=-1)]: Done 100 out of 100 | elapsed:   30.2s finished\n"
     ]
    },
    {
     "name": "stdout",
     "output_type": "stream",
     "text": [
      "Using ThreadingBackend as joblib.Parallel backend instead of LokyBackend as the latter does not provide shared memory semantics.\n"
     ]
    },
    {
     "name": "stderr",
     "output_type": "stream",
     "text": [
      "[Parallel(n_jobs=12)]: Using backend ThreadingBackend with 12 concurrent workers.\n",
      "[Parallel(n_jobs=12)]: Done   1 tasks      | elapsed:    0.0s\n",
      "[Parallel(n_jobs=12)]: Done   8 tasks      | elapsed:    0.0s\n",
      "[Parallel(n_jobs=12)]: Done  17 tasks      | elapsed:    0.0s\n",
      "[Parallel(n_jobs=12)]: Done  26 tasks      | elapsed:    0.0s\n",
      "[Parallel(n_jobs=12)]: Done  37 tasks      | elapsed:    0.0s\n",
      "[Parallel(n_jobs=12)]: Done  48 tasks      | elapsed:    0.0s\n",
      "[Parallel(n_jobs=12)]: Done  61 tasks      | elapsed:    0.0s\n",
      "[Parallel(n_jobs=12)]: Done  74 tasks      | elapsed:    0.0s\n",
      "[Parallel(n_jobs=12)]: Done  88 out of 100 | elapsed:    0.0s remaining:    0.0s\n",
      "[Parallel(n_jobs=12)]: Done 100 out of 100 | elapsed:    0.0s finished\n",
      "[Parallel(n_jobs=-1)]: Using backend LokyBackend with 12 concurrent workers.\n",
      "[Parallel(n_jobs=-1)]: Done   1 tasks      | elapsed:    3.2s\n",
      "[Parallel(n_jobs=-1)]: Done   8 tasks      | elapsed:    3.4s\n",
      "[Parallel(n_jobs=-1)]: Done  17 tasks      | elapsed:    6.6s\n",
      "[Parallel(n_jobs=-1)]: Done  26 tasks      | elapsed:    9.8s\n",
      "[Parallel(n_jobs=-1)]: Done  37 tasks      | elapsed:   13.0s\n",
      "[Parallel(n_jobs=-1)]: Done  48 tasks      | elapsed:   14.3s\n",
      "[Parallel(n_jobs=-1)]: Done  61 tasks      | elapsed:   19.5s\n",
      "[Parallel(n_jobs=-1)]: Done  74 tasks      | elapsed:   22.8s\n",
      "[Parallel(n_jobs=-1)]: Done  88 out of 100 | elapsed:   26.5s remaining:    3.5s\n",
      "[Parallel(n_jobs=-1)]: Done 100 out of 100 | elapsed:   28.3s finished\n"
     ]
    },
    {
     "name": "stdout",
     "output_type": "stream",
     "text": [
      "Using ThreadingBackend as joblib.Parallel backend instead of LokyBackend as the latter does not provide shared memory semantics.\n"
     ]
    },
    {
     "name": "stderr",
     "output_type": "stream",
     "text": [
      "[Parallel(n_jobs=12)]: Using backend ThreadingBackend with 12 concurrent workers.\n",
      "[Parallel(n_jobs=12)]: Done   1 tasks      | elapsed:    0.0s\n",
      "[Parallel(n_jobs=12)]: Done   8 tasks      | elapsed:    0.0s\n",
      "[Parallel(n_jobs=12)]: Done  17 tasks      | elapsed:    0.0s\n",
      "[Parallel(n_jobs=12)]: Done  26 tasks      | elapsed:    0.0s\n",
      "[Parallel(n_jobs=12)]: Done  37 tasks      | elapsed:    0.0s\n",
      "[Parallel(n_jobs=12)]: Done  48 tasks      | elapsed:    0.0s\n",
      "[Parallel(n_jobs=12)]: Done  61 tasks      | elapsed:    0.0s\n",
      "[Parallel(n_jobs=12)]: Done  74 tasks      | elapsed:    0.0s\n",
      "[Parallel(n_jobs=12)]: Done  88 out of 100 | elapsed:    0.0s remaining:    0.0s\n",
      "[Parallel(n_jobs=12)]: Done 100 out of 100 | elapsed:    0.0s finished\n",
      "[Parallel(n_jobs=-1)]: Using backend LokyBackend with 12 concurrent workers.\n",
      "[Parallel(n_jobs=-1)]: Done   1 tasks      | elapsed:    3.1s\n",
      "[Parallel(n_jobs=-1)]: Done   8 tasks      | elapsed:    3.2s\n",
      "[Parallel(n_jobs=-1)]: Done  17 tasks      | elapsed:    6.6s\n",
      "[Parallel(n_jobs=-1)]: Done  26 tasks      | elapsed:    9.8s\n",
      "[Parallel(n_jobs=-1)]: Done  37 tasks      | elapsed:   13.1s\n",
      "[Parallel(n_jobs=-1)]: Done  48 tasks      | elapsed:   14.1s\n",
      "[Parallel(n_jobs=-1)]: Done  61 tasks      | elapsed:   20.4s\n",
      "[Parallel(n_jobs=-1)]: Done  74 tasks      | elapsed:   24.1s\n",
      "[Parallel(n_jobs=-1)]: Done  88 out of 100 | elapsed:   28.1s remaining:    3.7s\n",
      "[Parallel(n_jobs=-1)]: Done 100 out of 100 | elapsed:   30.1s finished\n"
     ]
    },
    {
     "name": "stdout",
     "output_type": "stream",
     "text": [
      "Using ThreadingBackend as joblib.Parallel backend instead of LokyBackend as the latter does not provide shared memory semantics.\n"
     ]
    },
    {
     "name": "stderr",
     "output_type": "stream",
     "text": [
      "[Parallel(n_jobs=12)]: Using backend ThreadingBackend with 12 concurrent workers.\n",
      "[Parallel(n_jobs=12)]: Done   1 tasks      | elapsed:    0.0s\n",
      "[Parallel(n_jobs=12)]: Done   8 tasks      | elapsed:    0.0s\n",
      "[Parallel(n_jobs=12)]: Done  17 tasks      | elapsed:    0.0s\n",
      "[Parallel(n_jobs=12)]: Done  26 tasks      | elapsed:    0.0s\n",
      "[Parallel(n_jobs=12)]: Done  37 tasks      | elapsed:    0.0s\n",
      "[Parallel(n_jobs=12)]: Done  48 tasks      | elapsed:    0.0s\n",
      "[Parallel(n_jobs=12)]: Done  61 tasks      | elapsed:    0.0s\n",
      "[Parallel(n_jobs=12)]: Done  74 tasks      | elapsed:    0.0s\n",
      "[Parallel(n_jobs=12)]: Done  88 out of 100 | elapsed:    0.0s remaining:    0.0s\n",
      "[Parallel(n_jobs=12)]: Done 100 out of 100 | elapsed:    0.0s finished\n",
      "[Parallel(n_jobs=-1)]: Using backend LokyBackend with 12 concurrent workers.\n",
      "[Parallel(n_jobs=-1)]: Done   1 tasks      | elapsed:    3.4s\n",
      "[Parallel(n_jobs=-1)]: Done   8 tasks      | elapsed:    3.6s\n",
      "[Parallel(n_jobs=-1)]: Done  17 tasks      | elapsed:    7.2s\n",
      "[Parallel(n_jobs=-1)]: Done  26 tasks      | elapsed:   10.2s\n",
      "[Parallel(n_jobs=-1)]: Done  37 tasks      | elapsed:   13.5s\n",
      "[Parallel(n_jobs=-1)]: Done  48 tasks      | elapsed:   14.8s\n",
      "[Parallel(n_jobs=-1)]: Done  61 tasks      | elapsed:   20.1s\n",
      "[Parallel(n_jobs=-1)]: Done  74 tasks      | elapsed:   23.7s\n",
      "[Parallel(n_jobs=-1)]: Done  88 out of 100 | elapsed:   27.5s remaining:    3.7s\n",
      "[Parallel(n_jobs=-1)]: Done 100 out of 100 | elapsed:   30.2s finished\n"
     ]
    },
    {
     "name": "stdout",
     "output_type": "stream",
     "text": [
      "Using ThreadingBackend as joblib.Parallel backend instead of LokyBackend as the latter does not provide shared memory semantics.\n"
     ]
    },
    {
     "name": "stderr",
     "output_type": "stream",
     "text": [
      "[Parallel(n_jobs=12)]: Using backend ThreadingBackend with 12 concurrent workers.\n",
      "[Parallel(n_jobs=12)]: Done   1 tasks      | elapsed:    0.0s\n",
      "[Parallel(n_jobs=12)]: Done   8 tasks      | elapsed:    0.0s\n",
      "[Parallel(n_jobs=12)]: Done  17 tasks      | elapsed:    0.0s\n",
      "[Parallel(n_jobs=12)]: Done  26 tasks      | elapsed:    0.0s\n",
      "[Parallel(n_jobs=12)]: Done  37 tasks      | elapsed:    0.0s\n",
      "[Parallel(n_jobs=12)]: Done  48 tasks      | elapsed:    0.0s\n",
      "[Parallel(n_jobs=12)]: Done  61 tasks      | elapsed:    0.0s\n",
      "[Parallel(n_jobs=12)]: Done  74 tasks      | elapsed:    0.0s\n",
      "[Parallel(n_jobs=12)]: Done  88 out of 100 | elapsed:    0.0s remaining:    0.0s\n",
      "[Parallel(n_jobs=12)]: Done 100 out of 100 | elapsed:    0.0s finished\n",
      "[Parallel(n_jobs=-1)]: Using backend LokyBackend with 12 concurrent workers.\n",
      "[Parallel(n_jobs=-1)]: Done   1 tasks      | elapsed:    3.7s\n",
      "[Parallel(n_jobs=-1)]: Done   8 tasks      | elapsed:    3.9s\n",
      "[Parallel(n_jobs=-1)]: Done  17 tasks      | elapsed:    7.3s\n",
      "[Parallel(n_jobs=-1)]: Done  26 tasks      | elapsed:   10.6s\n",
      "[Parallel(n_jobs=-1)]: Done  37 tasks      | elapsed:   13.9s\n",
      "[Parallel(n_jobs=-1)]: Done  48 tasks      | elapsed:   14.9s\n",
      "[Parallel(n_jobs=-1)]: Done  61 tasks      | elapsed:   20.4s\n",
      "[Parallel(n_jobs=-1)]: Done  74 tasks      | elapsed:   23.7s\n",
      "[Parallel(n_jobs=-1)]: Done  88 out of 100 | elapsed:   27.2s remaining:    3.6s\n",
      "[Parallel(n_jobs=-1)]: Done 100 out of 100 | elapsed:   29.0s finished\n"
     ]
    },
    {
     "name": "stdout",
     "output_type": "stream",
     "text": [
      "Using ThreadingBackend as joblib.Parallel backend instead of LokyBackend as the latter does not provide shared memory semantics.\n"
     ]
    },
    {
     "name": "stderr",
     "output_type": "stream",
     "text": [
      "[Parallel(n_jobs=12)]: Using backend ThreadingBackend with 12 concurrent workers.\n",
      "[Parallel(n_jobs=12)]: Done   1 tasks      | elapsed:    0.0s\n",
      "[Parallel(n_jobs=12)]: Done   8 tasks      | elapsed:    0.0s\n",
      "[Parallel(n_jobs=12)]: Done  17 tasks      | elapsed:    0.0s\n",
      "[Parallel(n_jobs=12)]: Done  26 tasks      | elapsed:    0.0s\n",
      "[Parallel(n_jobs=12)]: Done  37 tasks      | elapsed:    0.0s\n",
      "[Parallel(n_jobs=12)]: Done  48 tasks      | elapsed:    0.0s\n",
      "[Parallel(n_jobs=12)]: Done  61 tasks      | elapsed:    0.0s\n",
      "[Parallel(n_jobs=12)]: Done  74 tasks      | elapsed:    0.0s\n",
      "[Parallel(n_jobs=12)]: Done  88 out of 100 | elapsed:    0.0s remaining:    0.0s\n",
      "[Parallel(n_jobs=12)]: Done 100 out of 100 | elapsed:    0.0s finished\n",
      "[Parallel(n_jobs=-1)]: Using backend LokyBackend with 12 concurrent workers.\n",
      "[Parallel(n_jobs=-1)]: Done   1 tasks      | elapsed:    3.1s\n",
      "[Parallel(n_jobs=-1)]: Done   8 tasks      | elapsed:    3.2s\n",
      "[Parallel(n_jobs=-1)]: Done  17 tasks      | elapsed:    6.5s\n",
      "[Parallel(n_jobs=-1)]: Done  26 tasks      | elapsed:    9.5s\n",
      "[Parallel(n_jobs=-1)]: Done  37 tasks      | elapsed:   12.8s\n",
      "[Parallel(n_jobs=-1)]: Done  48 tasks      | elapsed:   14.1s\n",
      "[Parallel(n_jobs=-1)]: Done  61 tasks      | elapsed:   19.3s\n",
      "[Parallel(n_jobs=-1)]: Done  74 tasks      | elapsed:   22.6s\n",
      "[Parallel(n_jobs=-1)]: Done  88 out of 100 | elapsed:   26.0s remaining:    3.5s\n",
      "[Parallel(n_jobs=-1)]: Done 100 out of 100 | elapsed:   28.0s finished\n"
     ]
    },
    {
     "name": "stdout",
     "output_type": "stream",
     "text": [
      "Using ThreadingBackend as joblib.Parallel backend instead of LokyBackend as the latter does not provide shared memory semantics.\n",
      "building tree 1 of 100\n",
      "building tree 2 of 100\n",
      "building tree 3 of 100\n",
      "building tree 4 of 100\n",
      "building tree 5 of 100\n",
      "building tree 6 of 100\n",
      "building tree 7 of 100\n",
      "building tree 8 of 100\n",
      "building tree 9 of 100\n",
      "building tree 10 of 100\n",
      "building tree 11 of 100\n",
      "building tree 12 of 100\n"
     ]
    },
    {
     "name": "stderr",
     "output_type": "stream",
     "text": [
      "[Parallel(n_jobs=12)]: Using backend ThreadingBackend with 12 concurrent workers.\n",
      "[Parallel(n_jobs=12)]: Done   1 tasks      | elapsed:    0.0s\n",
      "[Parallel(n_jobs=12)]: Done   8 tasks      | elapsed:    0.0s\n",
      "[Parallel(n_jobs=12)]: Done  17 tasks      | elapsed:    0.0s\n",
      "[Parallel(n_jobs=12)]: Done  26 tasks      | elapsed:    0.0s\n",
      "[Parallel(n_jobs=12)]: Done  37 tasks      | elapsed:    0.0s\n",
      "[Parallel(n_jobs=12)]: Done  48 tasks      | elapsed:    0.0s\n",
      "[Parallel(n_jobs=12)]: Done  61 tasks      | elapsed:    0.0s\n",
      "[Parallel(n_jobs=12)]: Done  74 tasks      | elapsed:    0.0s\n",
      "[Parallel(n_jobs=12)]: Done  88 out of 100 | elapsed:    0.0s remaining:    0.0s\n",
      "[Parallel(n_jobs=12)]: Done 100 out of 100 | elapsed:    0.0s finished\n",
      "[Parallel(n_jobs=-1)]: Using backend ThreadingBackend with 12 concurrent workers.\n"
     ]
    },
    {
     "name": "stdout",
     "output_type": "stream",
     "text": [
      "building tree 13 of 100\n",
      "building tree 14 of 100\n",
      "building tree 15 of 100\n",
      "building tree 16 of 100\n",
      "building tree 17 of 100\n",
      "building tree 18 of 100\n",
      "building tree 19 of 100\n",
      "building tree 20 of 100\n",
      "building tree 21 of 100\n"
     ]
    },
    {
     "name": "stderr",
     "output_type": "stream",
     "text": [
      "[Parallel(n_jobs=-1)]: Done   1 tasks      | elapsed:    4.4s\n",
      "[Parallel(n_jobs=-1)]: Done   8 tasks      | elapsed:    4.6s\n"
     ]
    },
    {
     "name": "stdout",
     "output_type": "stream",
     "text": [
      "building tree 22 of 100\n",
      "building tree 23 of 100\n",
      "building tree 24 of 100\n",
      "building tree 25 of 100\n",
      "building tree 26 of 100\n",
      "building tree 27 of 100\n",
      "building tree 28 of 100\n",
      "building tree 29 of 100building tree 30 of 100\n",
      "\n",
      "building tree 31 of 100\n",
      "building tree 32 of 100\n",
      "building tree 33 of 100\n"
     ]
    },
    {
     "name": "stderr",
     "output_type": "stream",
     "text": [
      "[Parallel(n_jobs=-1)]: Done  17 tasks      | elapsed:    9.4s\n"
     ]
    },
    {
     "name": "stdout",
     "output_type": "stream",
     "text": [
      "building tree 34 of 100\n",
      "building tree 35 of 100\n",
      "building tree 36 of 100\n",
      "building tree 37 of 100\n",
      "building tree 38 of 100\n",
      "building tree 39 of 100\n"
     ]
    },
    {
     "name": "stderr",
     "output_type": "stream",
     "text": [
      "[Parallel(n_jobs=-1)]: Done  26 tasks      | elapsed:   13.5s\n"
     ]
    },
    {
     "name": "stdout",
     "output_type": "stream",
     "text": [
      "building tree 40 of 100\n",
      "building tree 41 of 100\n",
      "building tree 42 of 100\n",
      "building tree 43 of 100\n",
      "building tree 44 of 100\n",
      "building tree 45 of 100\n",
      "building tree 46 of 100\n",
      "building tree 47 of 100\n",
      "building tree 48 of 100\n",
      "building tree 49 of 100\n",
      "building tree 50 of 100\n"
     ]
    },
    {
     "name": "stderr",
     "output_type": "stream",
     "text": [
      "[Parallel(n_jobs=-1)]: Done  37 tasks      | elapsed:   18.0s\n"
     ]
    },
    {
     "name": "stdout",
     "output_type": "stream",
     "text": [
      "building tree 51 of 100\n",
      "building tree 52 of 100\n",
      "building tree 53 of 100\n",
      "building tree 54 of 100\n",
      "building tree 55 of 100\n",
      "building tree 56 of 100\n",
      "building tree 57 of 100\n",
      "building tree 58 of 100\n",
      "building tree 59 of 100\n",
      "building tree 60 of 100\n"
     ]
    },
    {
     "name": "stderr",
     "output_type": "stream",
     "text": [
      "[Parallel(n_jobs=-1)]: Done  48 tasks      | elapsed:   21.4s\n"
     ]
    },
    {
     "name": "stdout",
     "output_type": "stream",
     "text": [
      "building tree 61 of 100\n",
      "building tree 62 of 100\n",
      "building tree 63 of 100\n",
      "building tree 64 of 100\n",
      "building tree 65 of 100\n",
      "building tree 66 of 100\n",
      "building tree 67 of 100\n",
      "building tree 68 of 100\n",
      "building tree 69 of 100\n",
      "building tree 70 of 100\n",
      "building tree 71 of 100\n",
      "building tree 72 of 100\n",
      "building tree 73 of 100\n",
      "building tree 74 of 100\n",
      "building tree 75 of 100\n"
     ]
    },
    {
     "name": "stderr",
     "output_type": "stream",
     "text": [
      "[Parallel(n_jobs=-1)]: Done  61 tasks      | elapsed:   27.2s\n"
     ]
    },
    {
     "name": "stdout",
     "output_type": "stream",
     "text": [
      "building tree 76 of 100\n",
      "building tree 77 of 100\n",
      "building tree 78 of 100\n",
      "building tree 79 of 100\n",
      "building tree 80 of 100\n",
      "building tree 81 of 100\n",
      "building tree 82 of 100\n",
      "building tree 83 of 100\n",
      "building tree 84 of 100\n",
      "building tree 85 of 100\n",
      "building tree 86 of 100\n"
     ]
    },
    {
     "name": "stderr",
     "output_type": "stream",
     "text": [
      "[Parallel(n_jobs=-1)]: Done  74 tasks      | elapsed:   31.8s\n"
     ]
    },
    {
     "name": "stdout",
     "output_type": "stream",
     "text": [
      "building tree 87 of 100\n",
      "building tree 88 of 100\n",
      "building tree 89 of 100\n",
      "building tree 90 of 100\n",
      "building tree 91 of 100\n",
      "building tree 92 of 100\n",
      "building tree 93 of 100\n",
      "building tree 94 of 100\n",
      "building tree 95 of 100\n",
      "building tree 96 of 100\n",
      "building tree 97 of 100\n",
      "building tree 98 of 100\n",
      "building tree 99 of 100\n",
      "building tree 100 of 100\n"
     ]
    },
    {
     "name": "stderr",
     "output_type": "stream",
     "text": [
      "[Parallel(n_jobs=-1)]: Done  88 out of 100 | elapsed:   36.5s remaining:    4.9s\n"
     ]
    },
    {
     "name": "stdout",
     "output_type": "stream",
     "text": [
      "{'min_samples_leaf': 1}\n"
     ]
    },
    {
     "name": "stderr",
     "output_type": "stream",
     "text": [
      "[Parallel(n_jobs=-1)]: Done 100 out of 100 | elapsed:   39.3s finished\n"
     ]
    }
   ],
   "source": [
    "tree = RandomForestRegressor(max_depth=15, n_jobs=-1, random_state=27, verbose=10)\n",
    "\n",
    "param_grid = {'min_samples_leaf': [1, 5, 10, 15, 20]}\n",
    "cv = 5\n",
    "\n",
    "grid_search = GridSearchCV(tree, param_grid=param_grid, cv=cv)\n",
    "grid_search.fit(x_train, y_train)\n",
    "\n",
    "print(grid_search.best_params_)"
   ]
  },
  {
   "cell_type": "markdown",
   "id": "a5598ae1-bdb3-47b8-a2bd-78b1a074d29e",
   "metadata": {},
   "source": [
    "Лучше всего оставить min_samples_leaf без изменения"
   ]
  },
  {
   "cell_type": "code",
   "execution_count": 304,
   "id": "9660c7d0-5ef0-4713-acff-33dcb385ac22",
   "metadata": {
    "collapsed": true,
    "jupyter": {
     "outputs_hidden": true
    },
    "tags": []
   },
   "outputs": [
    {
     "name": "stderr",
     "output_type": "stream",
     "text": [
      "[Parallel(n_jobs=-1)]: Using backend ThreadingBackend with 12 concurrent workers.\n"
     ]
    },
    {
     "name": "stdout",
     "output_type": "stream",
     "text": [
      "building tree 1 of 100building tree 2 of 100\n",
      "building tree 3 of 100\n",
      "\n",
      "building tree 4 of 100\n",
      "building tree 5 of 100\n",
      "building tree 6 of 100\n",
      "building tree 7 of 100\n",
      "building tree 8 of 100\n",
      "building tree 9 of 100\n",
      "building tree 10 of 100\n",
      "building tree 11 of 100\n",
      "building tree 12 of 100\n",
      "building tree 13 of 100\n",
      "building tree 14 of 100\n",
      "building tree 15 of 100\n",
      "building tree 16 of 100\n"
     ]
    },
    {
     "name": "stderr",
     "output_type": "stream",
     "text": [
      "[Parallel(n_jobs=-1)]: Done   1 tasks      | elapsed:    4.4s\n"
     ]
    },
    {
     "name": "stdout",
     "output_type": "stream",
     "text": [
      "building tree 17 of 100\n",
      "building tree 18 of 100\n",
      "building tree 19 of 100\n",
      "building tree 20 of 100\n",
      "building tree 21 of 100\n",
      "building tree 22 of 100\n"
     ]
    },
    {
     "name": "stderr",
     "output_type": "stream",
     "text": [
      "[Parallel(n_jobs=-1)]: Done   8 tasks      | elapsed:    4.6s\n"
     ]
    },
    {
     "name": "stdout",
     "output_type": "stream",
     "text": [
      "building tree 23 of 100\n",
      "building tree 24 of 100\n",
      "building tree 25 of 100\n",
      "building tree 26 of 100\n",
      "building tree 27 of 100\n",
      "building tree 28 of 100\n",
      "building tree 29 of 100\n",
      "building tree 30 of 100\n",
      "building tree 31 of 100\n"
     ]
    },
    {
     "name": "stderr",
     "output_type": "stream",
     "text": [
      "[Parallel(n_jobs=-1)]: Done  17 tasks      | elapsed:    9.3s\n"
     ]
    },
    {
     "name": "stdout",
     "output_type": "stream",
     "text": [
      "building tree 32 of 100\n",
      "building tree 33 of 100\n",
      "building tree 34 of 100\n",
      "building tree 35 of 100\n",
      "building tree 36 of 100\n",
      "building tree 37 of 100\n",
      "building tree 38 of 100\n"
     ]
    },
    {
     "name": "stderr",
     "output_type": "stream",
     "text": [
      "[Parallel(n_jobs=-1)]: Done  26 tasks      | elapsed:   13.7s\n"
     ]
    },
    {
     "name": "stdout",
     "output_type": "stream",
     "text": [
      "building tree 39 of 100\n",
      "building tree 40 of 100\n",
      "building tree 41 of 100\n",
      "building tree 42 of 100\n",
      "building tree 43 of 100\n",
      "building tree 44 of 100\n",
      "building tree 45 of 100\n",
      "building tree 46 of 100\n",
      "building tree 47 of 100\n",
      "building tree 48 of 100\n",
      "building tree 49 of 100\n",
      "building tree 50 of 100\n"
     ]
    },
    {
     "name": "stderr",
     "output_type": "stream",
     "text": [
      "[Parallel(n_jobs=-1)]: Done  37 tasks      | elapsed:   18.1s\n"
     ]
    },
    {
     "name": "stdout",
     "output_type": "stream",
     "text": [
      "building tree 51 of 100\n",
      "building tree 52 of 100\n",
      "building tree 53 of 100\n",
      "building tree 54 of 100\n",
      "building tree 55 of 100\n",
      "building tree 56 of 100\n",
      "building tree 57 of 100\n",
      "building tree 58 of 100\n",
      "building tree 59 of 100\n",
      "building tree 60 of 100\n"
     ]
    },
    {
     "name": "stderr",
     "output_type": "stream",
     "text": [
      "[Parallel(n_jobs=-1)]: Done  48 tasks      | elapsed:   19.6s\n"
     ]
    },
    {
     "name": "stdout",
     "output_type": "stream",
     "text": [
      "building tree 61 of 100\n",
      "building tree 62 of 100\n",
      "building tree 63 of 100\n",
      "building tree 64 of 100\n",
      "building tree 65 of 100\n",
      "building tree 66 of 100\n",
      "building tree 67 of 100\n",
      "building tree 68 of 100\n",
      "building tree 69 of 100\n",
      "building tree 70 of 100\n",
      "building tree 71 of 100\n",
      "building tree 72 of 100\n",
      "building tree 73 of 100\n",
      "building tree 74 of 100\n",
      "building tree 75 of 100\n"
     ]
    },
    {
     "name": "stderr",
     "output_type": "stream",
     "text": [
      "[Parallel(n_jobs=-1)]: Done  61 tasks      | elapsed:   27.1s\n"
     ]
    },
    {
     "name": "stdout",
     "output_type": "stream",
     "text": [
      "building tree 76 of 100\n",
      "building tree 77 of 100\n",
      "building tree 78 of 100\n",
      "building tree 79 of 100\n",
      "building tree 80 of 100\n",
      "building tree 81 of 100\n",
      "building tree 82 of 100\n",
      "building tree 83 of 100\n",
      "building tree 84 of 100\n",
      "building tree 85 of 100\n",
      "building tree 86 of 100\n",
      "building tree 87 of 100\n"
     ]
    },
    {
     "name": "stderr",
     "output_type": "stream",
     "text": [
      "[Parallel(n_jobs=-1)]: Done  74 tasks      | elapsed:   31.6s\n"
     ]
    },
    {
     "name": "stdout",
     "output_type": "stream",
     "text": [
      "building tree 88 of 100\n",
      "building tree 89 of 100\n",
      "building tree 90 of 100\n",
      "building tree 91 of 100\n",
      "building tree 92 of 100\n",
      "building tree 93 of 100\n",
      "building tree 94 of 100\n",
      "building tree 95 of 100\n",
      "building tree 96 of 100\n",
      "building tree 97 of 100\n",
      "building tree 98 of 100\n",
      "building tree 99 of 100\n",
      "building tree 100 of 100\n"
     ]
    },
    {
     "name": "stderr",
     "output_type": "stream",
     "text": [
      "[Parallel(n_jobs=-1)]: Done  88 out of 100 | elapsed:   36.4s remaining:    4.9s\n",
      "[Parallel(n_jobs=-1)]: Done 100 out of 100 | elapsed:   38.9s finished\n"
     ]
    },
    {
     "data": {
      "text/html": [
       "<style>#sk-container-id-8 {color: black;background-color: white;}#sk-container-id-8 pre{padding: 0;}#sk-container-id-8 div.sk-toggleable {background-color: white;}#sk-container-id-8 label.sk-toggleable__label {cursor: pointer;display: block;width: 100%;margin-bottom: 0;padding: 0.3em;box-sizing: border-box;text-align: center;}#sk-container-id-8 label.sk-toggleable__label-arrow:before {content: \"▸\";float: left;margin-right: 0.25em;color: #696969;}#sk-container-id-8 label.sk-toggleable__label-arrow:hover:before {color: black;}#sk-container-id-8 div.sk-estimator:hover label.sk-toggleable__label-arrow:before {color: black;}#sk-container-id-8 div.sk-toggleable__content {max-height: 0;max-width: 0;overflow: hidden;text-align: left;background-color: #f0f8ff;}#sk-container-id-8 div.sk-toggleable__content pre {margin: 0.2em;color: black;border-radius: 0.25em;background-color: #f0f8ff;}#sk-container-id-8 input.sk-toggleable__control:checked~div.sk-toggleable__content {max-height: 200px;max-width: 100%;overflow: auto;}#sk-container-id-8 input.sk-toggleable__control:checked~label.sk-toggleable__label-arrow:before {content: \"▾\";}#sk-container-id-8 div.sk-estimator input.sk-toggleable__control:checked~label.sk-toggleable__label {background-color: #d4ebff;}#sk-container-id-8 div.sk-label input.sk-toggleable__control:checked~label.sk-toggleable__label {background-color: #d4ebff;}#sk-container-id-8 input.sk-hidden--visually {border: 0;clip: rect(1px 1px 1px 1px);clip: rect(1px, 1px, 1px, 1px);height: 1px;margin: -1px;overflow: hidden;padding: 0;position: absolute;width: 1px;}#sk-container-id-8 div.sk-estimator {font-family: monospace;background-color: #f0f8ff;border: 1px dotted black;border-radius: 0.25em;box-sizing: border-box;margin-bottom: 0.5em;}#sk-container-id-8 div.sk-estimator:hover {background-color: #d4ebff;}#sk-container-id-8 div.sk-parallel-item::after {content: \"\";width: 100%;border-bottom: 1px solid gray;flex-grow: 1;}#sk-container-id-8 div.sk-label:hover label.sk-toggleable__label {background-color: #d4ebff;}#sk-container-id-8 div.sk-serial::before {content: \"\";position: absolute;border-left: 1px solid gray;box-sizing: border-box;top: 0;bottom: 0;left: 50%;z-index: 0;}#sk-container-id-8 div.sk-serial {display: flex;flex-direction: column;align-items: center;background-color: white;padding-right: 0.2em;padding-left: 0.2em;position: relative;}#sk-container-id-8 div.sk-item {position: relative;z-index: 1;}#sk-container-id-8 div.sk-parallel {display: flex;align-items: stretch;justify-content: center;background-color: white;position: relative;}#sk-container-id-8 div.sk-item::before, #sk-container-id-8 div.sk-parallel-item::before {content: \"\";position: absolute;border-left: 1px solid gray;box-sizing: border-box;top: 0;bottom: 0;left: 50%;z-index: -1;}#sk-container-id-8 div.sk-parallel-item {display: flex;flex-direction: column;z-index: 1;position: relative;background-color: white;}#sk-container-id-8 div.sk-parallel-item:first-child::after {align-self: flex-end;width: 50%;}#sk-container-id-8 div.sk-parallel-item:last-child::after {align-self: flex-start;width: 50%;}#sk-container-id-8 div.sk-parallel-item:only-child::after {width: 0;}#sk-container-id-8 div.sk-dashed-wrapped {border: 1px dashed gray;margin: 0 0.4em 0.5em 0.4em;box-sizing: border-box;padding-bottom: 0.4em;background-color: white;}#sk-container-id-8 div.sk-label label {font-family: monospace;font-weight: bold;display: inline-block;line-height: 1.2em;}#sk-container-id-8 div.sk-label-container {text-align: center;}#sk-container-id-8 div.sk-container {/* jupyter's `normalize.less` sets `[hidden] { display: none; }` but bootstrap.min.css set `[hidden] { display: none !important; }` so we also need the `!important` here to be able to override the default hidden behavior on the sphinx rendered scikit-learn.org. See: https://github.com/scikit-learn/scikit-learn/issues/21755 */display: inline-block !important;position: relative;}#sk-container-id-8 div.sk-text-repr-fallback {display: none;}</style><div id=\"sk-container-id-8\" class=\"sk-top-container\"><div class=\"sk-text-repr-fallback\"><pre>RandomForestRegressor(max_depth=10, n_jobs=-1, random_state=27, verbose=10)</pre><b>In a Jupyter environment, please rerun this cell to show the HTML representation or trust the notebook. <br />On GitHub, the HTML representation is unable to render, please try loading this page with nbviewer.org.</b></div><div class=\"sk-container\" hidden><div class=\"sk-item\"><div class=\"sk-estimator sk-toggleable\"><input class=\"sk-toggleable__control sk-hidden--visually\" id=\"sk-estimator-id-8\" type=\"checkbox\" checked><label for=\"sk-estimator-id-8\" class=\"sk-toggleable__label sk-toggleable__label-arrow\">RandomForestRegressor</label><div class=\"sk-toggleable__content\"><pre>RandomForestRegressor(max_depth=10, n_jobs=-1, random_state=27, verbose=10)</pre></div></div></div></div></div>"
      ],
      "text/plain": [
       "RandomForestRegressor(max_depth=10, n_jobs=-1, random_state=27, verbose=10)"
      ]
     },
     "execution_count": 304,
     "metadata": {},
     "output_type": "execute_result"
    }
   ],
   "source": [
    "model = RandomForestRegressor(max_depth=10, n_jobs=-1, random_state=27, verbose=10)\n",
    "\n",
    "model.fit(x_train, y_train)"
   ]
  },
  {
   "cell_type": "code",
   "execution_count": 305,
   "id": "e08e54b1-4f9d-44d7-a81d-131041cfb476",
   "metadata": {
    "collapsed": true,
    "jupyter": {
     "outputs_hidden": true
    },
    "tags": []
   },
   "outputs": [
    {
     "name": "stderr",
     "output_type": "stream",
     "text": [
      "[Parallel(n_jobs=12)]: Using backend ThreadingBackend with 12 concurrent workers.\n",
      "[Parallel(n_jobs=12)]: Done   1 tasks      | elapsed:    0.0s\n",
      "[Parallel(n_jobs=12)]: Done   8 tasks      | elapsed:    0.0s\n",
      "[Parallel(n_jobs=12)]: Done  17 tasks      | elapsed:    0.0s\n",
      "[Parallel(n_jobs=12)]: Done  26 tasks      | elapsed:    0.0s\n",
      "[Parallel(n_jobs=12)]: Done  37 tasks      | elapsed:    0.0s\n",
      "[Parallel(n_jobs=12)]: Done  48 tasks      | elapsed:    0.0s\n",
      "[Parallel(n_jobs=12)]: Done  61 tasks      | elapsed:    0.0s\n",
      "[Parallel(n_jobs=12)]: Done  74 tasks      | elapsed:    0.0s\n",
      "[Parallel(n_jobs=12)]: Done  88 out of 100 | elapsed:    0.1s remaining:    0.0s\n",
      "[Parallel(n_jobs=12)]: Done 100 out of 100 | elapsed:    0.1s finished\n",
      "[Parallel(n_jobs=12)]: Using backend ThreadingBackend with 12 concurrent workers.\n",
      "[Parallel(n_jobs=12)]: Done   1 tasks      | elapsed:    0.0s\n",
      "[Parallel(n_jobs=12)]: Done   8 tasks      | elapsed:    0.0s\n",
      "[Parallel(n_jobs=12)]: Done  17 tasks      | elapsed:    0.0s\n",
      "[Parallel(n_jobs=12)]: Done  26 tasks      | elapsed:    0.0s\n",
      "[Parallel(n_jobs=12)]: Done  37 tasks      | elapsed:    0.1s\n",
      "[Parallel(n_jobs=12)]: Done  48 tasks      | elapsed:    0.1s\n",
      "[Parallel(n_jobs=12)]: Done  61 tasks      | elapsed:    0.2s\n",
      "[Parallel(n_jobs=12)]: Done  74 tasks      | elapsed:    0.2s\n",
      "[Parallel(n_jobs=12)]: Done  88 out of 100 | elapsed:    0.3s remaining:    0.0s\n",
      "[Parallel(n_jobs=12)]: Done 100 out of 100 | elapsed:    0.3s finished\n"
     ]
    }
   ],
   "source": [
    "pred_test = model.predict(x_test)\n",
    "pred_train = model.predict(x_train)"
   ]
  },
  {
   "cell_type": "code",
   "execution_count": 302,
   "id": "36020abe-679c-4728-b865-7fa844b96545",
   "metadata": {
    "tags": []
   },
   "outputs": [
    {
     "data": {
      "text/plain": [
       "(0.8370303216446241, 0.11481737226641192)"
      ]
     },
     "execution_count": 306,
     "metadata": {},
     "output_type": "execute_result"
    }
   ],
   "source": [
    "r2_score(y_train, pred_train), mean_absolute_error(y_train, pred_train)"
   ]
  },
  {
   "cell_type": "code",
   "execution_count": 303,
   "id": "c7754b9b-18ea-499d-9314-b769359624fe",
   "metadata": {
    "tags": []
   },
   "outputs": [
    {
     "data": {
      "text/plain": [
       "(0.5414108541853, 0.12016241102955724)"
      ]
     },
     "execution_count": 307,
     "metadata": {},
     "output_type": "execute_result"
    }
   ],
   "source": [
    "r2_score(y_test, pred_test), mean_absolute_error(y_test, pred_test)"
   ]
  },
  {
   "cell_type": "markdown",
   "id": "8c5d9bbb-dc88-4422-b13d-80f2b06087d8",
   "metadata": {},
   "source": [
    "С настроенными гиперпараметрами результат улучшился на 4 процента("
   ]
  },
  {
   "cell_type": "markdown",
   "id": "a7b99d96-aced-40ab-9220-bfdc76a2a8cf",
   "metadata": {
    "tags": []
   },
   "source": [
    "Пусть это будет первая модель для отправки"
   ]
  },
  {
   "cell_type": "code",
   "execution_count": 311,
   "id": "84d6e4c3-63c5-4244-befb-06c65bd27ac9",
   "metadata": {
    "tags": []
   },
   "outputs": [],
   "source": [
    "df_test['Locality'] = lb.transform(df_test['Locality'])\n",
    "transformed_t = ohe1.transform(df_test[['Property']]) \n",
    "transformed_t1 = ohe2.transform(df_test[['Residential']]) \n",
    "df_test[ohe1.categories_[0]] = transformed_t.toarray()\n",
    "df_test[ohe2.categories_[0]] = transformed_t1.toarray()\n",
    "df_test.drop('Property', axis=1, inplace=True)"
   ]
  },
  {
   "cell_type": "code",
   "execution_count": 313,
   "id": "7b829f05-5ddf-4c6e-a66b-75802cb5cd5b",
   "metadata": {
    "tags": []
   },
   "outputs": [],
   "source": [
    "df_test['Estimated Value'] = scaler.transform(df_test[\"Estimated Value\"].values.reshape(-1,1))"
   ]
  },
  {
   "cell_type": "code",
   "execution_count": 314,
   "id": "cc6f3bfb-16e4-4db1-addf-70858378fa06",
   "metadata": {
    "tags": []
   },
   "outputs": [],
   "source": [
    "df_test_for_model = df_test.drop(['Segment', 'Sale Price'], axis=1)"
   ]
  },
  {
   "cell_type": "code",
   "execution_count": 316,
   "id": "25fd6beb-6202-48cc-9642-bbc3f18295f6",
   "metadata": {
    "collapsed": true,
    "jupyter": {
     "outputs_hidden": true
    },
    "tags": []
   },
   "outputs": [
    {
     "name": "stderr",
     "output_type": "stream",
     "text": [
      "[Parallel(n_jobs=12)]: Using backend ThreadingBackend with 12 concurrent workers.\n",
      "[Parallel(n_jobs=12)]: Done   1 tasks      | elapsed:    0.0s\n",
      "[Parallel(n_jobs=12)]: Done   8 tasks      | elapsed:    0.0s\n",
      "[Parallel(n_jobs=12)]: Done  17 tasks      | elapsed:    0.0s\n",
      "[Parallel(n_jobs=12)]: Done  26 tasks      | elapsed:    0.0s\n",
      "[Parallel(n_jobs=12)]: Done  37 tasks      | elapsed:    0.0s\n",
      "[Parallel(n_jobs=12)]: Done  48 tasks      | elapsed:    0.0s\n",
      "[Parallel(n_jobs=12)]: Done  61 tasks      | elapsed:    0.0s\n",
      "[Parallel(n_jobs=12)]: Done  74 tasks      | elapsed:    0.0s\n",
      "[Parallel(n_jobs=12)]: Done  88 out of 100 | elapsed:    0.0s remaining:    0.0s\n",
      "[Parallel(n_jobs=12)]: Done 100 out of 100 | elapsed:    0.0s finished\n"
     ]
    }
   ],
   "source": [
    "pred = model.predict(df_test_for_model)\n",
    "\n",
    "df_test['Sale Price'] = pred\n",
    "\n",
    "df_test['Profit'] = (df_test['Sale Price'] - df_test['Estimated Value'])/100"
   ]
  },
  {
   "cell_type": "markdown",
   "id": "43bb0f33-4e5e-4fc3-91f3-384b5b527c63",
   "metadata": {},
   "source": [
    "Осталось только разбить данные на сегменты, чтобы стандартизация нам никак не помешала, разобьем данные с помощью квантилей"
   ]
  },
  {
   "cell_type": "code",
   "execution_count": 319,
   "id": "1d5ba391-78dc-40a0-8ee7-ddf536269a03",
   "metadata": {
    "tags": []
   },
   "outputs": [],
   "source": [
    "q1, q2, q3 = df_test['Profit'].quantile([0.25, 0.5, 0.75])\n",
    "df_test['Segment'] = np.where(df_test['Profit'] >= q3, 0, np.where(df_test['Profit'] >= q2, 1, np.where(df_test['Profit'] >= q1, 2, 3)))"
   ]
  },
  {
   "cell_type": "code",
   "execution_count": 320,
   "id": "5b393dc3-0cf5-4fd7-98aa-6a2f54a99092",
   "metadata": {
    "tags": []
   },
   "outputs": [],
   "source": [
    "df_sub = pd.read_csv('submission.csv')\n",
    "\n",
    "df_sub['Segment'] = df_test['Segment'] \n",
    "\n",
    "df_sub.to_csv('my_submission_file.csv', index=False)"
   ]
  },
  {
   "cell_type": "markdown",
   "id": "fddc65ac-961e-4e9e-91a8-1d5905a89974",
   "metadata": {},
   "source": [
    "Данный способ позволяет предсказать около 26% сегментов, что на самом деле очень плохо попробуем Catboost model "
   ]
  },
  {
   "cell_type": "markdown",
   "id": "be5c2d05-f640-4cf3-a5e5-45b50b4ff21f",
   "metadata": {},
   "source": [
    "В catboost изначально стоят неплохо настроенные гиперпараметры, так что сразу обучаем"
   ]
  },
  {
   "cell_type": "code",
   "execution_count": 321,
   "id": "9e4132c6-e5ee-4260-a9f1-725adb047e3f",
   "metadata": {
    "collapsed": true,
    "jupyter": {
     "outputs_hidden": true
    },
    "tags": []
   },
   "outputs": [
    {
     "name": "stdout",
     "output_type": "stream",
     "text": [
      "Learning rate set to 0.104996\n",
      "0:\tlearn: 0.9255216\ttotal: 40.7ms\tremaining: 40.7s\n",
      "1:\tlearn: 0.8855645\ttotal: 65.1ms\tremaining: 32.5s\n",
      "2:\tlearn: 0.8508343\ttotal: 89.7ms\tremaining: 29.8s\n",
      "3:\tlearn: 0.8216767\ttotal: 114ms\tremaining: 28.5s\n",
      "4:\tlearn: 0.7972405\ttotal: 138ms\tremaining: 27.4s\n",
      "5:\tlearn: 0.7768142\ttotal: 164ms\tremaining: 27.1s\n",
      "6:\tlearn: 0.7597265\ttotal: 189ms\tremaining: 26.8s\n",
      "7:\tlearn: 0.7456482\ttotal: 217ms\tremaining: 27s\n",
      "8:\tlearn: 0.7341220\ttotal: 243ms\tremaining: 26.8s\n",
      "9:\tlearn: 0.7242128\ttotal: 267ms\tremaining: 26.4s\n",
      "10:\tlearn: 0.7156154\ttotal: 291ms\tremaining: 26.2s\n",
      "11:\tlearn: 0.7089221\ttotal: 315ms\tremaining: 26s\n",
      "12:\tlearn: 0.7027079\ttotal: 339ms\tremaining: 25.7s\n",
      "13:\tlearn: 0.6976428\ttotal: 363ms\tremaining: 25.6s\n",
      "14:\tlearn: 0.6932453\ttotal: 390ms\tremaining: 25.6s\n",
      "15:\tlearn: 0.6897707\ttotal: 415ms\tremaining: 25.5s\n",
      "16:\tlearn: 0.6867302\ttotal: 444ms\tremaining: 25.7s\n",
      "17:\tlearn: 0.6840303\ttotal: 470ms\tremaining: 25.6s\n",
      "18:\tlearn: 0.6814188\ttotal: 496ms\tremaining: 25.6s\n",
      "19:\tlearn: 0.6794060\ttotal: 522ms\tremaining: 25.6s\n",
      "20:\tlearn: 0.6777711\ttotal: 550ms\tremaining: 25.6s\n",
      "21:\tlearn: 0.6743084\ttotal: 576ms\tremaining: 25.6s\n",
      "22:\tlearn: 0.6719035\ttotal: 604ms\tremaining: 25.6s\n",
      "23:\tlearn: 0.6707507\ttotal: 630ms\tremaining: 25.6s\n",
      "24:\tlearn: 0.6693166\ttotal: 660ms\tremaining: 25.7s\n",
      "25:\tlearn: 0.6683190\ttotal: 686ms\tremaining: 25.7s\n",
      "26:\tlearn: 0.6662467\ttotal: 710ms\tremaining: 25.6s\n",
      "27:\tlearn: 0.6591737\ttotal: 735ms\tremaining: 25.5s\n",
      "28:\tlearn: 0.6574974\ttotal: 761ms\tremaining: 25.5s\n",
      "29:\tlearn: 0.6565726\ttotal: 787ms\tremaining: 25.5s\n",
      "30:\tlearn: 0.6462541\ttotal: 815ms\tremaining: 25.5s\n",
      "31:\tlearn: 0.6455354\ttotal: 842ms\tremaining: 25.5s\n",
      "32:\tlearn: 0.6440226\ttotal: 872ms\tremaining: 25.6s\n",
      "33:\tlearn: 0.6412592\ttotal: 898ms\tremaining: 25.5s\n",
      "34:\tlearn: 0.6344253\ttotal: 925ms\tremaining: 25.5s\n",
      "35:\tlearn: 0.6338687\ttotal: 951ms\tremaining: 25.5s\n",
      "36:\tlearn: 0.6333500\ttotal: 977ms\tremaining: 25.4s\n",
      "37:\tlearn: 0.6329032\ttotal: 1.01s\tremaining: 25.5s\n",
      "38:\tlearn: 0.6326345\ttotal: 1.03s\tremaining: 25.4s\n",
      "39:\tlearn: 0.6259457\ttotal: 1.06s\tremaining: 25.4s\n",
      "40:\tlearn: 0.6255157\ttotal: 1.09s\tremaining: 25.4s\n",
      "41:\tlearn: 0.6251602\ttotal: 1.11s\tremaining: 25.3s\n",
      "42:\tlearn: 0.6249077\ttotal: 1.14s\tremaining: 25.3s\n",
      "43:\tlearn: 0.6159739\ttotal: 1.16s\tremaining: 25.3s\n",
      "44:\tlearn: 0.6144351\ttotal: 1.19s\tremaining: 25.2s\n",
      "45:\tlearn: 0.6141017\ttotal: 1.22s\tremaining: 25.2s\n",
      "46:\tlearn: 0.6072361\ttotal: 1.24s\tremaining: 25.2s\n",
      "47:\tlearn: 0.6067293\ttotal: 1.27s\tremaining: 25.1s\n",
      "48:\tlearn: 0.6062583\ttotal: 1.29s\tremaining: 25.1s\n",
      "49:\tlearn: 0.5994439\ttotal: 1.32s\tremaining: 25.1s\n",
      "50:\tlearn: 0.5977604\ttotal: 1.35s\tremaining: 25.1s\n",
      "51:\tlearn: 0.5975657\ttotal: 1.38s\tremaining: 25.2s\n",
      "52:\tlearn: 0.5923277\ttotal: 1.42s\tremaining: 25.3s\n",
      "53:\tlearn: 0.5917701\ttotal: 1.46s\tremaining: 25.6s\n",
      "54:\tlearn: 0.5916080\ttotal: 1.51s\tremaining: 26s\n",
      "55:\tlearn: 0.5911727\ttotal: 1.55s\tremaining: 26.1s\n",
      "56:\tlearn: 0.5909722\ttotal: 1.59s\tremaining: 26.3s\n",
      "57:\tlearn: 0.5867784\ttotal: 1.62s\tremaining: 26.3s\n",
      "58:\tlearn: 0.5863648\ttotal: 1.65s\tremaining: 26.3s\n",
      "59:\tlearn: 0.5858504\ttotal: 1.68s\tremaining: 26.3s\n",
      "60:\tlearn: 0.5819620\ttotal: 1.71s\tremaining: 26.3s\n",
      "61:\tlearn: 0.5812862\ttotal: 1.73s\tremaining: 26.2s\n",
      "62:\tlearn: 0.5795015\ttotal: 1.76s\tremaining: 26.2s\n",
      "63:\tlearn: 0.5789521\ttotal: 1.79s\tremaining: 26.1s\n",
      "64:\tlearn: 0.5787652\ttotal: 1.81s\tremaining: 26.1s\n",
      "65:\tlearn: 0.5785295\ttotal: 1.84s\tremaining: 26.1s\n",
      "66:\tlearn: 0.5777611\ttotal: 1.87s\tremaining: 26s\n",
      "67:\tlearn: 0.5751056\ttotal: 1.89s\tremaining: 26s\n",
      "68:\tlearn: 0.5745049\ttotal: 1.92s\tremaining: 25.9s\n",
      "69:\tlearn: 0.5743727\ttotal: 1.95s\tremaining: 25.9s\n",
      "70:\tlearn: 0.5737885\ttotal: 1.98s\tremaining: 25.8s\n",
      "71:\tlearn: 0.5708379\ttotal: 2s\tremaining: 25.8s\n",
      "72:\tlearn: 0.5703461\ttotal: 2.03s\tremaining: 25.7s\n",
      "73:\tlearn: 0.5691234\ttotal: 2.05s\tremaining: 25.7s\n",
      "74:\tlearn: 0.5689169\ttotal: 2.08s\tremaining: 25.6s\n",
      "75:\tlearn: 0.5665301\ttotal: 2.1s\tremaining: 25.6s\n",
      "76:\tlearn: 0.5663892\ttotal: 2.13s\tremaining: 25.5s\n",
      "77:\tlearn: 0.5649860\ttotal: 2.15s\tremaining: 25.5s\n",
      "78:\tlearn: 0.5640554\ttotal: 2.18s\tremaining: 25.4s\n",
      "79:\tlearn: 0.5621090\ttotal: 2.2s\tremaining: 25.3s\n",
      "80:\tlearn: 0.5619369\ttotal: 2.23s\tremaining: 25.3s\n",
      "81:\tlearn: 0.5612301\ttotal: 2.25s\tremaining: 25.2s\n",
      "82:\tlearn: 0.5607309\ttotal: 2.29s\tremaining: 25.3s\n",
      "83:\tlearn: 0.5602446\ttotal: 2.31s\tremaining: 25.2s\n",
      "84:\tlearn: 0.5600176\ttotal: 2.33s\tremaining: 25.1s\n",
      "85:\tlearn: 0.5590490\ttotal: 2.36s\tremaining: 25.1s\n",
      "86:\tlearn: 0.5589293\ttotal: 2.38s\tremaining: 25s\n",
      "87:\tlearn: 0.5587743\ttotal: 2.41s\tremaining: 25s\n",
      "88:\tlearn: 0.5584382\ttotal: 2.44s\tremaining: 25s\n",
      "89:\tlearn: 0.5583211\ttotal: 2.46s\tremaining: 24.9s\n",
      "90:\tlearn: 0.5565783\ttotal: 2.49s\tremaining: 24.9s\n",
      "91:\tlearn: 0.5563383\ttotal: 2.51s\tremaining: 24.8s\n",
      "92:\tlearn: 0.5560301\ttotal: 2.53s\tremaining: 24.7s\n",
      "93:\tlearn: 0.5557086\ttotal: 2.56s\tremaining: 24.7s\n",
      "94:\tlearn: 0.5544890\ttotal: 2.59s\tremaining: 24.6s\n",
      "95:\tlearn: 0.5533146\ttotal: 2.61s\tremaining: 24.6s\n",
      "96:\tlearn: 0.5527939\ttotal: 2.64s\tremaining: 24.6s\n",
      "97:\tlearn: 0.5525739\ttotal: 2.66s\tremaining: 24.5s\n",
      "98:\tlearn: 0.5521975\ttotal: 2.68s\tremaining: 24.4s\n",
      "99:\tlearn: 0.5520783\ttotal: 2.71s\tremaining: 24.4s\n",
      "100:\tlearn: 0.5516335\ttotal: 2.73s\tremaining: 24.3s\n",
      "101:\tlearn: 0.5514093\ttotal: 2.76s\tremaining: 24.3s\n",
      "102:\tlearn: 0.5512089\ttotal: 2.78s\tremaining: 24.2s\n",
      "103:\tlearn: 0.5509086\ttotal: 2.8s\tremaining: 24.2s\n",
      "104:\tlearn: 0.5503438\ttotal: 2.83s\tremaining: 24.1s\n",
      "105:\tlearn: 0.5499938\ttotal: 2.86s\tremaining: 24.1s\n",
      "106:\tlearn: 0.5498323\ttotal: 2.88s\tremaining: 24.1s\n",
      "107:\tlearn: 0.5495072\ttotal: 2.9s\tremaining: 24s\n",
      "108:\tlearn: 0.5492892\ttotal: 2.93s\tremaining: 23.9s\n",
      "109:\tlearn: 0.5489709\ttotal: 2.95s\tremaining: 23.9s\n",
      "110:\tlearn: 0.5473195\ttotal: 2.98s\tremaining: 23.9s\n",
      "111:\tlearn: 0.5446019\ttotal: 3s\tremaining: 23.8s\n",
      "112:\tlearn: 0.5439937\ttotal: 3.03s\tremaining: 23.8s\n",
      "113:\tlearn: 0.5430232\ttotal: 3.06s\tremaining: 23.8s\n",
      "114:\tlearn: 0.5427815\ttotal: 3.08s\tremaining: 23.7s\n",
      "115:\tlearn: 0.5427065\ttotal: 3.12s\tremaining: 23.8s\n",
      "116:\tlearn: 0.5421431\ttotal: 3.14s\tremaining: 23.7s\n",
      "117:\tlearn: 0.5419962\ttotal: 3.17s\tremaining: 23.7s\n",
      "118:\tlearn: 0.5416714\ttotal: 3.2s\tremaining: 23.7s\n",
      "119:\tlearn: 0.5414195\ttotal: 3.23s\tremaining: 23.7s\n",
      "120:\tlearn: 0.5411778\ttotal: 3.26s\tremaining: 23.7s\n",
      "121:\tlearn: 0.5409532\ttotal: 3.28s\tremaining: 23.6s\n",
      "122:\tlearn: 0.5406360\ttotal: 3.31s\tremaining: 23.6s\n",
      "123:\tlearn: 0.5393094\ttotal: 3.33s\tremaining: 23.6s\n",
      "124:\tlearn: 0.5390065\ttotal: 3.36s\tremaining: 23.5s\n",
      "125:\tlearn: 0.5388903\ttotal: 3.39s\tremaining: 23.5s\n",
      "126:\tlearn: 0.5388362\ttotal: 3.42s\tremaining: 23.5s\n",
      "127:\tlearn: 0.5386034\ttotal: 3.44s\tremaining: 23.5s\n",
      "128:\tlearn: 0.5384124\ttotal: 3.47s\tremaining: 23.4s\n",
      "129:\tlearn: 0.5382659\ttotal: 3.49s\tremaining: 23.4s\n",
      "130:\tlearn: 0.5380037\ttotal: 3.52s\tremaining: 23.3s\n",
      "131:\tlearn: 0.5378973\ttotal: 3.55s\tremaining: 23.3s\n",
      "132:\tlearn: 0.5377544\ttotal: 3.57s\tremaining: 23.3s\n",
      "133:\tlearn: 0.5376504\ttotal: 3.6s\tremaining: 23.2s\n",
      "134:\tlearn: 0.5373705\ttotal: 3.62s\tremaining: 23.2s\n",
      "135:\tlearn: 0.5369939\ttotal: 3.64s\tremaining: 23.1s\n",
      "136:\tlearn: 0.5369249\ttotal: 3.67s\tremaining: 23.1s\n",
      "137:\tlearn: 0.5367808\ttotal: 3.69s\tremaining: 23.1s\n",
      "138:\tlearn: 0.5365448\ttotal: 3.72s\tremaining: 23s\n",
      "139:\tlearn: 0.5363804\ttotal: 3.74s\tremaining: 23s\n",
      "140:\tlearn: 0.5359895\ttotal: 3.76s\tremaining: 22.9s\n",
      "141:\tlearn: 0.5356881\ttotal: 3.79s\tremaining: 22.9s\n",
      "142:\tlearn: 0.5354809\ttotal: 3.81s\tremaining: 22.8s\n",
      "143:\tlearn: 0.5352651\ttotal: 3.83s\tremaining: 22.8s\n",
      "144:\tlearn: 0.5350087\ttotal: 3.86s\tremaining: 22.8s\n",
      "145:\tlearn: 0.5349168\ttotal: 3.88s\tremaining: 22.7s\n",
      "146:\tlearn: 0.5348248\ttotal: 3.91s\tremaining: 22.7s\n",
      "147:\tlearn: 0.5346210\ttotal: 3.93s\tremaining: 22.6s\n",
      "148:\tlearn: 0.5344254\ttotal: 3.96s\tremaining: 22.6s\n",
      "149:\tlearn: 0.5342251\ttotal: 3.98s\tremaining: 22.6s\n",
      "150:\tlearn: 0.5341960\ttotal: 4s\tremaining: 22.5s\n",
      "151:\tlearn: 0.5330456\ttotal: 4.03s\tremaining: 22.5s\n",
      "152:\tlearn: 0.5327145\ttotal: 4.05s\tremaining: 22.4s\n",
      "153:\tlearn: 0.5319255\ttotal: 4.08s\tremaining: 22.4s\n",
      "154:\tlearn: 0.5318209\ttotal: 4.1s\tremaining: 22.4s\n",
      "155:\tlearn: 0.5317206\ttotal: 4.13s\tremaining: 22.3s\n",
      "156:\tlearn: 0.5315583\ttotal: 4.16s\tremaining: 22.3s\n",
      "157:\tlearn: 0.5314393\ttotal: 4.18s\tremaining: 22.3s\n",
      "158:\tlearn: 0.5309998\ttotal: 4.2s\tremaining: 22.2s\n",
      "159:\tlearn: 0.5303453\ttotal: 4.23s\tremaining: 22.2s\n",
      "160:\tlearn: 0.5302415\ttotal: 4.25s\tremaining: 22.1s\n",
      "161:\tlearn: 0.5298864\ttotal: 4.27s\tremaining: 22.1s\n",
      "162:\tlearn: 0.5297171\ttotal: 4.3s\tremaining: 22.1s\n",
      "163:\tlearn: 0.5296861\ttotal: 4.32s\tremaining: 22s\n",
      "164:\tlearn: 0.5293323\ttotal: 4.35s\tremaining: 22s\n",
      "165:\tlearn: 0.5292391\ttotal: 4.38s\tremaining: 22s\n",
      "166:\tlearn: 0.5290818\ttotal: 4.4s\tremaining: 22s\n",
      "167:\tlearn: 0.5289200\ttotal: 4.42s\tremaining: 21.9s\n",
      "168:\tlearn: 0.5265037\ttotal: 4.45s\tremaining: 21.9s\n",
      "169:\tlearn: 0.5262914\ttotal: 4.48s\tremaining: 21.9s\n",
      "170:\tlearn: 0.5253517\ttotal: 4.5s\tremaining: 21.8s\n",
      "171:\tlearn: 0.5251996\ttotal: 4.52s\tremaining: 21.8s\n",
      "172:\tlearn: 0.5246505\ttotal: 4.55s\tremaining: 21.7s\n",
      "173:\tlearn: 0.5245579\ttotal: 4.57s\tremaining: 21.7s\n",
      "174:\tlearn: 0.5243838\ttotal: 4.59s\tremaining: 21.7s\n",
      "175:\tlearn: 0.5242887\ttotal: 4.62s\tremaining: 21.6s\n",
      "176:\tlearn: 0.5241443\ttotal: 4.65s\tremaining: 21.6s\n",
      "177:\tlearn: 0.5237807\ttotal: 4.67s\tremaining: 21.6s\n",
      "178:\tlearn: 0.5236974\ttotal: 4.71s\tremaining: 21.6s\n",
      "179:\tlearn: 0.5236383\ttotal: 4.75s\tremaining: 21.6s\n",
      "180:\tlearn: 0.5235158\ttotal: 4.78s\tremaining: 21.6s\n",
      "181:\tlearn: 0.5234914\ttotal: 4.81s\tremaining: 21.6s\n",
      "182:\tlearn: 0.5230260\ttotal: 4.83s\tremaining: 21.6s\n",
      "183:\tlearn: 0.5229791\ttotal: 4.86s\tremaining: 21.6s\n",
      "184:\tlearn: 0.5228538\ttotal: 4.88s\tremaining: 21.5s\n",
      "185:\tlearn: 0.5224304\ttotal: 4.91s\tremaining: 21.5s\n",
      "186:\tlearn: 0.5204783\ttotal: 4.94s\tremaining: 21.5s\n",
      "187:\tlearn: 0.5204236\ttotal: 4.96s\tremaining: 21.4s\n",
      "188:\tlearn: 0.5202534\ttotal: 4.99s\tremaining: 21.4s\n",
      "189:\tlearn: 0.5202240\ttotal: 5.01s\tremaining: 21.4s\n",
      "190:\tlearn: 0.5201608\ttotal: 5.04s\tremaining: 21.3s\n",
      "191:\tlearn: 0.5200935\ttotal: 5.06s\tremaining: 21.3s\n",
      "192:\tlearn: 0.5199597\ttotal: 5.08s\tremaining: 21.3s\n",
      "193:\tlearn: 0.5197714\ttotal: 5.11s\tremaining: 21.2s\n",
      "194:\tlearn: 0.5194075\ttotal: 5.13s\tremaining: 21.2s\n",
      "195:\tlearn: 0.5190694\ttotal: 5.16s\tremaining: 21.2s\n",
      "196:\tlearn: 0.5189608\ttotal: 5.18s\tremaining: 21.1s\n",
      "197:\tlearn: 0.5188821\ttotal: 5.21s\tremaining: 21.1s\n",
      "198:\tlearn: 0.5184733\ttotal: 5.23s\tremaining: 21.1s\n",
      "199:\tlearn: 0.5179365\ttotal: 5.26s\tremaining: 21s\n",
      "200:\tlearn: 0.5176063\ttotal: 5.28s\tremaining: 21s\n",
      "201:\tlearn: 0.5175409\ttotal: 5.3s\tremaining: 20.9s\n",
      "202:\tlearn: 0.5172133\ttotal: 5.33s\tremaining: 20.9s\n",
      "203:\tlearn: 0.5171016\ttotal: 5.35s\tremaining: 20.9s\n",
      "204:\tlearn: 0.5167244\ttotal: 5.38s\tremaining: 20.8s\n",
      "205:\tlearn: 0.5164350\ttotal: 5.4s\tremaining: 20.8s\n",
      "206:\tlearn: 0.5163551\ttotal: 5.42s\tremaining: 20.8s\n",
      "207:\tlearn: 0.5163033\ttotal: 5.45s\tremaining: 20.7s\n",
      "208:\tlearn: 0.5158007\ttotal: 5.47s\tremaining: 20.7s\n",
      "209:\tlearn: 0.5155584\ttotal: 5.49s\tremaining: 20.7s\n",
      "210:\tlearn: 0.5155074\ttotal: 5.52s\tremaining: 20.6s\n",
      "211:\tlearn: 0.5149953\ttotal: 5.54s\tremaining: 20.6s\n",
      "212:\tlearn: 0.5147184\ttotal: 5.57s\tremaining: 20.6s\n",
      "213:\tlearn: 0.5146658\ttotal: 5.59s\tremaining: 20.5s\n",
      "214:\tlearn: 0.5142773\ttotal: 5.62s\tremaining: 20.5s\n",
      "215:\tlearn: 0.5125341\ttotal: 5.64s\tremaining: 20.5s\n",
      "216:\tlearn: 0.5123671\ttotal: 5.67s\tremaining: 20.4s\n",
      "217:\tlearn: 0.5122310\ttotal: 5.69s\tremaining: 20.4s\n",
      "218:\tlearn: 0.5120198\ttotal: 5.71s\tremaining: 20.4s\n",
      "219:\tlearn: 0.5119363\ttotal: 5.74s\tremaining: 20.3s\n",
      "220:\tlearn: 0.5118864\ttotal: 5.76s\tremaining: 20.3s\n",
      "221:\tlearn: 0.5118089\ttotal: 5.79s\tremaining: 20.3s\n",
      "222:\tlearn: 0.5117190\ttotal: 5.82s\tremaining: 20.3s\n",
      "223:\tlearn: 0.5115950\ttotal: 5.84s\tremaining: 20.2s\n",
      "224:\tlearn: 0.5113940\ttotal: 5.87s\tremaining: 20.2s\n",
      "225:\tlearn: 0.5113612\ttotal: 5.89s\tremaining: 20.2s\n",
      "226:\tlearn: 0.5111997\ttotal: 5.91s\tremaining: 20.1s\n",
      "227:\tlearn: 0.5111765\ttotal: 5.93s\tremaining: 20.1s\n",
      "228:\tlearn: 0.5107610\ttotal: 5.96s\tremaining: 20.1s\n",
      "229:\tlearn: 0.5106139\ttotal: 5.98s\tremaining: 20s\n",
      "230:\tlearn: 0.5103416\ttotal: 6s\tremaining: 20s\n",
      "231:\tlearn: 0.5100337\ttotal: 6.03s\tremaining: 20s\n",
      "232:\tlearn: 0.5099861\ttotal: 6.05s\tremaining: 19.9s\n",
      "233:\tlearn: 0.5097599\ttotal: 6.08s\tremaining: 19.9s\n",
      "234:\tlearn: 0.5090351\ttotal: 6.1s\tremaining: 19.9s\n",
      "235:\tlearn: 0.5089008\ttotal: 6.13s\tremaining: 19.8s\n",
      "236:\tlearn: 0.5087029\ttotal: 6.15s\tremaining: 19.8s\n",
      "237:\tlearn: 0.5086306\ttotal: 6.17s\tremaining: 19.8s\n",
      "238:\tlearn: 0.5085738\ttotal: 6.2s\tremaining: 19.7s\n",
      "239:\tlearn: 0.5065222\ttotal: 6.22s\tremaining: 19.7s\n",
      "240:\tlearn: 0.5064106\ttotal: 6.25s\tremaining: 19.7s\n",
      "241:\tlearn: 0.5063009\ttotal: 6.28s\tremaining: 19.7s\n",
      "242:\tlearn: 0.5059497\ttotal: 6.3s\tremaining: 19.6s\n",
      "243:\tlearn: 0.5058747\ttotal: 6.33s\tremaining: 19.6s\n",
      "244:\tlearn: 0.5055801\ttotal: 6.35s\tremaining: 19.6s\n",
      "245:\tlearn: 0.5054733\ttotal: 6.38s\tremaining: 19.5s\n",
      "246:\tlearn: 0.5047074\ttotal: 6.4s\tremaining: 19.5s\n",
      "247:\tlearn: 0.5046673\ttotal: 6.43s\tremaining: 19.5s\n",
      "248:\tlearn: 0.5045976\ttotal: 6.46s\tremaining: 19.5s\n",
      "249:\tlearn: 0.5044275\ttotal: 6.48s\tremaining: 19.4s\n",
      "250:\tlearn: 0.5038297\ttotal: 6.5s\tremaining: 19.4s\n",
      "251:\tlearn: 0.5037626\ttotal: 6.53s\tremaining: 19.4s\n",
      "252:\tlearn: 0.5036610\ttotal: 6.55s\tremaining: 19.3s\n",
      "253:\tlearn: 0.5036161\ttotal: 6.58s\tremaining: 19.3s\n",
      "254:\tlearn: 0.5034561\ttotal: 6.6s\tremaining: 19.3s\n",
      "255:\tlearn: 0.5033519\ttotal: 6.63s\tremaining: 19.3s\n",
      "256:\tlearn: 0.5028452\ttotal: 6.65s\tremaining: 19.2s\n",
      "257:\tlearn: 0.5027835\ttotal: 6.67s\tremaining: 19.2s\n",
      "258:\tlearn: 0.5024272\ttotal: 6.7s\tremaining: 19.2s\n",
      "259:\tlearn: 0.5023957\ttotal: 6.73s\tremaining: 19.2s\n",
      "260:\tlearn: 0.5022499\ttotal: 6.75s\tremaining: 19.1s\n",
      "261:\tlearn: 0.5021261\ttotal: 6.78s\tremaining: 19.1s\n",
      "262:\tlearn: 0.5012572\ttotal: 6.81s\tremaining: 19.1s\n",
      "263:\tlearn: 0.5010150\ttotal: 6.83s\tremaining: 19s\n",
      "264:\tlearn: 0.5009443\ttotal: 6.85s\tremaining: 19s\n",
      "265:\tlearn: 0.5009032\ttotal: 6.88s\tremaining: 19s\n",
      "266:\tlearn: 0.5007885\ttotal: 6.9s\tremaining: 18.9s\n",
      "267:\tlearn: 0.5006868\ttotal: 6.93s\tremaining: 18.9s\n",
      "268:\tlearn: 0.5006500\ttotal: 6.95s\tremaining: 18.9s\n",
      "269:\tlearn: 0.5006051\ttotal: 6.98s\tremaining: 18.9s\n",
      "270:\tlearn: 0.5005270\ttotal: 7s\tremaining: 18.8s\n",
      "271:\tlearn: 0.5003347\ttotal: 7.02s\tremaining: 18.8s\n",
      "272:\tlearn: 0.4997205\ttotal: 7.05s\tremaining: 18.8s\n",
      "273:\tlearn: 0.4996109\ttotal: 7.07s\tremaining: 18.7s\n",
      "274:\tlearn: 0.4995540\ttotal: 7.1s\tremaining: 18.7s\n",
      "275:\tlearn: 0.4994641\ttotal: 7.12s\tremaining: 18.7s\n",
      "276:\tlearn: 0.4994072\ttotal: 7.14s\tremaining: 18.6s\n",
      "277:\tlearn: 0.4992346\ttotal: 7.17s\tremaining: 18.6s\n",
      "278:\tlearn: 0.4989273\ttotal: 7.19s\tremaining: 18.6s\n",
      "279:\tlearn: 0.4988996\ttotal: 7.22s\tremaining: 18.6s\n",
      "280:\tlearn: 0.4987759\ttotal: 7.24s\tremaining: 18.5s\n",
      "281:\tlearn: 0.4987170\ttotal: 7.27s\tremaining: 18.5s\n",
      "282:\tlearn: 0.4986575\ttotal: 7.29s\tremaining: 18.5s\n",
      "283:\tlearn: 0.4983718\ttotal: 7.31s\tremaining: 18.4s\n",
      "284:\tlearn: 0.4981705\ttotal: 7.34s\tremaining: 18.4s\n",
      "285:\tlearn: 0.4981055\ttotal: 7.36s\tremaining: 18.4s\n",
      "286:\tlearn: 0.4980212\ttotal: 7.39s\tremaining: 18.4s\n",
      "287:\tlearn: 0.4966698\ttotal: 7.41s\tremaining: 18.3s\n",
      "288:\tlearn: 0.4965476\ttotal: 7.44s\tremaining: 18.3s\n",
      "289:\tlearn: 0.4965016\ttotal: 7.46s\tremaining: 18.3s\n",
      "290:\tlearn: 0.4963836\ttotal: 7.48s\tremaining: 18.2s\n",
      "291:\tlearn: 0.4962154\ttotal: 7.51s\tremaining: 18.2s\n",
      "292:\tlearn: 0.4961832\ttotal: 7.53s\tremaining: 18.2s\n",
      "293:\tlearn: 0.4960898\ttotal: 7.55s\tremaining: 18.1s\n",
      "294:\tlearn: 0.4959945\ttotal: 7.58s\tremaining: 18.1s\n",
      "295:\tlearn: 0.4951807\ttotal: 7.6s\tremaining: 18.1s\n",
      "296:\tlearn: 0.4950404\ttotal: 7.62s\tremaining: 18s\n",
      "297:\tlearn: 0.4949119\ttotal: 7.65s\tremaining: 18s\n",
      "298:\tlearn: 0.4941249\ttotal: 7.67s\tremaining: 18s\n",
      "299:\tlearn: 0.4940222\ttotal: 7.69s\tremaining: 18s\n",
      "300:\tlearn: 0.4938467\ttotal: 7.73s\tremaining: 17.9s\n",
      "301:\tlearn: 0.4937548\ttotal: 7.75s\tremaining: 17.9s\n",
      "302:\tlearn: 0.4936739\ttotal: 7.77s\tremaining: 17.9s\n",
      "303:\tlearn: 0.4935615\ttotal: 7.8s\tremaining: 17.9s\n",
      "304:\tlearn: 0.4934826\ttotal: 7.82s\tremaining: 17.8s\n",
      "305:\tlearn: 0.4933755\ttotal: 7.85s\tremaining: 17.8s\n",
      "306:\tlearn: 0.4933038\ttotal: 7.87s\tremaining: 17.8s\n",
      "307:\tlearn: 0.4931509\ttotal: 7.9s\tremaining: 17.7s\n",
      "308:\tlearn: 0.4931003\ttotal: 7.92s\tremaining: 17.7s\n",
      "309:\tlearn: 0.4930723\ttotal: 7.95s\tremaining: 17.7s\n",
      "310:\tlearn: 0.4930097\ttotal: 7.97s\tremaining: 17.7s\n",
      "311:\tlearn: 0.4929867\ttotal: 8s\tremaining: 17.6s\n",
      "312:\tlearn: 0.4929472\ttotal: 8.02s\tremaining: 17.6s\n",
      "313:\tlearn: 0.4928964\ttotal: 8.05s\tremaining: 17.6s\n",
      "314:\tlearn: 0.4928112\ttotal: 8.07s\tremaining: 17.6s\n",
      "315:\tlearn: 0.4924699\ttotal: 8.1s\tremaining: 17.5s\n",
      "316:\tlearn: 0.4923748\ttotal: 8.12s\tremaining: 17.5s\n",
      "317:\tlearn: 0.4923292\ttotal: 8.14s\tremaining: 17.5s\n",
      "318:\tlearn: 0.4921013\ttotal: 8.17s\tremaining: 17.4s\n",
      "319:\tlearn: 0.4917780\ttotal: 8.19s\tremaining: 17.4s\n",
      "320:\tlearn: 0.4916428\ttotal: 8.22s\tremaining: 17.4s\n",
      "321:\tlearn: 0.4915784\ttotal: 8.24s\tremaining: 17.4s\n",
      "322:\tlearn: 0.4914072\ttotal: 8.27s\tremaining: 17.3s\n",
      "323:\tlearn: 0.4913007\ttotal: 8.29s\tremaining: 17.3s\n",
      "324:\tlearn: 0.4912066\ttotal: 8.32s\tremaining: 17.3s\n",
      "325:\tlearn: 0.4911346\ttotal: 8.35s\tremaining: 17.3s\n",
      "326:\tlearn: 0.4910933\ttotal: 8.37s\tremaining: 17.2s\n",
      "327:\tlearn: 0.4910505\ttotal: 8.4s\tremaining: 17.2s\n",
      "328:\tlearn: 0.4910183\ttotal: 8.42s\tremaining: 17.2s\n",
      "329:\tlearn: 0.4909934\ttotal: 8.45s\tremaining: 17.1s\n",
      "330:\tlearn: 0.4909688\ttotal: 8.47s\tremaining: 17.1s\n",
      "331:\tlearn: 0.4906600\ttotal: 8.5s\tremaining: 17.1s\n",
      "332:\tlearn: 0.4906103\ttotal: 8.52s\tremaining: 17.1s\n",
      "333:\tlearn: 0.4905183\ttotal: 8.54s\tremaining: 17s\n",
      "334:\tlearn: 0.4898500\ttotal: 8.57s\tremaining: 17s\n",
      "335:\tlearn: 0.4897359\ttotal: 8.59s\tremaining: 17s\n",
      "336:\tlearn: 0.4896438\ttotal: 8.62s\tremaining: 17s\n",
      "337:\tlearn: 0.4895388\ttotal: 8.64s\tremaining: 16.9s\n",
      "338:\tlearn: 0.4895149\ttotal: 8.66s\tremaining: 16.9s\n",
      "339:\tlearn: 0.4894906\ttotal: 8.69s\tremaining: 16.9s\n",
      "340:\tlearn: 0.4894686\ttotal: 8.71s\tremaining: 16.8s\n",
      "341:\tlearn: 0.4893486\ttotal: 8.74s\tremaining: 16.8s\n",
      "342:\tlearn: 0.4892791\ttotal: 8.76s\tremaining: 16.8s\n",
      "343:\tlearn: 0.4892523\ttotal: 8.79s\tremaining: 16.8s\n",
      "344:\tlearn: 0.4891550\ttotal: 8.81s\tremaining: 16.7s\n",
      "345:\tlearn: 0.4868576\ttotal: 8.84s\tremaining: 16.7s\n",
      "346:\tlearn: 0.4867012\ttotal: 8.86s\tremaining: 16.7s\n",
      "347:\tlearn: 0.4863748\ttotal: 8.89s\tremaining: 16.6s\n",
      "348:\tlearn: 0.4862352\ttotal: 8.91s\tremaining: 16.6s\n",
      "349:\tlearn: 0.4862084\ttotal: 8.94s\tremaining: 16.6s\n",
      "350:\tlearn: 0.4861609\ttotal: 8.96s\tremaining: 16.6s\n",
      "351:\tlearn: 0.4860378\ttotal: 8.99s\tremaining: 16.5s\n",
      "352:\tlearn: 0.4859623\ttotal: 9.01s\tremaining: 16.5s\n",
      "353:\tlearn: 0.4858130\ttotal: 9.04s\tremaining: 16.5s\n",
      "354:\tlearn: 0.4855086\ttotal: 9.06s\tremaining: 16.5s\n",
      "355:\tlearn: 0.4854651\ttotal: 9.09s\tremaining: 16.4s\n",
      "356:\tlearn: 0.4851782\ttotal: 9.12s\tremaining: 16.4s\n",
      "357:\tlearn: 0.4851062\ttotal: 9.14s\tremaining: 16.4s\n",
      "358:\tlearn: 0.4850490\ttotal: 9.17s\tremaining: 16.4s\n",
      "359:\tlearn: 0.4849263\ttotal: 9.19s\tremaining: 16.3s\n",
      "360:\tlearn: 0.4848118\ttotal: 9.22s\tremaining: 16.3s\n",
      "361:\tlearn: 0.4847738\ttotal: 9.24s\tremaining: 16.3s\n",
      "362:\tlearn: 0.4847460\ttotal: 9.26s\tremaining: 16.3s\n",
      "363:\tlearn: 0.4847279\ttotal: 9.29s\tremaining: 16.2s\n",
      "364:\tlearn: 0.4846595\ttotal: 9.31s\tremaining: 16.2s\n",
      "365:\tlearn: 0.4843470\ttotal: 9.34s\tremaining: 16.2s\n",
      "366:\tlearn: 0.4843165\ttotal: 9.36s\tremaining: 16.1s\n",
      "367:\tlearn: 0.4838443\ttotal: 9.39s\tremaining: 16.1s\n",
      "368:\tlearn: 0.4837740\ttotal: 9.41s\tremaining: 16.1s\n",
      "369:\tlearn: 0.4836735\ttotal: 9.43s\tremaining: 16.1s\n",
      "370:\tlearn: 0.4834965\ttotal: 9.46s\tremaining: 16s\n",
      "371:\tlearn: 0.4832549\ttotal: 9.48s\tremaining: 16s\n",
      "372:\tlearn: 0.4831838\ttotal: 9.51s\tremaining: 16s\n",
      "373:\tlearn: 0.4828891\ttotal: 9.53s\tremaining: 16s\n",
      "374:\tlearn: 0.4828686\ttotal: 9.56s\tremaining: 15.9s\n",
      "375:\tlearn: 0.4828500\ttotal: 9.58s\tremaining: 15.9s\n",
      "376:\tlearn: 0.4828265\ttotal: 9.6s\tremaining: 15.9s\n",
      "377:\tlearn: 0.4828011\ttotal: 9.63s\tremaining: 15.8s\n",
      "378:\tlearn: 0.4827747\ttotal: 9.65s\tremaining: 15.8s\n",
      "379:\tlearn: 0.4824153\ttotal: 9.68s\tremaining: 15.8s\n",
      "380:\tlearn: 0.4806729\ttotal: 9.7s\tremaining: 15.8s\n",
      "381:\tlearn: 0.4805737\ttotal: 9.73s\tremaining: 15.7s\n",
      "382:\tlearn: 0.4805398\ttotal: 9.75s\tremaining: 15.7s\n",
      "383:\tlearn: 0.4805057\ttotal: 9.77s\tremaining: 15.7s\n",
      "384:\tlearn: 0.4801934\ttotal: 9.8s\tremaining: 15.7s\n",
      "385:\tlearn: 0.4800888\ttotal: 9.83s\tremaining: 15.6s\n",
      "386:\tlearn: 0.4794120\ttotal: 9.85s\tremaining: 15.6s\n",
      "387:\tlearn: 0.4793631\ttotal: 9.88s\tremaining: 15.6s\n",
      "388:\tlearn: 0.4793449\ttotal: 9.91s\tremaining: 15.6s\n",
      "389:\tlearn: 0.4792357\ttotal: 9.94s\tremaining: 15.5s\n",
      "390:\tlearn: 0.4792077\ttotal: 9.96s\tremaining: 15.5s\n",
      "391:\tlearn: 0.4791155\ttotal: 9.99s\tremaining: 15.5s\n",
      "392:\tlearn: 0.4790358\ttotal: 10s\tremaining: 15.5s\n",
      "393:\tlearn: 0.4787637\ttotal: 10s\tremaining: 15.4s\n",
      "394:\tlearn: 0.4784787\ttotal: 10.1s\tremaining: 15.4s\n",
      "395:\tlearn: 0.4781971\ttotal: 10.1s\tremaining: 15.4s\n",
      "396:\tlearn: 0.4781422\ttotal: 10.1s\tremaining: 15.4s\n",
      "397:\tlearn: 0.4781124\ttotal: 10.2s\tremaining: 15.4s\n",
      "398:\tlearn: 0.4780626\ttotal: 10.2s\tremaining: 15.4s\n",
      "399:\tlearn: 0.4780444\ttotal: 10.3s\tremaining: 15.4s\n",
      "400:\tlearn: 0.4779067\ttotal: 10.3s\tremaining: 15.4s\n",
      "401:\tlearn: 0.4758642\ttotal: 10.3s\tremaining: 15.4s\n",
      "402:\tlearn: 0.4758050\ttotal: 10.4s\tremaining: 15.4s\n",
      "403:\tlearn: 0.4757392\ttotal: 10.4s\tremaining: 15.3s\n",
      "404:\tlearn: 0.4754709\ttotal: 10.4s\tremaining: 15.3s\n",
      "405:\tlearn: 0.4754529\ttotal: 10.4s\tremaining: 15.3s\n",
      "406:\tlearn: 0.4750915\ttotal: 10.5s\tremaining: 15.3s\n",
      "407:\tlearn: 0.4750165\ttotal: 10.5s\tremaining: 15.2s\n",
      "408:\tlearn: 0.4744479\ttotal: 10.5s\tremaining: 15.2s\n",
      "409:\tlearn: 0.4731656\ttotal: 10.5s\tremaining: 15.2s\n",
      "410:\tlearn: 0.4728339\ttotal: 10.6s\tremaining: 15.2s\n",
      "411:\tlearn: 0.4723740\ttotal: 10.6s\tremaining: 15.1s\n",
      "412:\tlearn: 0.4719757\ttotal: 10.6s\tremaining: 15.1s\n",
      "413:\tlearn: 0.4717471\ttotal: 10.7s\tremaining: 15.1s\n",
      "414:\tlearn: 0.4713620\ttotal: 10.7s\tremaining: 15.1s\n",
      "415:\tlearn: 0.4712568\ttotal: 10.7s\tremaining: 15s\n",
      "416:\tlearn: 0.4710410\ttotal: 10.7s\tremaining: 15s\n",
      "417:\tlearn: 0.4709306\ttotal: 10.8s\tremaining: 15s\n",
      "418:\tlearn: 0.4708028\ttotal: 10.8s\tremaining: 15s\n",
      "419:\tlearn: 0.4707406\ttotal: 10.8s\tremaining: 14.9s\n",
      "420:\tlearn: 0.4704168\ttotal: 10.8s\tremaining: 14.9s\n",
      "421:\tlearn: 0.4704027\ttotal: 10.9s\tremaining: 14.9s\n",
      "422:\tlearn: 0.4703364\ttotal: 10.9s\tremaining: 14.8s\n",
      "423:\tlearn: 0.4702735\ttotal: 10.9s\tremaining: 14.8s\n",
      "424:\tlearn: 0.4702446\ttotal: 10.9s\tremaining: 14.8s\n",
      "425:\tlearn: 0.4702181\ttotal: 11s\tremaining: 14.8s\n",
      "426:\tlearn: 0.4701411\ttotal: 11s\tremaining: 14.7s\n",
      "427:\tlearn: 0.4701311\ttotal: 11s\tremaining: 14.7s\n",
      "428:\tlearn: 0.4700957\ttotal: 11s\tremaining: 14.7s\n",
      "429:\tlearn: 0.4689338\ttotal: 11.1s\tremaining: 14.7s\n",
      "430:\tlearn: 0.4688957\ttotal: 11.1s\tremaining: 14.6s\n",
      "431:\tlearn: 0.4688405\ttotal: 11.1s\tremaining: 14.6s\n",
      "432:\tlearn: 0.4686058\ttotal: 11.1s\tremaining: 14.6s\n",
      "433:\tlearn: 0.4683476\ttotal: 11.2s\tremaining: 14.5s\n",
      "434:\tlearn: 0.4682991\ttotal: 11.2s\tremaining: 14.5s\n",
      "435:\tlearn: 0.4682503\ttotal: 11.2s\tremaining: 14.5s\n",
      "436:\tlearn: 0.4680897\ttotal: 11.2s\tremaining: 14.5s\n",
      "437:\tlearn: 0.4678564\ttotal: 11.3s\tremaining: 14.4s\n",
      "438:\tlearn: 0.4677736\ttotal: 11.3s\tremaining: 14.4s\n",
      "439:\tlearn: 0.4677152\ttotal: 11.3s\tremaining: 14.4s\n",
      "440:\tlearn: 0.4676490\ttotal: 11.3s\tremaining: 14.4s\n",
      "441:\tlearn: 0.4675678\ttotal: 11.4s\tremaining: 14.3s\n",
      "442:\tlearn: 0.4675532\ttotal: 11.4s\tremaining: 14.3s\n",
      "443:\tlearn: 0.4670967\ttotal: 11.4s\tremaining: 14.3s\n",
      "444:\tlearn: 0.4670025\ttotal: 11.4s\tremaining: 14.3s\n",
      "445:\tlearn: 0.4659255\ttotal: 11.5s\tremaining: 14.2s\n",
      "446:\tlearn: 0.4658941\ttotal: 11.5s\tremaining: 14.2s\n",
      "447:\tlearn: 0.4656495\ttotal: 11.5s\tremaining: 14.2s\n",
      "448:\tlearn: 0.4651224\ttotal: 11.5s\tremaining: 14.2s\n",
      "449:\tlearn: 0.4649983\ttotal: 11.6s\tremaining: 14.1s\n",
      "450:\tlearn: 0.4644189\ttotal: 11.6s\tremaining: 14.1s\n",
      "451:\tlearn: 0.4639397\ttotal: 11.6s\tremaining: 14.1s\n",
      "452:\tlearn: 0.4638725\ttotal: 11.6s\tremaining: 14s\n",
      "453:\tlearn: 0.4637671\ttotal: 11.7s\tremaining: 14s\n",
      "454:\tlearn: 0.4637150\ttotal: 11.7s\tremaining: 14s\n",
      "455:\tlearn: 0.4636327\ttotal: 11.7s\tremaining: 14s\n",
      "456:\tlearn: 0.4635949\ttotal: 11.7s\tremaining: 13.9s\n",
      "457:\tlearn: 0.4632027\ttotal: 11.8s\tremaining: 13.9s\n",
      "458:\tlearn: 0.4631546\ttotal: 11.8s\tremaining: 13.9s\n",
      "459:\tlearn: 0.4627400\ttotal: 11.8s\tremaining: 13.9s\n",
      "460:\tlearn: 0.4624928\ttotal: 11.8s\tremaining: 13.8s\n",
      "461:\tlearn: 0.4622347\ttotal: 11.9s\tremaining: 13.8s\n",
      "462:\tlearn: 0.4616343\ttotal: 11.9s\tremaining: 13.8s\n",
      "463:\tlearn: 0.4615515\ttotal: 11.9s\tremaining: 13.8s\n",
      "464:\tlearn: 0.4609641\ttotal: 12s\tremaining: 13.8s\n",
      "465:\tlearn: 0.4599517\ttotal: 12s\tremaining: 13.7s\n",
      "466:\tlearn: 0.4587731\ttotal: 12s\tremaining: 13.7s\n",
      "467:\tlearn: 0.4571648\ttotal: 12s\tremaining: 13.7s\n",
      "468:\tlearn: 0.4570855\ttotal: 12.1s\tremaining: 13.7s\n",
      "469:\tlearn: 0.4569999\ttotal: 12.1s\tremaining: 13.6s\n",
      "470:\tlearn: 0.4569152\ttotal: 12.1s\tremaining: 13.6s\n",
      "471:\tlearn: 0.4565374\ttotal: 12.1s\tremaining: 13.6s\n",
      "472:\tlearn: 0.4564640\ttotal: 12.2s\tremaining: 13.5s\n",
      "473:\tlearn: 0.4562080\ttotal: 12.2s\tremaining: 13.5s\n",
      "474:\tlearn: 0.4558529\ttotal: 12.2s\tremaining: 13.5s\n",
      "475:\tlearn: 0.4556404\ttotal: 12.2s\tremaining: 13.5s\n",
      "476:\tlearn: 0.4554508\ttotal: 12.3s\tremaining: 13.4s\n",
      "477:\tlearn: 0.4553924\ttotal: 12.3s\tremaining: 13.4s\n",
      "478:\tlearn: 0.4550578\ttotal: 12.3s\tremaining: 13.4s\n",
      "479:\tlearn: 0.4536032\ttotal: 12.3s\tremaining: 13.4s\n",
      "480:\tlearn: 0.4522232\ttotal: 12.3s\tremaining: 13.3s\n",
      "481:\tlearn: 0.4509136\ttotal: 12.4s\tremaining: 13.3s\n",
      "482:\tlearn: 0.4496707\ttotal: 12.4s\tremaining: 13.3s\n",
      "483:\tlearn: 0.4495944\ttotal: 12.4s\tremaining: 13.2s\n",
      "484:\tlearn: 0.4484149\ttotal: 12.4s\tremaining: 13.2s\n",
      "485:\tlearn: 0.4472953\ttotal: 12.5s\tremaining: 13.2s\n",
      "486:\tlearn: 0.4469750\ttotal: 12.5s\tremaining: 13.2s\n",
      "487:\tlearn: 0.4459114\ttotal: 12.5s\tremaining: 13.1s\n",
      "488:\tlearn: 0.4458426\ttotal: 12.5s\tremaining: 13.1s\n",
      "489:\tlearn: 0.4447980\ttotal: 12.6s\tremaining: 13.1s\n",
      "490:\tlearn: 0.4443329\ttotal: 12.6s\tremaining: 13.1s\n",
      "491:\tlearn: 0.4442698\ttotal: 12.6s\tremaining: 13s\n",
      "492:\tlearn: 0.4432779\ttotal: 12.6s\tremaining: 13s\n",
      "493:\tlearn: 0.4431621\ttotal: 12.7s\tremaining: 13s\n",
      "494:\tlearn: 0.4429482\ttotal: 12.7s\tremaining: 12.9s\n",
      "495:\tlearn: 0.4420063\ttotal: 12.7s\tremaining: 12.9s\n",
      "496:\tlearn: 0.4416676\ttotal: 12.7s\tremaining: 12.9s\n",
      "497:\tlearn: 0.4414837\ttotal: 12.8s\tremaining: 12.9s\n",
      "498:\tlearn: 0.4412957\ttotal: 12.8s\tremaining: 12.8s\n",
      "499:\tlearn: 0.4411105\ttotal: 12.8s\tremaining: 12.8s\n",
      "500:\tlearn: 0.4409171\ttotal: 12.8s\tremaining: 12.8s\n",
      "501:\tlearn: 0.4400395\ttotal: 12.9s\tremaining: 12.8s\n",
      "502:\tlearn: 0.4398367\ttotal: 12.9s\tremaining: 12.7s\n",
      "503:\tlearn: 0.4395422\ttotal: 12.9s\tremaining: 12.7s\n",
      "504:\tlearn: 0.4393947\ttotal: 12.9s\tremaining: 12.7s\n",
      "505:\tlearn: 0.4391910\ttotal: 13s\tremaining: 12.6s\n",
      "506:\tlearn: 0.4389129\ttotal: 13s\tremaining: 12.6s\n",
      "507:\tlearn: 0.4387301\ttotal: 13s\tremaining: 12.6s\n",
      "508:\tlearn: 0.4386346\ttotal: 13s\tremaining: 12.6s\n",
      "509:\tlearn: 0.4383315\ttotal: 13.1s\tremaining: 12.5s\n",
      "510:\tlearn: 0.4380805\ttotal: 13.1s\tremaining: 12.5s\n",
      "511:\tlearn: 0.4379427\ttotal: 13.1s\tremaining: 12.5s\n",
      "512:\tlearn: 0.4378852\ttotal: 13.1s\tremaining: 12.5s\n",
      "513:\tlearn: 0.4376543\ttotal: 13.2s\tremaining: 12.4s\n",
      "514:\tlearn: 0.4370192\ttotal: 13.2s\tremaining: 12.4s\n",
      "515:\tlearn: 0.4363532\ttotal: 13.2s\tremaining: 12.4s\n",
      "516:\tlearn: 0.4362570\ttotal: 13.2s\tremaining: 12.4s\n",
      "517:\tlearn: 0.4359377\ttotal: 13.3s\tremaining: 12.3s\n",
      "518:\tlearn: 0.4357123\ttotal: 13.3s\tremaining: 12.3s\n",
      "519:\tlearn: 0.4355058\ttotal: 13.3s\tremaining: 12.3s\n",
      "520:\tlearn: 0.4353160\ttotal: 13.3s\tremaining: 12.3s\n",
      "521:\tlearn: 0.4351167\ttotal: 13.4s\tremaining: 12.2s\n",
      "522:\tlearn: 0.4348410\ttotal: 13.4s\tremaining: 12.2s\n",
      "523:\tlearn: 0.4346344\ttotal: 13.4s\tremaining: 12.2s\n",
      "524:\tlearn: 0.4344885\ttotal: 13.4s\tremaining: 12.2s\n",
      "525:\tlearn: 0.4339376\ttotal: 13.5s\tremaining: 12.1s\n",
      "526:\tlearn: 0.4331098\ttotal: 13.5s\tremaining: 12.1s\n",
      "527:\tlearn: 0.4329460\ttotal: 13.5s\tremaining: 12.1s\n",
      "528:\tlearn: 0.4327552\ttotal: 13.5s\tremaining: 12s\n",
      "529:\tlearn: 0.4326012\ttotal: 13.6s\tremaining: 12s\n",
      "530:\tlearn: 0.4323423\ttotal: 13.6s\tremaining: 12s\n",
      "531:\tlearn: 0.4320636\ttotal: 13.6s\tremaining: 12s\n",
      "532:\tlearn: 0.4320280\ttotal: 13.6s\tremaining: 11.9s\n",
      "533:\tlearn: 0.4319597\ttotal: 13.7s\tremaining: 11.9s\n",
      "534:\tlearn: 0.4318902\ttotal: 13.7s\tremaining: 11.9s\n",
      "535:\tlearn: 0.4317099\ttotal: 13.7s\tremaining: 11.9s\n",
      "536:\tlearn: 0.4316631\ttotal: 13.7s\tremaining: 11.8s\n",
      "537:\tlearn: 0.4315812\ttotal: 13.8s\tremaining: 11.8s\n",
      "538:\tlearn: 0.4315160\ttotal: 13.8s\tremaining: 11.8s\n",
      "539:\tlearn: 0.4315043\ttotal: 13.8s\tremaining: 11.8s\n",
      "540:\tlearn: 0.4314904\ttotal: 13.8s\tremaining: 11.7s\n",
      "541:\tlearn: 0.4312343\ttotal: 13.9s\tremaining: 11.7s\n",
      "542:\tlearn: 0.4311739\ttotal: 13.9s\tremaining: 11.7s\n",
      "543:\tlearn: 0.4311576\ttotal: 13.9s\tremaining: 11.7s\n",
      "544:\tlearn: 0.4311324\ttotal: 13.9s\tremaining: 11.6s\n",
      "545:\tlearn: 0.4310444\ttotal: 14s\tremaining: 11.6s\n",
      "546:\tlearn: 0.4310184\ttotal: 14s\tremaining: 11.6s\n",
      "547:\tlearn: 0.4309508\ttotal: 14s\tremaining: 11.6s\n",
      "548:\tlearn: 0.4309042\ttotal: 14s\tremaining: 11.5s\n",
      "549:\tlearn: 0.4308634\ttotal: 14.1s\tremaining: 11.5s\n",
      "550:\tlearn: 0.4306119\ttotal: 14.1s\tremaining: 11.5s\n",
      "551:\tlearn: 0.4305945\ttotal: 14.1s\tremaining: 11.5s\n",
      "552:\tlearn: 0.4305219\ttotal: 14.1s\tremaining: 11.4s\n",
      "553:\tlearn: 0.4305000\ttotal: 14.2s\tremaining: 11.4s\n",
      "554:\tlearn: 0.4304563\ttotal: 14.2s\tremaining: 11.4s\n",
      "555:\tlearn: 0.4303973\ttotal: 14.2s\tremaining: 11.3s\n",
      "556:\tlearn: 0.4303610\ttotal: 14.2s\tremaining: 11.3s\n",
      "557:\tlearn: 0.4303471\ttotal: 14.3s\tremaining: 11.3s\n",
      "558:\tlearn: 0.4300278\ttotal: 14.3s\tremaining: 11.3s\n",
      "559:\tlearn: 0.4300076\ttotal: 14.3s\tremaining: 11.2s\n",
      "560:\tlearn: 0.4299791\ttotal: 14.3s\tremaining: 11.2s\n",
      "561:\tlearn: 0.4299240\ttotal: 14.4s\tremaining: 11.2s\n",
      "562:\tlearn: 0.4298796\ttotal: 14.4s\tremaining: 11.2s\n",
      "563:\tlearn: 0.4298579\ttotal: 14.4s\tremaining: 11.1s\n",
      "564:\tlearn: 0.4298452\ttotal: 14.4s\tremaining: 11.1s\n",
      "565:\tlearn: 0.4297931\ttotal: 14.5s\tremaining: 11.1s\n",
      "566:\tlearn: 0.4297524\ttotal: 14.5s\tremaining: 11.1s\n",
      "567:\tlearn: 0.4296582\ttotal: 14.5s\tremaining: 11s\n",
      "568:\tlearn: 0.4295875\ttotal: 14.5s\tremaining: 11s\n",
      "569:\tlearn: 0.4295569\ttotal: 14.6s\tremaining: 11s\n",
      "570:\tlearn: 0.4295405\ttotal: 14.6s\tremaining: 11s\n",
      "571:\tlearn: 0.4295333\ttotal: 14.6s\tremaining: 10.9s\n",
      "572:\tlearn: 0.4294448\ttotal: 14.6s\tremaining: 10.9s\n",
      "573:\tlearn: 0.4293537\ttotal: 14.7s\tremaining: 10.9s\n",
      "574:\tlearn: 0.4291424\ttotal: 14.7s\tremaining: 10.9s\n",
      "575:\tlearn: 0.4289686\ttotal: 14.7s\tremaining: 10.8s\n",
      "576:\tlearn: 0.4288130\ttotal: 14.7s\tremaining: 10.8s\n",
      "577:\tlearn: 0.4287148\ttotal: 14.8s\tremaining: 10.8s\n",
      "578:\tlearn: 0.4285044\ttotal: 14.8s\tremaining: 10.7s\n",
      "579:\tlearn: 0.4284586\ttotal: 14.8s\tremaining: 10.7s\n",
      "580:\tlearn: 0.4284110\ttotal: 14.8s\tremaining: 10.7s\n",
      "581:\tlearn: 0.4283630\ttotal: 14.9s\tremaining: 10.7s\n",
      "582:\tlearn: 0.4283309\ttotal: 14.9s\tremaining: 10.6s\n",
      "583:\tlearn: 0.4283085\ttotal: 14.9s\tremaining: 10.6s\n",
      "584:\tlearn: 0.4282912\ttotal: 14.9s\tremaining: 10.6s\n",
      "585:\tlearn: 0.4282801\ttotal: 15s\tremaining: 10.6s\n",
      "586:\tlearn: 0.4282206\ttotal: 15s\tremaining: 10.5s\n",
      "587:\tlearn: 0.4281796\ttotal: 15s\tremaining: 10.5s\n",
      "588:\tlearn: 0.4281127\ttotal: 15s\tremaining: 10.5s\n",
      "589:\tlearn: 0.4280437\ttotal: 15.1s\tremaining: 10.5s\n",
      "590:\tlearn: 0.4280077\ttotal: 15.1s\tremaining: 10.4s\n",
      "591:\tlearn: 0.4279886\ttotal: 15.1s\tremaining: 10.4s\n",
      "592:\tlearn: 0.4278383\ttotal: 15.1s\tremaining: 10.4s\n",
      "593:\tlearn: 0.4278253\ttotal: 15.2s\tremaining: 10.4s\n",
      "594:\tlearn: 0.4278151\ttotal: 15.2s\tremaining: 10.3s\n",
      "595:\tlearn: 0.4277340\ttotal: 15.2s\tremaining: 10.3s\n",
      "596:\tlearn: 0.4276764\ttotal: 15.2s\tremaining: 10.3s\n",
      "597:\tlearn: 0.4276431\ttotal: 15.3s\tremaining: 10.3s\n",
      "598:\tlearn: 0.4275898\ttotal: 15.3s\tremaining: 10.2s\n",
      "599:\tlearn: 0.4275390\ttotal: 15.3s\tremaining: 10.2s\n",
      "600:\tlearn: 0.4275076\ttotal: 15.3s\tremaining: 10.2s\n",
      "601:\tlearn: 0.4274360\ttotal: 15.4s\tremaining: 10.2s\n",
      "602:\tlearn: 0.4274013\ttotal: 15.4s\tremaining: 10.1s\n",
      "603:\tlearn: 0.4273830\ttotal: 15.4s\tremaining: 10.1s\n",
      "604:\tlearn: 0.4273525\ttotal: 15.4s\tremaining: 10.1s\n",
      "605:\tlearn: 0.4271312\ttotal: 15.5s\tremaining: 10.1s\n",
      "606:\tlearn: 0.4271167\ttotal: 15.5s\tremaining: 10s\n",
      "607:\tlearn: 0.4270976\ttotal: 15.5s\tremaining: 10s\n",
      "608:\tlearn: 0.4270730\ttotal: 15.5s\tremaining: 9.97s\n",
      "609:\tlearn: 0.4268162\ttotal: 15.6s\tremaining: 9.95s\n",
      "610:\tlearn: 0.4268098\ttotal: 15.6s\tremaining: 9.93s\n",
      "611:\tlearn: 0.4267151\ttotal: 15.6s\tremaining: 9.9s\n",
      "612:\tlearn: 0.4266615\ttotal: 15.6s\tremaining: 9.87s\n",
      "613:\tlearn: 0.4265964\ttotal: 15.7s\tremaining: 9.85s\n",
      "614:\tlearn: 0.4265316\ttotal: 15.7s\tremaining: 9.82s\n",
      "615:\tlearn: 0.4265269\ttotal: 15.7s\tremaining: 9.8s\n",
      "616:\tlearn: 0.4264666\ttotal: 15.7s\tremaining: 9.77s\n",
      "617:\tlearn: 0.4264530\ttotal: 15.8s\tremaining: 9.74s\n",
      "618:\tlearn: 0.4262092\ttotal: 15.8s\tremaining: 9.72s\n",
      "619:\tlearn: 0.4261922\ttotal: 15.8s\tremaining: 9.69s\n",
      "620:\tlearn: 0.4259229\ttotal: 15.8s\tremaining: 9.67s\n",
      "621:\tlearn: 0.4259054\ttotal: 15.9s\tremaining: 9.64s\n",
      "622:\tlearn: 0.4258459\ttotal: 15.9s\tremaining: 9.62s\n",
      "623:\tlearn: 0.4258380\ttotal: 15.9s\tremaining: 9.59s\n",
      "624:\tlearn: 0.4257360\ttotal: 15.9s\tremaining: 9.57s\n",
      "625:\tlearn: 0.4255504\ttotal: 16s\tremaining: 9.54s\n",
      "626:\tlearn: 0.4255319\ttotal: 16s\tremaining: 9.52s\n",
      "627:\tlearn: 0.4255012\ttotal: 16s\tremaining: 9.49s\n",
      "628:\tlearn: 0.4254406\ttotal: 16s\tremaining: 9.46s\n",
      "629:\tlearn: 0.4254233\ttotal: 16.1s\tremaining: 9.44s\n",
      "630:\tlearn: 0.4254115\ttotal: 16.1s\tremaining: 9.41s\n",
      "631:\tlearn: 0.4253774\ttotal: 16.1s\tremaining: 9.39s\n",
      "632:\tlearn: 0.4253627\ttotal: 16.1s\tremaining: 9.36s\n",
      "633:\tlearn: 0.4253556\ttotal: 16.2s\tremaining: 9.34s\n",
      "634:\tlearn: 0.4252861\ttotal: 16.2s\tremaining: 9.31s\n",
      "635:\tlearn: 0.4250302\ttotal: 16.2s\tremaining: 9.29s\n",
      "636:\tlearn: 0.4249599\ttotal: 16.2s\tremaining: 9.26s\n",
      "637:\tlearn: 0.4249491\ttotal: 16.3s\tremaining: 9.24s\n",
      "638:\tlearn: 0.4249251\ttotal: 16.3s\tremaining: 9.21s\n",
      "639:\tlearn: 0.4249113\ttotal: 16.3s\tremaining: 9.19s\n",
      "640:\tlearn: 0.4246795\ttotal: 16.4s\tremaining: 9.16s\n",
      "641:\tlearn: 0.4246030\ttotal: 16.4s\tremaining: 9.14s\n",
      "642:\tlearn: 0.4244913\ttotal: 16.4s\tremaining: 9.11s\n",
      "643:\tlearn: 0.4244791\ttotal: 16.4s\tremaining: 9.09s\n",
      "644:\tlearn: 0.4244355\ttotal: 16.5s\tremaining: 9.06s\n",
      "645:\tlearn: 0.4244045\ttotal: 16.5s\tremaining: 9.04s\n",
      "646:\tlearn: 0.4242874\ttotal: 16.5s\tremaining: 9.01s\n",
      "647:\tlearn: 0.4242337\ttotal: 16.5s\tremaining: 8.99s\n",
      "648:\tlearn: 0.4241908\ttotal: 16.6s\tremaining: 8.96s\n",
      "649:\tlearn: 0.4241664\ttotal: 16.6s\tremaining: 8.94s\n",
      "650:\tlearn: 0.4240749\ttotal: 16.6s\tremaining: 8.91s\n",
      "651:\tlearn: 0.4240586\ttotal: 16.6s\tremaining: 8.88s\n",
      "652:\tlearn: 0.4239975\ttotal: 16.7s\tremaining: 8.86s\n",
      "653:\tlearn: 0.4239377\ttotal: 16.7s\tremaining: 8.84s\n",
      "654:\tlearn: 0.4239208\ttotal: 16.7s\tremaining: 8.81s\n",
      "655:\tlearn: 0.4238972\ttotal: 16.8s\tremaining: 8.8s\n",
      "656:\tlearn: 0.4238738\ttotal: 16.8s\tremaining: 8.78s\n",
      "657:\tlearn: 0.4238350\ttotal: 16.8s\tremaining: 8.76s\n",
      "658:\tlearn: 0.4238113\ttotal: 16.9s\tremaining: 8.73s\n",
      "659:\tlearn: 0.4238002\ttotal: 16.9s\tremaining: 8.71s\n",
      "660:\tlearn: 0.4237834\ttotal: 16.9s\tremaining: 8.68s\n",
      "661:\tlearn: 0.4237768\ttotal: 17s\tremaining: 8.66s\n",
      "662:\tlearn: 0.4237578\ttotal: 17s\tremaining: 8.63s\n",
      "663:\tlearn: 0.4237219\ttotal: 17s\tremaining: 8.61s\n",
      "664:\tlearn: 0.4236822\ttotal: 17s\tremaining: 8.58s\n",
      "665:\tlearn: 0.4236442\ttotal: 17.1s\tremaining: 8.55s\n",
      "666:\tlearn: 0.4234236\ttotal: 17.1s\tremaining: 8.53s\n",
      "667:\tlearn: 0.4233938\ttotal: 17.1s\tremaining: 8.5s\n",
      "668:\tlearn: 0.4233237\ttotal: 17.1s\tremaining: 8.48s\n",
      "669:\tlearn: 0.4232910\ttotal: 17.2s\tremaining: 8.45s\n",
      "670:\tlearn: 0.4232319\ttotal: 17.2s\tremaining: 8.43s\n",
      "671:\tlearn: 0.4231920\ttotal: 17.2s\tremaining: 8.4s\n",
      "672:\tlearn: 0.4231651\ttotal: 17.2s\tremaining: 8.38s\n",
      "673:\tlearn: 0.4231584\ttotal: 17.3s\tremaining: 8.35s\n",
      "674:\tlearn: 0.4230227\ttotal: 17.3s\tremaining: 8.32s\n",
      "675:\tlearn: 0.4228106\ttotal: 17.3s\tremaining: 8.3s\n",
      "676:\tlearn: 0.4227957\ttotal: 17.3s\tremaining: 8.28s\n",
      "677:\tlearn: 0.4227377\ttotal: 17.4s\tremaining: 8.25s\n",
      "678:\tlearn: 0.4226935\ttotal: 17.4s\tremaining: 8.22s\n",
      "679:\tlearn: 0.4226700\ttotal: 17.4s\tremaining: 8.2s\n",
      "680:\tlearn: 0.4226224\ttotal: 17.4s\tremaining: 8.17s\n",
      "681:\tlearn: 0.4225793\ttotal: 17.5s\tremaining: 8.15s\n",
      "682:\tlearn: 0.4225222\ttotal: 17.5s\tremaining: 8.12s\n",
      "683:\tlearn: 0.4225001\ttotal: 17.5s\tremaining: 8.1s\n",
      "684:\tlearn: 0.4224552\ttotal: 17.5s\tremaining: 8.07s\n",
      "685:\tlearn: 0.4224363\ttotal: 17.6s\tremaining: 8.04s\n",
      "686:\tlearn: 0.4223430\ttotal: 17.6s\tremaining: 8.02s\n",
      "687:\tlearn: 0.4223340\ttotal: 17.6s\tremaining: 7.99s\n",
      "688:\tlearn: 0.4220411\ttotal: 17.6s\tremaining: 7.96s\n",
      "689:\tlearn: 0.4218268\ttotal: 17.7s\tremaining: 7.94s\n",
      "690:\tlearn: 0.4217988\ttotal: 17.7s\tremaining: 7.91s\n",
      "691:\tlearn: 0.4217572\ttotal: 17.7s\tremaining: 7.89s\n",
      "692:\tlearn: 0.4217424\ttotal: 17.7s\tremaining: 7.86s\n",
      "693:\tlearn: 0.4217316\ttotal: 17.8s\tremaining: 7.84s\n",
      "694:\tlearn: 0.4217172\ttotal: 17.8s\tremaining: 7.81s\n",
      "695:\tlearn: 0.4216969\ttotal: 17.8s\tremaining: 7.79s\n",
      "696:\tlearn: 0.4216742\ttotal: 17.8s\tremaining: 7.76s\n",
      "697:\tlearn: 0.4216306\ttotal: 17.9s\tremaining: 7.73s\n",
      "698:\tlearn: 0.4216081\ttotal: 17.9s\tremaining: 7.71s\n",
      "699:\tlearn: 0.4215996\ttotal: 17.9s\tremaining: 7.68s\n",
      "700:\tlearn: 0.4215940\ttotal: 17.9s\tremaining: 7.65s\n",
      "701:\tlearn: 0.4215628\ttotal: 18s\tremaining: 7.63s\n",
      "702:\tlearn: 0.4215354\ttotal: 18s\tremaining: 7.6s\n",
      "703:\tlearn: 0.4215017\ttotal: 18s\tremaining: 7.58s\n",
      "704:\tlearn: 0.4214564\ttotal: 18s\tremaining: 7.55s\n",
      "705:\tlearn: 0.4214305\ttotal: 18.1s\tremaining: 7.53s\n",
      "706:\tlearn: 0.4214214\ttotal: 18.1s\tremaining: 7.5s\n",
      "707:\tlearn: 0.4213423\ttotal: 18.1s\tremaining: 7.47s\n",
      "708:\tlearn: 0.4213238\ttotal: 18.2s\tremaining: 7.45s\n",
      "709:\tlearn: 0.4212973\ttotal: 18.2s\tremaining: 7.43s\n",
      "710:\tlearn: 0.4212523\ttotal: 18.2s\tremaining: 7.4s\n",
      "711:\tlearn: 0.4212271\ttotal: 18.2s\tremaining: 7.37s\n",
      "712:\tlearn: 0.4211626\ttotal: 18.3s\tremaining: 7.35s\n",
      "713:\tlearn: 0.4211349\ttotal: 18.3s\tremaining: 7.32s\n",
      "714:\tlearn: 0.4211147\ttotal: 18.3s\tremaining: 7.3s\n",
      "715:\tlearn: 0.4210751\ttotal: 18.3s\tremaining: 7.27s\n",
      "716:\tlearn: 0.4210558\ttotal: 18.4s\tremaining: 7.25s\n",
      "717:\tlearn: 0.4210428\ttotal: 18.4s\tremaining: 7.22s\n",
      "718:\tlearn: 0.4208685\ttotal: 18.4s\tremaining: 7.2s\n",
      "719:\tlearn: 0.4208408\ttotal: 18.4s\tremaining: 7.17s\n",
      "720:\tlearn: 0.4206603\ttotal: 18.5s\tremaining: 7.14s\n",
      "721:\tlearn: 0.4206311\ttotal: 18.5s\tremaining: 7.12s\n",
      "722:\tlearn: 0.4201092\ttotal: 18.5s\tremaining: 7.09s\n",
      "723:\tlearn: 0.4201008\ttotal: 18.5s\tremaining: 7.07s\n",
      "724:\tlearn: 0.4200570\ttotal: 18.6s\tremaining: 7.04s\n",
      "725:\tlearn: 0.4198996\ttotal: 18.6s\tremaining: 7.02s\n",
      "726:\tlearn: 0.4198824\ttotal: 18.6s\tremaining: 6.99s\n",
      "727:\tlearn: 0.4198399\ttotal: 18.6s\tremaining: 6.97s\n",
      "728:\tlearn: 0.4195721\ttotal: 18.7s\tremaining: 6.94s\n",
      "729:\tlearn: 0.4193197\ttotal: 18.7s\tremaining: 6.92s\n",
      "730:\tlearn: 0.4193157\ttotal: 18.7s\tremaining: 6.89s\n",
      "731:\tlearn: 0.4193078\ttotal: 18.8s\tremaining: 6.87s\n",
      "732:\tlearn: 0.4192908\ttotal: 18.8s\tremaining: 6.84s\n",
      "733:\tlearn: 0.4192781\ttotal: 18.8s\tremaining: 6.81s\n",
      "734:\tlearn: 0.4190784\ttotal: 18.8s\tremaining: 6.79s\n",
      "735:\tlearn: 0.4190663\ttotal: 18.9s\tremaining: 6.76s\n",
      "736:\tlearn: 0.4190308\ttotal: 18.9s\tremaining: 6.74s\n",
      "737:\tlearn: 0.4190154\ttotal: 18.9s\tremaining: 6.71s\n",
      "738:\tlearn: 0.4188779\ttotal: 18.9s\tremaining: 6.69s\n",
      "739:\tlearn: 0.4186884\ttotal: 19s\tremaining: 6.66s\n",
      "740:\tlearn: 0.4186086\ttotal: 19s\tremaining: 6.63s\n",
      "741:\tlearn: 0.4185393\ttotal: 19s\tremaining: 6.61s\n",
      "742:\tlearn: 0.4185187\ttotal: 19s\tremaining: 6.58s\n",
      "743:\tlearn: 0.4185127\ttotal: 19.1s\tremaining: 6.56s\n",
      "744:\tlearn: 0.4185029\ttotal: 19.1s\tremaining: 6.53s\n",
      "745:\tlearn: 0.4184606\ttotal: 19.1s\tremaining: 6.5s\n",
      "746:\tlearn: 0.4184273\ttotal: 19.1s\tremaining: 6.48s\n",
      "747:\tlearn: 0.4183977\ttotal: 19.2s\tremaining: 6.45s\n",
      "748:\tlearn: 0.4183579\ttotal: 19.2s\tremaining: 6.43s\n",
      "749:\tlearn: 0.4183130\ttotal: 19.2s\tremaining: 6.4s\n",
      "750:\tlearn: 0.4182970\ttotal: 19.2s\tremaining: 6.37s\n",
      "751:\tlearn: 0.4182914\ttotal: 19.3s\tremaining: 6.35s\n",
      "752:\tlearn: 0.4182426\ttotal: 19.3s\tremaining: 6.32s\n",
      "753:\tlearn: 0.4182320\ttotal: 19.3s\tremaining: 6.3s\n",
      "754:\tlearn: 0.4180985\ttotal: 19.3s\tremaining: 6.27s\n",
      "755:\tlearn: 0.4178509\ttotal: 19.4s\tremaining: 6.25s\n",
      "756:\tlearn: 0.4178403\ttotal: 19.4s\tremaining: 6.22s\n",
      "757:\tlearn: 0.4177987\ttotal: 19.4s\tremaining: 6.19s\n",
      "758:\tlearn: 0.4177491\ttotal: 19.4s\tremaining: 6.17s\n",
      "759:\tlearn: 0.4176002\ttotal: 19.5s\tremaining: 6.14s\n",
      "760:\tlearn: 0.4175908\ttotal: 19.5s\tremaining: 6.12s\n",
      "761:\tlearn: 0.4174371\ttotal: 19.5s\tremaining: 6.09s\n",
      "762:\tlearn: 0.4174249\ttotal: 19.5s\tremaining: 6.07s\n",
      "763:\tlearn: 0.4173980\ttotal: 19.6s\tremaining: 6.04s\n",
      "764:\tlearn: 0.4173405\ttotal: 19.6s\tremaining: 6.02s\n",
      "765:\tlearn: 0.4173263\ttotal: 19.6s\tremaining: 5.99s\n",
      "766:\tlearn: 0.4172952\ttotal: 19.6s\tremaining: 5.96s\n",
      "767:\tlearn: 0.4172757\ttotal: 19.7s\tremaining: 5.94s\n",
      "768:\tlearn: 0.4171736\ttotal: 19.7s\tremaining: 5.91s\n",
      "769:\tlearn: 0.4171699\ttotal: 19.7s\tremaining: 5.89s\n",
      "770:\tlearn: 0.4171632\ttotal: 19.7s\tremaining: 5.86s\n",
      "771:\tlearn: 0.4171442\ttotal: 19.8s\tremaining: 5.84s\n",
      "772:\tlearn: 0.4170299\ttotal: 19.8s\tremaining: 5.81s\n",
      "773:\tlearn: 0.4170010\ttotal: 19.8s\tremaining: 5.78s\n",
      "774:\tlearn: 0.4168893\ttotal: 19.8s\tremaining: 5.76s\n",
      "775:\tlearn: 0.4168451\ttotal: 19.9s\tremaining: 5.73s\n",
      "776:\tlearn: 0.4168302\ttotal: 19.9s\tremaining: 5.71s\n",
      "777:\tlearn: 0.4168167\ttotal: 19.9s\tremaining: 5.68s\n",
      "778:\tlearn: 0.4166363\ttotal: 19.9s\tremaining: 5.65s\n",
      "779:\tlearn: 0.4166118\ttotal: 20s\tremaining: 5.63s\n",
      "780:\tlearn: 0.4165887\ttotal: 20s\tremaining: 5.6s\n",
      "781:\tlearn: 0.4165317\ttotal: 20s\tremaining: 5.58s\n",
      "782:\tlearn: 0.4165233\ttotal: 20s\tremaining: 5.55s\n",
      "783:\tlearn: 0.4164811\ttotal: 20.1s\tremaining: 5.53s\n",
      "784:\tlearn: 0.4164636\ttotal: 20.1s\tremaining: 5.5s\n",
      "785:\tlearn: 0.4164028\ttotal: 20.1s\tremaining: 5.47s\n",
      "786:\tlearn: 0.4163498\ttotal: 20.1s\tremaining: 5.45s\n",
      "787:\tlearn: 0.4163020\ttotal: 20.2s\tremaining: 5.42s\n",
      "788:\tlearn: 0.4161513\ttotal: 20.2s\tremaining: 5.39s\n",
      "789:\tlearn: 0.4159891\ttotal: 20.2s\tremaining: 5.37s\n",
      "790:\tlearn: 0.4159632\ttotal: 20.2s\tremaining: 5.34s\n",
      "791:\tlearn: 0.4159469\ttotal: 20.2s\tremaining: 5.32s\n",
      "792:\tlearn: 0.4159296\ttotal: 20.3s\tremaining: 5.29s\n",
      "793:\tlearn: 0.4159129\ttotal: 20.3s\tremaining: 5.27s\n",
      "794:\tlearn: 0.4154600\ttotal: 20.3s\tremaining: 5.24s\n",
      "795:\tlearn: 0.4153992\ttotal: 20.3s\tremaining: 5.21s\n",
      "796:\tlearn: 0.4152645\ttotal: 20.4s\tremaining: 5.19s\n",
      "797:\tlearn: 0.4152480\ttotal: 20.4s\tremaining: 5.16s\n",
      "798:\tlearn: 0.4151929\ttotal: 20.4s\tremaining: 5.14s\n",
      "799:\tlearn: 0.4151500\ttotal: 20.4s\tremaining: 5.11s\n",
      "800:\tlearn: 0.4150983\ttotal: 20.5s\tremaining: 5.09s\n",
      "801:\tlearn: 0.4150861\ttotal: 20.5s\tremaining: 5.06s\n",
      "802:\tlearn: 0.4150507\ttotal: 20.5s\tremaining: 5.04s\n",
      "803:\tlearn: 0.4148874\ttotal: 20.6s\tremaining: 5.01s\n",
      "804:\tlearn: 0.4148633\ttotal: 20.6s\tremaining: 4.98s\n",
      "805:\tlearn: 0.4148439\ttotal: 20.6s\tremaining: 4.96s\n",
      "806:\tlearn: 0.4148271\ttotal: 20.6s\tremaining: 4.93s\n",
      "807:\tlearn: 0.4148023\ttotal: 20.7s\tremaining: 4.91s\n",
      "808:\tlearn: 0.4147411\ttotal: 20.7s\tremaining: 4.88s\n",
      "809:\tlearn: 0.4147306\ttotal: 20.7s\tremaining: 4.86s\n",
      "810:\tlearn: 0.4147177\ttotal: 20.7s\tremaining: 4.83s\n",
      "811:\tlearn: 0.4146963\ttotal: 20.7s\tremaining: 4.8s\n",
      "812:\tlearn: 0.4146413\ttotal: 20.8s\tremaining: 4.78s\n",
      "813:\tlearn: 0.4146320\ttotal: 20.8s\tremaining: 4.75s\n",
      "814:\tlearn: 0.4142747\ttotal: 20.8s\tremaining: 4.72s\n",
      "815:\tlearn: 0.4142323\ttotal: 20.8s\tremaining: 4.7s\n",
      "816:\tlearn: 0.4141783\ttotal: 20.9s\tremaining: 4.67s\n",
      "817:\tlearn: 0.4141552\ttotal: 20.9s\tremaining: 4.65s\n",
      "818:\tlearn: 0.4137648\ttotal: 20.9s\tremaining: 4.62s\n",
      "819:\tlearn: 0.4137270\ttotal: 20.9s\tremaining: 4.6s\n",
      "820:\tlearn: 0.4136930\ttotal: 21s\tremaining: 4.57s\n",
      "821:\tlearn: 0.4136163\ttotal: 21s\tremaining: 4.54s\n",
      "822:\tlearn: 0.4136084\ttotal: 21s\tremaining: 4.52s\n",
      "823:\tlearn: 0.4135798\ttotal: 21s\tremaining: 4.49s\n",
      "824:\tlearn: 0.4135749\ttotal: 21.1s\tremaining: 4.47s\n",
      "825:\tlearn: 0.4135558\ttotal: 21.1s\tremaining: 4.44s\n",
      "826:\tlearn: 0.4135147\ttotal: 21.1s\tremaining: 4.42s\n",
      "827:\tlearn: 0.4132741\ttotal: 21.1s\tremaining: 4.39s\n",
      "828:\tlearn: 0.4132650\ttotal: 21.2s\tremaining: 4.36s\n",
      "829:\tlearn: 0.4132493\ttotal: 21.2s\tremaining: 4.34s\n",
      "830:\tlearn: 0.4132308\ttotal: 21.2s\tremaining: 4.31s\n",
      "831:\tlearn: 0.4132163\ttotal: 21.2s\tremaining: 4.29s\n",
      "832:\tlearn: 0.4131578\ttotal: 21.3s\tremaining: 4.26s\n",
      "833:\tlearn: 0.4131369\ttotal: 21.3s\tremaining: 4.23s\n",
      "834:\tlearn: 0.4129293\ttotal: 21.3s\tremaining: 4.21s\n",
      "835:\tlearn: 0.4128972\ttotal: 21.3s\tremaining: 4.18s\n",
      "836:\tlearn: 0.4128708\ttotal: 21.3s\tremaining: 4.16s\n",
      "837:\tlearn: 0.4128466\ttotal: 21.4s\tremaining: 4.13s\n",
      "838:\tlearn: 0.4128258\ttotal: 21.4s\tremaining: 4.11s\n",
      "839:\tlearn: 0.4127664\ttotal: 21.4s\tremaining: 4.08s\n",
      "840:\tlearn: 0.4127385\ttotal: 21.4s\tremaining: 4.05s\n",
      "841:\tlearn: 0.4127048\ttotal: 21.5s\tremaining: 4.03s\n",
      "842:\tlearn: 0.4126842\ttotal: 21.5s\tremaining: 4s\n",
      "843:\tlearn: 0.4126647\ttotal: 21.5s\tremaining: 3.98s\n",
      "844:\tlearn: 0.4126203\ttotal: 21.5s\tremaining: 3.95s\n",
      "845:\tlearn: 0.4125174\ttotal: 21.6s\tremaining: 3.93s\n",
      "846:\tlearn: 0.4124138\ttotal: 21.6s\tremaining: 3.9s\n",
      "847:\tlearn: 0.4123961\ttotal: 21.6s\tremaining: 3.88s\n",
      "848:\tlearn: 0.4123610\ttotal: 21.6s\tremaining: 3.85s\n",
      "849:\tlearn: 0.4123489\ttotal: 21.7s\tremaining: 3.83s\n",
      "850:\tlearn: 0.4122512\ttotal: 21.7s\tremaining: 3.8s\n",
      "851:\tlearn: 0.4122357\ttotal: 21.7s\tremaining: 3.77s\n",
      "852:\tlearn: 0.4122094\ttotal: 21.8s\tremaining: 3.75s\n",
      "853:\tlearn: 0.4114605\ttotal: 21.8s\tremaining: 3.72s\n",
      "854:\tlearn: 0.4114521\ttotal: 21.8s\tremaining: 3.7s\n",
      "855:\tlearn: 0.4114141\ttotal: 21.8s\tremaining: 3.67s\n",
      "856:\tlearn: 0.4113886\ttotal: 21.9s\tremaining: 3.65s\n",
      "857:\tlearn: 0.4106786\ttotal: 21.9s\tremaining: 3.62s\n",
      "858:\tlearn: 0.4106744\ttotal: 21.9s\tremaining: 3.6s\n",
      "859:\tlearn: 0.4105869\ttotal: 21.9s\tremaining: 3.57s\n",
      "860:\tlearn: 0.4105360\ttotal: 22s\tremaining: 3.54s\n",
      "861:\tlearn: 0.4104931\ttotal: 22s\tremaining: 3.52s\n",
      "862:\tlearn: 0.4097841\ttotal: 22s\tremaining: 3.49s\n",
      "863:\tlearn: 0.4095466\ttotal: 22s\tremaining: 3.47s\n",
      "864:\tlearn: 0.4088346\ttotal: 22.1s\tremaining: 3.44s\n",
      "865:\tlearn: 0.4085780\ttotal: 22.1s\tremaining: 3.42s\n",
      "866:\tlearn: 0.4079699\ttotal: 22.1s\tremaining: 3.39s\n",
      "867:\tlearn: 0.4073934\ttotal: 22.1s\tremaining: 3.36s\n",
      "868:\tlearn: 0.4073448\ttotal: 22.1s\tremaining: 3.34s\n",
      "869:\tlearn: 0.4071499\ttotal: 22.2s\tremaining: 3.31s\n",
      "870:\tlearn: 0.4066026\ttotal: 22.2s\tremaining: 3.29s\n",
      "871:\tlearn: 0.4060835\ttotal: 22.2s\tremaining: 3.26s\n",
      "872:\tlearn: 0.4055688\ttotal: 22.3s\tremaining: 3.24s\n",
      "873:\tlearn: 0.4054396\ttotal: 22.3s\tremaining: 3.21s\n",
      "874:\tlearn: 0.4049512\ttotal: 22.3s\tremaining: 3.19s\n",
      "875:\tlearn: 0.4044883\ttotal: 22.3s\tremaining: 3.16s\n",
      "876:\tlearn: 0.4043702\ttotal: 22.3s\tremaining: 3.13s\n",
      "877:\tlearn: 0.4039313\ttotal: 22.4s\tremaining: 3.11s\n",
      "878:\tlearn: 0.4035152\ttotal: 22.4s\tremaining: 3.08s\n",
      "879:\tlearn: 0.4034366\ttotal: 22.4s\tremaining: 3.06s\n",
      "880:\tlearn: 0.4032243\ttotal: 22.4s\tremaining: 3.03s\n",
      "881:\tlearn: 0.4030976\ttotal: 22.5s\tremaining: 3s\n",
      "882:\tlearn: 0.4029605\ttotal: 22.5s\tremaining: 2.98s\n",
      "883:\tlearn: 0.4027325\ttotal: 22.5s\tremaining: 2.95s\n",
      "884:\tlearn: 0.4025429\ttotal: 22.5s\tremaining: 2.93s\n",
      "885:\tlearn: 0.4024213\ttotal: 22.6s\tremaining: 2.9s\n",
      "886:\tlearn: 0.4022443\ttotal: 22.6s\tremaining: 2.88s\n",
      "887:\tlearn: 0.4021233\ttotal: 22.6s\tremaining: 2.85s\n",
      "888:\tlearn: 0.4019734\ttotal: 22.6s\tremaining: 2.83s\n",
      "889:\tlearn: 0.4018168\ttotal: 22.7s\tremaining: 2.8s\n",
      "890:\tlearn: 0.4017017\ttotal: 22.7s\tremaining: 2.78s\n",
      "891:\tlearn: 0.4015484\ttotal: 22.7s\tremaining: 2.75s\n",
      "892:\tlearn: 0.4011562\ttotal: 22.7s\tremaining: 2.72s\n",
      "893:\tlearn: 0.4009934\ttotal: 22.8s\tremaining: 2.7s\n",
      "894:\tlearn: 0.4006211\ttotal: 22.8s\tremaining: 2.67s\n",
      "895:\tlearn: 0.4003764\ttotal: 22.8s\tremaining: 2.65s\n",
      "896:\tlearn: 0.4002471\ttotal: 22.8s\tremaining: 2.62s\n",
      "897:\tlearn: 0.4000718\ttotal: 22.9s\tremaining: 2.6s\n",
      "898:\tlearn: 0.3999703\ttotal: 22.9s\tremaining: 2.57s\n",
      "899:\tlearn: 0.3996178\ttotal: 22.9s\tremaining: 2.54s\n",
      "900:\tlearn: 0.3995903\ttotal: 22.9s\tremaining: 2.52s\n",
      "901:\tlearn: 0.3994682\ttotal: 23s\tremaining: 2.49s\n",
      "902:\tlearn: 0.3992931\ttotal: 23s\tremaining: 2.47s\n",
      "903:\tlearn: 0.3991446\ttotal: 23s\tremaining: 2.44s\n",
      "904:\tlearn: 0.3991222\ttotal: 23s\tremaining: 2.42s\n",
      "905:\tlearn: 0.3990186\ttotal: 23.1s\tremaining: 2.39s\n",
      "906:\tlearn: 0.3988703\ttotal: 23.1s\tremaining: 2.37s\n",
      "907:\tlearn: 0.3987366\ttotal: 23.1s\tremaining: 2.34s\n",
      "908:\tlearn: 0.3986932\ttotal: 23.1s\tremaining: 2.32s\n",
      "909:\tlearn: 0.3986730\ttotal: 23.2s\tremaining: 2.29s\n",
      "910:\tlearn: 0.3986606\ttotal: 23.2s\tremaining: 2.27s\n",
      "911:\tlearn: 0.3984255\ttotal: 23.2s\tremaining: 2.24s\n",
      "912:\tlearn: 0.3982213\ttotal: 23.2s\tremaining: 2.21s\n",
      "913:\tlearn: 0.3981662\ttotal: 23.3s\tremaining: 2.19s\n",
      "914:\tlearn: 0.3980756\ttotal: 23.3s\tremaining: 2.16s\n",
      "915:\tlearn: 0.3980466\ttotal: 23.3s\tremaining: 2.14s\n",
      "916:\tlearn: 0.3980259\ttotal: 23.3s\tremaining: 2.11s\n",
      "917:\tlearn: 0.3980083\ttotal: 23.4s\tremaining: 2.09s\n",
      "918:\tlearn: 0.3979955\ttotal: 23.4s\tremaining: 2.06s\n",
      "919:\tlearn: 0.3979806\ttotal: 23.4s\tremaining: 2.04s\n",
      "920:\tlearn: 0.3979635\ttotal: 23.4s\tremaining: 2.01s\n",
      "921:\tlearn: 0.3978307\ttotal: 23.5s\tremaining: 1.98s\n",
      "922:\tlearn: 0.3977983\ttotal: 23.5s\tremaining: 1.96s\n",
      "923:\tlearn: 0.3977212\ttotal: 23.5s\tremaining: 1.93s\n",
      "924:\tlearn: 0.3976238\ttotal: 23.5s\tremaining: 1.91s\n",
      "925:\tlearn: 0.3976072\ttotal: 23.6s\tremaining: 1.88s\n",
      "926:\tlearn: 0.3975931\ttotal: 23.6s\tremaining: 1.86s\n",
      "927:\tlearn: 0.3975782\ttotal: 23.6s\tremaining: 1.83s\n",
      "928:\tlearn: 0.3975603\ttotal: 23.6s\tremaining: 1.8s\n",
      "929:\tlearn: 0.3975340\ttotal: 23.7s\tremaining: 1.78s\n",
      "930:\tlearn: 0.3975218\ttotal: 23.7s\tremaining: 1.75s\n",
      "931:\tlearn: 0.3975063\ttotal: 23.7s\tremaining: 1.73s\n",
      "932:\tlearn: 0.3974670\ttotal: 23.7s\tremaining: 1.7s\n",
      "933:\tlearn: 0.3974331\ttotal: 23.8s\tremaining: 1.68s\n",
      "934:\tlearn: 0.3973260\ttotal: 23.8s\tremaining: 1.65s\n",
      "935:\tlearn: 0.3972872\ttotal: 23.8s\tremaining: 1.63s\n",
      "936:\tlearn: 0.3970660\ttotal: 23.8s\tremaining: 1.6s\n",
      "937:\tlearn: 0.3969951\ttotal: 23.9s\tremaining: 1.58s\n",
      "938:\tlearn: 0.3969887\ttotal: 23.9s\tremaining: 1.55s\n",
      "939:\tlearn: 0.3967956\ttotal: 23.9s\tremaining: 1.52s\n",
      "940:\tlearn: 0.3967857\ttotal: 23.9s\tremaining: 1.5s\n",
      "941:\tlearn: 0.3967675\ttotal: 23.9s\tremaining: 1.47s\n",
      "942:\tlearn: 0.3967321\ttotal: 24s\tremaining: 1.45s\n",
      "943:\tlearn: 0.3967150\ttotal: 24s\tremaining: 1.42s\n",
      "944:\tlearn: 0.3965226\ttotal: 24s\tremaining: 1.4s\n",
      "945:\tlearn: 0.3965048\ttotal: 24s\tremaining: 1.37s\n",
      "946:\tlearn: 0.3964599\ttotal: 24.1s\tremaining: 1.35s\n",
      "947:\tlearn: 0.3964443\ttotal: 24.1s\tremaining: 1.32s\n",
      "948:\tlearn: 0.3964291\ttotal: 24.1s\tremaining: 1.3s\n",
      "949:\tlearn: 0.3964068\ttotal: 24.1s\tremaining: 1.27s\n",
      "950:\tlearn: 0.3963998\ttotal: 24.2s\tremaining: 1.25s\n",
      "951:\tlearn: 0.3962326\ttotal: 24.2s\tremaining: 1.22s\n",
      "952:\tlearn: 0.3961107\ttotal: 24.2s\tremaining: 1.19s\n",
      "953:\tlearn: 0.3960941\ttotal: 24.2s\tremaining: 1.17s\n",
      "954:\tlearn: 0.3960597\ttotal: 24.3s\tremaining: 1.14s\n",
      "955:\tlearn: 0.3960154\ttotal: 24.3s\tremaining: 1.12s\n",
      "956:\tlearn: 0.3959961\ttotal: 24.3s\tremaining: 1.09s\n",
      "957:\tlearn: 0.3959335\ttotal: 24.3s\tremaining: 1.07s\n",
      "958:\tlearn: 0.3959149\ttotal: 24.4s\tremaining: 1.04s\n",
      "959:\tlearn: 0.3959009\ttotal: 24.4s\tremaining: 1.02s\n",
      "960:\tlearn: 0.3957997\ttotal: 24.4s\tremaining: 991ms\n",
      "961:\tlearn: 0.3956212\ttotal: 24.4s\tremaining: 965ms\n",
      "962:\tlearn: 0.3956101\ttotal: 24.5s\tremaining: 940ms\n",
      "963:\tlearn: 0.3955757\ttotal: 24.5s\tremaining: 915ms\n",
      "964:\tlearn: 0.3955490\ttotal: 24.5s\tremaining: 889ms\n",
      "965:\tlearn: 0.3955409\ttotal: 24.5s\tremaining: 864ms\n",
      "966:\tlearn: 0.3955242\ttotal: 24.6s\tremaining: 839ms\n",
      "967:\tlearn: 0.3955136\ttotal: 24.6s\tremaining: 813ms\n",
      "968:\tlearn: 0.3954007\ttotal: 24.6s\tremaining: 788ms\n",
      "969:\tlearn: 0.3952825\ttotal: 24.7s\tremaining: 762ms\n",
      "970:\tlearn: 0.3952765\ttotal: 24.7s\tremaining: 737ms\n",
      "971:\tlearn: 0.3952657\ttotal: 24.7s\tremaining: 712ms\n",
      "972:\tlearn: 0.3952546\ttotal: 24.7s\tremaining: 686ms\n",
      "973:\tlearn: 0.3952370\ttotal: 24.8s\tremaining: 661ms\n",
      "974:\tlearn: 0.3952278\ttotal: 24.8s\tremaining: 635ms\n",
      "975:\tlearn: 0.3951344\ttotal: 24.8s\tremaining: 610ms\n",
      "976:\tlearn: 0.3951188\ttotal: 24.8s\tremaining: 585ms\n",
      "977:\tlearn: 0.3951021\ttotal: 24.9s\tremaining: 559ms\n",
      "978:\tlearn: 0.3950934\ttotal: 24.9s\tremaining: 534ms\n",
      "979:\tlearn: 0.3950415\ttotal: 24.9s\tremaining: 509ms\n",
      "980:\tlearn: 0.3949940\ttotal: 24.9s\tremaining: 483ms\n",
      "981:\tlearn: 0.3949856\ttotal: 25s\tremaining: 458ms\n",
      "982:\tlearn: 0.3948054\ttotal: 25s\tremaining: 432ms\n",
      "983:\tlearn: 0.3947177\ttotal: 25s\tremaining: 407ms\n",
      "984:\tlearn: 0.3946670\ttotal: 25s\tremaining: 381ms\n",
      "985:\tlearn: 0.3945664\ttotal: 25.1s\tremaining: 356ms\n",
      "986:\tlearn: 0.3944644\ttotal: 25.1s\tremaining: 331ms\n",
      "987:\tlearn: 0.3944475\ttotal: 25.1s\tremaining: 305ms\n",
      "988:\tlearn: 0.3943172\ttotal: 25.1s\tremaining: 280ms\n",
      "989:\tlearn: 0.3942947\ttotal: 25.2s\tremaining: 254ms\n",
      "990:\tlearn: 0.3942728\ttotal: 25.2s\tremaining: 229ms\n",
      "991:\tlearn: 0.3942517\ttotal: 25.2s\tremaining: 203ms\n",
      "992:\tlearn: 0.3942444\ttotal: 25.2s\tremaining: 178ms\n",
      "993:\tlearn: 0.3942327\ttotal: 25.3s\tremaining: 153ms\n",
      "994:\tlearn: 0.3942172\ttotal: 25.3s\tremaining: 127ms\n",
      "995:\tlearn: 0.3941477\ttotal: 25.3s\tremaining: 102ms\n",
      "996:\tlearn: 0.3941353\ttotal: 25.4s\tremaining: 76.3ms\n",
      "997:\tlearn: 0.3941186\ttotal: 25.4s\tremaining: 50.9ms\n",
      "998:\tlearn: 0.3940244\ttotal: 25.4s\tremaining: 25.4ms\n",
      "999:\tlearn: 0.3939902\ttotal: 25.4s\tremaining: 0us\n"
     ]
    },
    {
     "data": {
      "text/plain": [
       "<catboost.core.CatBoostRegressor at 0x2cd125ad7b0>"
      ]
     },
     "execution_count": 321,
     "metadata": {},
     "output_type": "execute_result"
    }
   ],
   "source": [
    "model = ctb.CatBoostRegressor(random_state=27, verbose=1)\n",
    "\n",
    "model.fit(x_train, y_train)"
   ]
  },
  {
   "cell_type": "code",
   "execution_count": 322,
   "id": "7fcbd078-3378-41e6-b9fb-634909389073",
   "metadata": {
    "tags": []
   },
   "outputs": [],
   "source": [
    "pred_train = model.predict(x_train)\n",
    "pred_test = model.predict(x_test)"
   ]
  },
  {
   "cell_type": "code",
   "execution_count": 323,
   "id": "cdb3a620-4e8f-42c9-a015-58c9c6c84335",
   "metadata": {
    "tags": []
   },
   "outputs": [
    {
     "name": "stdout",
     "output_type": "stream",
     "text": [
      "0.8359267477858133 0.11364517014080265\n"
     ]
    }
   ],
   "source": [
    "print(r2_score(y_train, pred_train), mean_absolute_error(y_train, pred_train))"
   ]
  },
  {
   "cell_type": "code",
   "execution_count": 324,
   "id": "b6bcc399-a42c-40be-96b4-f6f5c1bc02a0",
   "metadata": {
    "tags": []
   },
   "outputs": [
    {
     "name": "stdout",
     "output_type": "stream",
     "text": [
      "0.517034593123481 0.1210294094835803\n"
     ]
    }
   ],
   "source": [
    "print(r2_score(y_test, pred_test), mean_absolute_error(y_test, pred_test))"
   ]
  },
  {
   "cell_type": "markdown",
   "id": "130b5d36-5132-407c-b662-1fd7360be48c",
   "metadata": {},
   "source": [
    "51% дисперсии при обучении, но если отправить при остальных тех же условиях accuracy достигает 30%"
   ]
  },
  {
   "cell_type": "markdown",
   "id": "acb7c882-0a7a-4157-b8a4-1d00627eab2a",
   "metadata": {},
   "source": [
    "Линейная модель умудряется описать только 10% дисперсии(это очень мало), так что перейду сразу к нейронкам"
   ]
  },
  {
   "cell_type": "markdown",
   "id": "70bc251c-861a-4d7f-9ea9-a635b0551512",
   "metadata": {},
   "source": [
    "Долго настраивая слои, активации и rate в дропоуте у меня получилась такая нейронка"
   ]
  },
  {
   "cell_type": "code",
   "execution_count": 329,
   "id": "bcd68a0a-a6d3-4889-83f8-fda04a922977",
   "metadata": {},
   "outputs": [],
   "source": [
    "model = tf.keras.models.Sequential([\n",
    "    tf.keras.layers.Dense(20, input_shape=x_train.iloc[0].shape, activation='relu'),\n",
    "    tf.keras.layers.BatchNormalization(),\n",
    "    tf.keras.layers.Dense(100, activation='relu'),\n",
    "    tf.keras.layers.BatchNormalization(),\n",
    "    tf.keras.layers.Dropout(rate=0.01),\n",
    "    tf.keras.layers.Dense(200, activation='relu'),\n",
    "    tf.keras.layers.Dropout(rate=0.05),\n",
    "    tf.keras.layers.BatchNormalization(),\n",
    "    tf.keras.layers.Dense(100, activation='relu'),\n",
    "    tf.keras.layers.Dropout(rate=0.05),\n",
    "    tf.keras.layers.BatchNormalization(),\n",
    "    tf.keras.layers.Dense(20, activation='relu'),\n",
    "    tf.keras.layers.Dense(1, activation='linear')\n",
    "])\n"
   ]
  },
  {
   "cell_type": "code",
   "execution_count": 330,
   "id": "a98dbf6b-9757-4831-9525-125769f24d7e",
   "metadata": {
    "tags": []
   },
   "outputs": [],
   "source": [
    "model.compile(optimizer=tf.keras.optimizers.Adam(),\n",
    "              loss=tf.keras.losses.mean_absolute_error,\n",
    "              metrics=[tf.keras.metrics.mean_squared_error,\n",
    "                       tf.keras.metrics.mean_absolute_percentage_error\n",
    "                       ])"
   ]
  },
  {
   "cell_type": "code",
   "execution_count": 331,
   "id": "a3921edf-a20a-426e-ac7a-5d274bf5aaa1",
   "metadata": {
    "tags": []
   },
   "outputs": [],
   "source": [
    "def train_val_test_split(x, val_frac=0.15, test_frac=0.15):\n",
    "    x_train = x[:round((1 - val_frac - test_frac) * len(x))]\n",
    "    x_val = x[round((1 - val_frac - test_frac) * len(x)):round((1 - test_frac) * len(x))]\n",
    "    x_test = x[round((1 - test_frac) * len(x)):]\n",
    "    return x_train, x_val, x_test\n",
    "\n",
    "\n",
    "x_train, x_val, x_test = train_val_test_split(df_ohe_w.drop('Sale Price', axis=1))\n",
    "y_train, y_val, y_test = train_val_test_split(df_ohe_w['Sale Price'])"
   ]
  },
  {
   "cell_type": "code",
   "execution_count": 332,
   "id": "623d40d0-7ecd-4d72-ae9b-c25369fd0ff9",
   "metadata": {
    "tags": []
   },
   "outputs": [],
   "source": [
    "annealing = tf.keras.callbacks.ReduceLROnPlateau(monitor=\"val_loss\",\n",
    "                                                 factor=0.1,\n",
    "                                                 patience=5,\n",
    "                                                 verbose=1,\n",
    "                                                 min_delta=0.001)"
   ]
  },
  {
   "cell_type": "code",
   "execution_count": 333,
   "id": "507f1023-a76c-496f-b540-f89860af3391",
   "metadata": {
    "tags": []
   },
   "outputs": [],
   "source": [
    "tb_callback = tf.keras.callbacks.TensorBoard(log_dir='logs/first', \n",
    "                                             histogram_freq=1)"
   ]
  },
  {
   "cell_type": "code",
   "execution_count": 262,
   "id": "530f354d-91bf-4249-ab59-da6176b764b2",
   "metadata": {
    "collapsed": true,
    "jupyter": {
     "outputs_hidden": true
    },
    "tags": []
   },
   "outputs": [
    {
     "name": "stdout",
     "output_type": "stream",
     "text": [
      "Epoch 1/100\n",
      "388/388 [==============================] - 5s 14ms/step - loss: 0.1693 - mean_squared_error: 0.4839 - mean_absolute_percentage_error: 197.1369 - val_loss: 0.1395 - val_mean_squared_error: 1.7502 - val_mean_absolute_percentage_error: 162.4903 - lr: 1.0000e-14\n",
      "Epoch 2/100\n",
      "388/388 [==============================] - 5s 13ms/step - loss: 0.1685 - mean_squared_error: 0.4915 - mean_absolute_percentage_error: 188.9921 - val_loss: 0.1393 - val_mean_squared_error: 2.1507 - val_mean_absolute_percentage_error: 164.3531 - lr: 1.0000e-14\n",
      "Epoch 3/100\n",
      "388/388 [==============================] - 5s 14ms/step - loss: 0.1684 - mean_squared_error: 0.4849 - mean_absolute_percentage_error: 193.8125 - val_loss: 0.1397 - val_mean_squared_error: 1.8431 - val_mean_absolute_percentage_error: 164.9094 - lr: 1.0000e-14\n",
      "Epoch 4/100\n",
      "388/388 [==============================] - 6s 15ms/step - loss: 0.1682 - mean_squared_error: 0.4877 - mean_absolute_percentage_error: 193.1836 - val_loss: 0.1402 - val_mean_squared_error: 1.5958 - val_mean_absolute_percentage_error: 163.1534 - lr: 1.0000e-14\n",
      "Epoch 5/100\n",
      "388/388 [==============================] - 5s 14ms/step - loss: 0.1683 - mean_squared_error: 0.4800 - mean_absolute_percentage_error: 197.6594 - val_loss: 0.1401 - val_mean_squared_error: 1.8060 - val_mean_absolute_percentage_error: 165.6736 - lr: 1.0000e-14\n",
      "Epoch 6/100\n",
      "385/388 [============================>.] - ETA: 0s - loss: 0.1687 - mean_squared_error: 0.4884 - mean_absolute_percentage_error: 195.0065\n",
      "Epoch 6: ReduceLROnPlateau reducing learning rate to 1.0000001518582595e-15.\n",
      "388/388 [==============================] - 5s 14ms/step - loss: 0.1688 - mean_squared_error: 0.4888 - mean_absolute_percentage_error: 194.6548 - val_loss: 0.1395 - val_mean_squared_error: 1.9741 - val_mean_absolute_percentage_error: 165.2112 - lr: 1.0000e-14\n",
      "Epoch 7/100\n",
      "388/388 [==============================] - 5s 14ms/step - loss: 0.1679 - mean_squared_error: 0.4867 - mean_absolute_percentage_error: 191.1856 - val_loss: 0.1399 - val_mean_squared_error: 1.9977 - val_mean_absolute_percentage_error: 166.0843 - lr: 1.0000e-15\n",
      "Epoch 8/100\n",
      "388/388 [==============================] - 5s 13ms/step - loss: 0.1692 - mean_squared_error: 0.4884 - mean_absolute_percentage_error: 198.6203 - val_loss: 0.1398 - val_mean_squared_error: 1.9562 - val_mean_absolute_percentage_error: 165.6442 - lr: 1.0000e-15\n",
      "Epoch 9/100\n",
      "388/388 [==============================] - 5s 14ms/step - loss: 0.1683 - mean_squared_error: 0.4850 - mean_absolute_percentage_error: 191.1660 - val_loss: 0.1395 - val_mean_squared_error: 1.9767 - val_mean_absolute_percentage_error: 164.3233 - lr: 1.0000e-15\n",
      "Epoch 10/100\n",
      "388/388 [==============================] - 5s 13ms/step - loss: 0.1691 - mean_squared_error: 0.4841 - mean_absolute_percentage_error: 199.2669 - val_loss: 0.1401 - val_mean_squared_error: 1.9630 - val_mean_absolute_percentage_error: 166.1179 - lr: 1.0000e-15\n",
      "Epoch 11/100\n",
      "385/388 [============================>.] - ETA: 0s - loss: 0.1692 - mean_squared_error: 0.4824 - mean_absolute_percentage_error: 192.1276\n",
      "Epoch 11: ReduceLROnPlateau reducing learning rate to 1.0000001095066122e-16.\n",
      "388/388 [==============================] - 5s 14ms/step - loss: 0.1691 - mean_squared_error: 0.4815 - mean_absolute_percentage_error: 192.0832 - val_loss: 0.1405 - val_mean_squared_error: 2.0081 - val_mean_absolute_percentage_error: 167.9940 - lr: 1.0000e-15\n",
      "Epoch 12/100\n",
      "388/388 [==============================] - 6s 16ms/step - loss: 0.1680 - mean_squared_error: 0.4861 - mean_absolute_percentage_error: 199.7314 - val_loss: 0.1397 - val_mean_squared_error: 1.8376 - val_mean_absolute_percentage_error: 164.9641 - lr: 1.0000e-16\n",
      "Epoch 13/100\n",
      "388/388 [==============================] - 6s 14ms/step - loss: 0.1688 - mean_squared_error: 0.4883 - mean_absolute_percentage_error: 201.3992 - val_loss: 0.1390 - val_mean_squared_error: 2.0507 - val_mean_absolute_percentage_error: 163.1297 - lr: 1.0000e-16\n",
      "Epoch 14/100\n",
      "388/388 [==============================] - 6s 14ms/step - loss: 0.1687 - mean_squared_error: 0.4859 - mean_absolute_percentage_error: 201.1105 - val_loss: 0.1394 - val_mean_squared_error: 2.0626 - val_mean_absolute_percentage_error: 164.9572 - lr: 1.0000e-16\n",
      "Epoch 15/100\n",
      "388/388 [==============================] - 6s 14ms/step - loss: 0.1684 - mean_squared_error: 0.4857 - mean_absolute_percentage_error: 196.6146 - val_loss: 0.1399 - val_mean_squared_error: 2.1223 - val_mean_absolute_percentage_error: 166.1973 - lr: 1.0000e-16\n",
      "Epoch 16/100\n",
      "386/388 [============================>.] - ETA: 0s - loss: 0.1684 - mean_squared_error: 0.4896 - mean_absolute_percentage_error: 195.1277\n",
      "Epoch 16: ReduceLROnPlateau reducing learning rate to 1.0000000830368326e-17.\n",
      "388/388 [==============================] - 5s 14ms/step - loss: 0.1683 - mean_squared_error: 0.4889 - mean_absolute_percentage_error: 194.9793 - val_loss: 0.1399 - val_mean_squared_error: 2.0258 - val_mean_absolute_percentage_error: 166.0450 - lr: 1.0000e-16\n",
      "Epoch 17/100\n",
      "388/388 [==============================] - 5s 14ms/step - loss: 0.1693 - mean_squared_error: 0.4912 - mean_absolute_percentage_error: 195.1780 - val_loss: 0.1394 - val_mean_squared_error: 2.1487 - val_mean_absolute_percentage_error: 164.6946 - lr: 1.0000e-17\n",
      "Epoch 18/100\n",
      "388/388 [==============================] - 5s 13ms/step - loss: 0.1685 - mean_squared_error: 0.4836 - mean_absolute_percentage_error: 195.4450 - val_loss: 0.1383 - val_mean_squared_error: 1.9513 - val_mean_absolute_percentage_error: 161.2975 - lr: 1.0000e-17\n",
      "Epoch 19/100\n",
      "388/388 [==============================] - 5s 14ms/step - loss: 0.1690 - mean_squared_error: 0.4838 - mean_absolute_percentage_error: 195.8501 - val_loss: 0.1398 - val_mean_squared_error: 1.9927 - val_mean_absolute_percentage_error: 165.9574 - lr: 1.0000e-17\n",
      "Epoch 20/100\n",
      "388/388 [==============================] - 5s 14ms/step - loss: 0.1683 - mean_squared_error: 0.4847 - mean_absolute_percentage_error: 197.6795 - val_loss: 0.1391 - val_mean_squared_error: 1.8613 - val_mean_absolute_percentage_error: 163.1330 - lr: 1.0000e-17\n",
      "Epoch 21/100\n",
      "388/388 [==============================] - 6s 14ms/step - loss: 0.1691 - mean_squared_error: 0.4895 - mean_absolute_percentage_error: 198.7317 - val_loss: 0.1397 - val_mean_squared_error: 1.8825 - val_mean_absolute_percentage_error: 165.2105 - lr: 1.0000e-17\n",
      "Epoch 22/100\n",
      "388/388 [==============================] - 5s 14ms/step - loss: 0.1691 - mean_squared_error: 0.4880 - mean_absolute_percentage_error: 196.0989 - val_loss: 0.1401 - val_mean_squared_error: 1.9838 - val_mean_absolute_percentage_error: 165.9624 - lr: 1.0000e-17\n",
      "Epoch 23/100\n",
      "384/388 [============================>.] - ETA: 0s - loss: 0.1693 - mean_squared_error: 0.4922 - mean_absolute_percentage_error: 199.6404\n",
      "Epoch 23: ReduceLROnPlateau reducing learning rate to 1.0000000664932204e-18.\n",
      "388/388 [==============================] - 5s 14ms/step - loss: 0.1691 - mean_squared_error: 0.4888 - mean_absolute_percentage_error: 199.2280 - val_loss: 0.1402 - val_mean_squared_error: 1.9900 - val_mean_absolute_percentage_error: 166.1262 - lr: 1.0000e-17\n",
      "Epoch 24/100\n",
      "388/388 [==============================] - 5s 14ms/step - loss: 0.1698 - mean_squared_error: 0.4881 - mean_absolute_percentage_error: 193.3211 - val_loss: 0.1399 - val_mean_squared_error: 2.0241 - val_mean_absolute_percentage_error: 165.8030 - lr: 1.0000e-18\n",
      "Epoch 25/100\n",
      "388/388 [==============================] - 5s 14ms/step - loss: 0.1693 - mean_squared_error: 0.4851 - mean_absolute_percentage_error: 198.9993 - val_loss: 0.1401 - val_mean_squared_error: 2.0266 - val_mean_absolute_percentage_error: 166.6763 - lr: 1.0000e-18\n",
      "Epoch 26/100\n",
      "388/388 [==============================] - 5s 14ms/step - loss: 0.1691 - mean_squared_error: 0.4853 - mean_absolute_percentage_error: 194.4260 - val_loss: 0.1401 - val_mean_squared_error: 1.8171 - val_mean_absolute_percentage_error: 165.4979 - lr: 1.0000e-18\n",
      "Epoch 27/100\n",
      "388/388 [==============================] - 5s 14ms/step - loss: 0.1689 - mean_squared_error: 0.4834 - mean_absolute_percentage_error: 193.0857 - val_loss: 0.1392 - val_mean_squared_error: 2.1241 - val_mean_absolute_percentage_error: 164.0577 - lr: 1.0000e-18\n",
      "Epoch 28/100\n",
      "386/388 [============================>.] - ETA: 0s - loss: 0.1685 - mean_squared_error: 0.4830 - mean_absolute_percentage_error: 194.3160\n",
      "Epoch 28: ReduceLROnPlateau reducing learning rate to 1.000000045813705e-19.\n",
      "388/388 [==============================] - 5s 14ms/step - loss: 0.1685 - mean_squared_error: 0.4827 - mean_absolute_percentage_error: 194.1354 - val_loss: 0.1403 - val_mean_squared_error: 1.9959 - val_mean_absolute_percentage_error: 166.7822 - lr: 1.0000e-18\n",
      "Epoch 29/100\n",
      "388/388 [==============================] - 5s 14ms/step - loss: 0.1689 - mean_squared_error: 0.4867 - mean_absolute_percentage_error: 196.0678 - val_loss: 0.1388 - val_mean_squared_error: 2.0224 - val_mean_absolute_percentage_error: 162.7816 - lr: 1.0000e-19\n",
      "Epoch 30/100\n",
      "388/388 [==============================] - 5s 14ms/step - loss: 0.1694 - mean_squared_error: 0.4903 - mean_absolute_percentage_error: 200.8118 - val_loss: 0.1408 - val_mean_squared_error: 1.6768 - val_mean_absolute_percentage_error: 165.8694 - lr: 1.0000e-19\n",
      "Epoch 31/100\n",
      "388/388 [==============================] - 5s 14ms/step - loss: 0.1689 - mean_squared_error: 0.4874 - mean_absolute_percentage_error: 195.7680 - val_loss: 0.1404 - val_mean_squared_error: 2.1542 - val_mean_absolute_percentage_error: 167.7943 - lr: 1.0000e-19\n",
      "Epoch 32/100\n",
      "388/388 [==============================] - 5s 14ms/step - loss: 0.1688 - mean_squared_error: 0.4885 - mean_absolute_percentage_error: 197.1328 - val_loss: 0.1399 - val_mean_squared_error: 2.1039 - val_mean_absolute_percentage_error: 165.9443 - lr: 1.0000e-19\n",
      "Epoch 33/100\n",
      "386/388 [============================>.] - ETA: 0s - loss: 0.1687 - mean_squared_error: 0.4867 - mean_absolute_percentage_error: 193.2229\n",
      "Epoch 33: ReduceLROnPlateau reducing learning rate to 1.000000032889008e-20.\n",
      "388/388 [==============================] - 7s 17ms/step - loss: 0.1688 - mean_squared_error: 0.4862 - mean_absolute_percentage_error: 196.3651 - val_loss: 0.1391 - val_mean_squared_error: 1.8782 - val_mean_absolute_percentage_error: 162.4109 - lr: 1.0000e-19\n",
      "Epoch 34/100\n",
      "388/388 [==============================] - 6s 17ms/step - loss: 0.1693 - mean_squared_error: 0.4939 - mean_absolute_percentage_error: 199.1022 - val_loss: 0.1398 - val_mean_squared_error: 1.9976 - val_mean_absolute_percentage_error: 165.4922 - lr: 1.0000e-20\n",
      "Epoch 35/100\n",
      "388/388 [==============================] - 6s 16ms/step - loss: 0.1683 - mean_squared_error: 0.4827 - mean_absolute_percentage_error: 195.8032 - val_loss: 0.1406 - val_mean_squared_error: 1.8908 - val_mean_absolute_percentage_error: 167.8678 - lr: 1.0000e-20\n",
      "Epoch 36/100\n",
      "388/388 [==============================] - 6s 15ms/step - loss: 0.1687 - mean_squared_error: 0.4912 - mean_absolute_percentage_error: 187.9845 - val_loss: 0.1400 - val_mean_squared_error: 1.9734 - val_mean_absolute_percentage_error: 166.2689 - lr: 1.0000e-20\n",
      "Epoch 37/100\n",
      "388/388 [==============================] - 6s 14ms/step - loss: 0.1686 - mean_squared_error: 0.4843 - mean_absolute_percentage_error: 191.8825 - val_loss: 0.1396 - val_mean_squared_error: 1.7762 - val_mean_absolute_percentage_error: 163.5027 - lr: 1.0000e-20\n",
      "Epoch 38/100\n",
      "386/388 [============================>.] - ETA: 0s - loss: 0.1688 - mean_squared_error: 0.4929 - mean_absolute_percentage_error: 200.7150\n",
      "Epoch 38: ReduceLROnPlateau reducing learning rate to 1.0000000490448793e-21.\n",
      "388/388 [==============================] - 5s 14ms/step - loss: 0.1688 - mean_squared_error: 0.4912 - mean_absolute_percentage_error: 200.5639 - val_loss: 0.1400 - val_mean_squared_error: 1.9070 - val_mean_absolute_percentage_error: 166.1295 - lr: 1.0000e-20\n"
     ]
    },
    {
     "data": {
      "text/plain": [
       "<keras.callbacks.History at 0x2cd14e63f10>"
      ]
     },
     "execution_count": 262,
     "metadata": {},
     "output_type": "execute_result"
    }
   ],
   "source": [
    "model.fit(x_train, y_train, \n",
    "          validation_data=(x_val, y_val),\n",
    "          batch_size = 1000,\n",
    "          callbacks=[tf.keras.callbacks.EarlyStopping(patience=20), annealing, tb_callback],\n",
    "          epochs=100)"
   ]
  },
  {
   "cell_type": "code",
   "execution_count": 259,
   "id": "52f30609-7487-46de-ab14-718c47a5d628",
   "metadata": {
    "tags": []
   },
   "outputs": [
    {
     "name": "stdout",
     "output_type": "stream",
     "text": [
      "2597/2597 [==============================] - 4s 2ms/step\n"
     ]
    }
   ],
   "source": [
    "pred = model.predict(x_test)"
   ]
  },
  {
   "cell_type": "code",
   "execution_count": 260,
   "id": "b1558edb-7d12-43cf-bfa2-6c8efb688552",
   "metadata": {
    "tags": []
   },
   "outputs": [
    {
     "data": {
      "text/plain": [
       "0.31731232675449605"
      ]
     },
     "execution_count": 260,
     "metadata": {},
     "output_type": "execute_result"
    }
   ],
   "source": [
    "r2_score(y_test, pred)"
   ]
  },
  {
   "cell_type": "markdown",
   "id": "34c6fe2c-727e-410e-b77e-b99c2a377d44",
   "metadata": {},
   "source": [
    "Нейронка с трудом описывает 30% дисперсии(не подходит), на последок решил себя проверить использовав встроенную нейронку из sklearn, она описала лишь 27% дисперсии(все мимо)"
   ]
  },
  {
   "cell_type": "code",
   "execution_count": 62,
   "id": "7154d750-aede-4754-a45c-1486cb5845c9",
   "metadata": {
    "tags": []
   },
   "outputs": [],
   "source": [
    "from sklearn.neural_network import MLPRegressor"
   ]
  },
  {
   "cell_type": "code",
   "execution_count": null,
   "id": "ee0e4bde-fb63-4141-a62c-f9d36d04838f",
   "metadata": {
    "tags": []
   },
   "outputs": [],
   "source": [
    "model = MLPRegressor(learning_rate='adaptive', random_state=27, max_iter=500, verbose=1, n_iter_no_change=50)\n",
    "\n",
    "model.fit(x_train, y_train)"
   ]
  },
  {
   "cell_type": "code",
   "execution_count": 65,
   "id": "a4bf506c-3f91-4014-8a8a-d0336e572d95",
   "metadata": {
    "tags": []
   },
   "outputs": [],
   "source": [
    "pred = model.predict(x_test)"
   ]
  },
  {
   "cell_type": "code",
   "execution_count": 66,
   "id": "7ea15aff-015b-4c8a-b87f-e2082f3def50",
   "metadata": {
    "tags": []
   },
   "outputs": [
    {
     "data": {
      "text/plain": [
       "0.2756038968572416"
      ]
     },
     "execution_count": 66,
     "metadata": {},
     "output_type": "execute_result"
    }
   ],
   "source": [
    "r2_score(y_test, pred)"
   ]
  },
  {
   "cell_type": "markdown",
   "id": "d05409fd-883e-40ff-b813-58f17172e881",
   "metadata": {},
   "source": [
    "## Results"
   ]
  },
  {
   "cell_type": "code",
   "execution_count": 337,
   "id": "1053b813-ca0a-427c-971c-ac9b884aa3fe",
   "metadata": {
    "jupyter": {
     "source_hidden": true
    },
    "tags": []
   },
   "outputs": [
    {
     "data": {
      "text/html": [
       "<div>\n",
       "<style scoped>\n",
       "    .dataframe tbody tr th:only-of-type {\n",
       "        vertical-align: middle;\n",
       "    }\n",
       "\n",
       "    .dataframe tbody tr th {\n",
       "        vertical-align: top;\n",
       "    }\n",
       "\n",
       "    .dataframe thead th {\n",
       "        text-align: right;\n",
       "    }\n",
       "</style>\n",
       "<table border=\"1\" class=\"dataframe\">\n",
       "  <thead>\n",
       "    <tr style=\"text-align: right;\">\n",
       "      <th></th>\n",
       "      <th>R2_score</th>\n",
       "      <th>Accuracy_on_segm</th>\n",
       "    </tr>\n",
       "  </thead>\n",
       "  <tbody>\n",
       "    <tr>\n",
       "      <th>Linear</th>\n",
       "      <td>0.096734</td>\n",
       "      <td>&lt;5%</td>\n",
       "    </tr>\n",
       "    <tr>\n",
       "      <th>DeepLearn</th>\n",
       "      <td>0.317312</td>\n",
       "      <td>15%</td>\n",
       "    </tr>\n",
       "    <tr>\n",
       "      <th>MLPReg</th>\n",
       "      <td>0.275604</td>\n",
       "      <td>15%</td>\n",
       "    </tr>\n",
       "    <tr>\n",
       "      <th>RandomForest</th>\n",
       "      <td>0.541411</td>\n",
       "      <td>26%-27%</td>\n",
       "    </tr>\n",
       "    <tr>\n",
       "      <th>CatBoost</th>\n",
       "      <td>0.517035</td>\n",
       "      <td>30%</td>\n",
       "    </tr>\n",
       "  </tbody>\n",
       "</table>\n",
       "</div>"
      ],
      "text/plain": [
       "              R2_score Accuracy_on_segm\n",
       "Linear        0.096734              <5%\n",
       "DeepLearn     0.317312              15%\n",
       "MLPReg        0.275604              15%\n",
       "RandomForest  0.541411          26%-27%\n",
       "CatBoost      0.517035              30%"
      ]
     },
     "execution_count": 337,
     "metadata": {},
     "output_type": "execute_result"
    }
   ],
   "source": [
    "pd.DataFrame([[0.09673426871284, '<5%'],[0.31731232675449605,'15%'], [0.2756038968572416, '15%'],[0.5414108541853, '26%-27%'],[0.517034593123481, '30%']], columns=['R2_score', 'Accuracy_on_segm'], index=['Linear', 'DeepLearn', 'MLPReg', 'RandomForest', 'CatBoost'])"
   ]
  }
 ],
 "metadata": {
  "kernelspec": {
   "display_name": "Python (myenv).",
   "language": "python",
   "name": "myenv"
  },
  "language_info": {
   "codemirror_mode": {
    "name": "ipython",
    "version": 3
   },
   "file_extension": ".py",
   "mimetype": "text/x-python",
   "name": "python",
   "nbconvert_exporter": "python",
   "pygments_lexer": "ipython3",
   "version": "3.10.11"
  }
 },
 "nbformat": 4,
 "nbformat_minor": 5
}
