{
 "cells": [
  {
   "cell_type": "markdown",
   "id": "7b917ab4-86dc-4c0b-a8fb-5cad7648b380",
   "metadata": {},
   "source": [
    "# Hackathon"
   ]
  },
  {
   "cell_type": "markdown",
   "id": "481629af-3a24-4f11-9e44-e16f844f2ccd",
   "metadata": {},
   "source": [
    "Импортируем модули"
   ]
  },
  {
   "cell_type": "code",
   "execution_count": 1,
   "id": "4b736a34-1a60-4310-a995-ec5f4874a448",
   "metadata": {
    "tags": []
   },
   "outputs": [],
   "source": [
    "import pandas as pd\n",
    "import numpy as np\n",
    "from sklearn.preprocessing import OneHotEncoder, LabelEncoder, StandardScaler\n",
    "from sklearn.model_selection import train_test_split, GridSearchCV\n",
    "from sklearn.ensemble import RandomForestRegressor\n",
    "from sklearn.metrics import mean_squared_error, r2_score, mean_absolute_error\n",
    "import catboost as ctb\n",
    "import tensorflow as tf"
   ]
  },
  {
   "cell_type": "markdown",
   "id": "ce894429-4a4d-4eba-a2f7-20a12e2ba834",
   "metadata": {},
   "source": [
    "Читаем файлы для трэйна и теста"
   ]
  },
  {
   "cell_type": "code",
   "execution_count": 2,
   "id": "a32ed4e1-5f75-4a4b-9cc2-9d3b74aef4db",
   "metadata": {
    "tags": []
   },
   "outputs": [],
   "source": [
    "df_train = pd.read_csv('train.csv')\n",
    "df_test = pd.read_csv('test.csv')"
   ]
  },
  {
   "cell_type": "markdown",
   "id": "09ce55bf-ba19-49fa-b78a-3b5f0318cd1d",
   "metadata": {},
   "source": [
    "Для начала разберемся какие типы данных у нас присутствуют "
   ]
  },
  {
   "cell_type": "code",
   "execution_count": 3,
   "id": "211cb857-a763-4aef-a45b-bef818663db4",
   "metadata": {
    "tags": []
   },
   "outputs": [
    {
     "data": {
      "text/plain": [
       "Year                   int64\n",
       "Date                  object\n",
       "Locality              object\n",
       "Address               object\n",
       "Estimated Value      float64\n",
       "Sale Price           float64\n",
       "Property              object\n",
       "Residential           object\n",
       "num_rooms              int64\n",
       "carpet_area            int64\n",
       "property_tax_rate    float64\n",
       "dtype: object"
      ]
     },
     "execution_count": 3,
     "metadata": {},
     "output_type": "execute_result"
    }
   ],
   "source": [
    "df_train.dtypes"
   ]
  },
  {
   "cell_type": "markdown",
   "id": "81daead2-d926-4c06-9b89-171e194143fd",
   "metadata": {},
   "source": [
    "У нас присутствуют категориальные признаки(Locality, Property, Residential), также есть дата, и множество числовых данных. Для начала разберемся с датой, год уже присутствует, остается только вытащить месяц и день, это потенциально может повлиять на цену, ну и затем уберем дату и адрес(они нам больше не понадобятся)"
   ]
  },
  {
   "cell_type": "code",
   "execution_count": 4,
   "id": "8d671459-11b1-4389-9313-3b63de5cdbe7",
   "metadata": {
    "tags": []
   },
   "outputs": [],
   "source": [
    "df_train['Date'] = pd.to_datetime(df_train['Date'])\n",
    "df_train['month']= df_train['Date'].dt.month\n",
    "df_train['day']= df_train['Date'].dt.day\n",
    "df_test['Date'] = pd.to_datetime(df_test['Date'])\n",
    "df_test['month']= df_test['Date'].dt.month\n",
    "df_test['day']= df_test['Date'].dt.day"
   ]
  },
  {
   "cell_type": "code",
   "execution_count": 5,
   "id": "f958d311-5c97-4146-9fc4-e97b24f68bd1",
   "metadata": {
    "tags": []
   },
   "outputs": [],
   "source": [
    "df_train.drop(['Date','Address'], axis=1, inplace=True)\n",
    "df_test.drop(['Date','Address'], axis=1, inplace=True)"
   ]
  },
  {
   "cell_type": "markdown",
   "id": "39c75b65-0aec-4640-807e-c7fe87caf031",
   "metadata": {},
   "source": [
    "Дальше разберемся с категориальными признаками. Property и Residential ввиду малого кол-ва уникальных значений просто воспользуемся OneHotEncoder, а с Locality так не прокатит(там 170 уникальных значений), к нему применим обычный LabelEncoder"
   ]
  },
  {
   "cell_type": "code",
   "execution_count": 6,
   "id": "19df988a-8565-4850-8872-e8d3af49e64e",
   "metadata": {
    "tags": []
   },
   "outputs": [
    {
     "data": {
      "text/plain": [
       "(Locality    170\n",
       " dtype: int64,\n",
       " Property    6\n",
       " dtype: int64,\n",
       " Residential    5\n",
       " dtype: int64)"
      ]
     },
     "execution_count": 6,
     "metadata": {},
     "output_type": "execute_result"
    }
   ],
   "source": [
    "df_train[['Locality']].nunique(), df_train[['Property']].nunique(), df_train[['Residential']].nunique()"
   ]
  },
  {
   "cell_type": "code",
   "execution_count": 7,
   "id": "fe6b9c9b-6e35-47d8-8db2-be150053cabe",
   "metadata": {
    "tags": []
   },
   "outputs": [],
   "source": [
    "# ohe = OneHotEncoder()\n",
    "# transformed = ohe.fit_transform(df_ohe[['Locality']]) \n",
    "ohe1 = OneHotEncoder()\n",
    "transformed1 = ohe1.fit_transform(df_train[['Property']]) \n",
    "ohe2 = OneHotEncoder()\n",
    "transformed2 = ohe2.fit_transform(df_train[['Residential']]) "
   ]
  },
  {
   "cell_type": "code",
   "execution_count": 8,
   "id": "312a2a6f-cce4-441a-bc2c-3d082521a72d",
   "metadata": {
    "tags": []
   },
   "outputs": [],
   "source": [
    "# df_ohe[ohe.categories_[0]] = transformed.toarray()\n",
    "df_train[ohe1.categories_[0]] = transformed1.toarray()\n",
    "df_train[ohe2.categories_[0]] = transformed2.toarray()"
   ]
  },
  {
   "cell_type": "code",
   "execution_count": 9,
   "id": "1a6e43fd-ceb6-452a-b48d-653d81a86528",
   "metadata": {
    "tags": []
   },
   "outputs": [],
   "source": [
    "lb = LabelEncoder()\n",
    "df_train['Locality'] = lb.fit_transform(df_train['Locality'])"
   ]
  },
  {
   "cell_type": "code",
   "execution_count": 10,
   "id": "75a9307b-0aaa-428d-8892-d2aa61c79f78",
   "metadata": {
    "tags": []
   },
   "outputs": [],
   "source": [
    "df_train.drop(['Property'], axis=1, inplace=True)"
   ]
  },
  {
   "cell_type": "markdown",
   "id": "2a999436-b380-4581-be7d-3e9558b2110d",
   "metadata": {},
   "source": [
    "Осталось только разобраться с числовыми признаками, необходимо стандартизировать Sale price и Estimated Value, это улучшит работу модели и нам никак не помешает"
   ]
  },
  {
   "cell_type": "code",
   "execution_count": 11,
   "id": "641e7fc4-9ef9-44bf-b849-02ad0af37a20",
   "metadata": {
    "tags": []
   },
   "outputs": [],
   "source": [
    "scaler = StandardScaler()\n",
    "df_train[\"Estimated Value\"] = scaler.fit_transform(df_train[\"Estimated Value\"].values.reshape(-1,1))\n",
    "df_train[\"Sale Price\"] = scaler.fit_transform(df_train[\"Sale Price\"].values.reshape(-1,1))"
   ]
  },
  {
   "cell_type": "markdown",
   "id": "318a918e-9f5f-445e-ad01-dc113a282521",
   "metadata": {},
   "source": [
    "Разобьем данные на train и validation выборки"
   ]
  },
  {
   "cell_type": "code",
   "execution_count": 12,
   "id": "cd1a536d-9457-4a8a-93fa-c41d94e9acc0",
   "metadata": {
    "tags": []
   },
   "outputs": [],
   "source": [
    "x_train, x_test = train_test_split(df_train.drop('Sale Price', axis=1), train_size=0.7, random_state=1)\n",
    "y_train, y_test = train_test_split(df_train['Sale Price'], train_size=0.7, random_state=1)"
   ]
  },
  {
   "cell_type": "markdown",
   "id": "b7ac3339-6720-4359-af5f-c03e8b66b992",
   "metadata": {},
   "source": [
    "Я собираюсь построить множество различных моделей(Catboost, RandomForest, Linear) и нейронку для регрессии"
   ]
  },
  {
   "cell_type": "code",
   "execution_count": 13,
   "id": "0465f23f-3b4d-4053-9033-9c1717a2912f",
   "metadata": {
    "tags": []
   },
   "outputs": [
    {
     "data": {
      "text/html": [
       "<style>#sk-container-id-1 {color: black;background-color: white;}#sk-container-id-1 pre{padding: 0;}#sk-container-id-1 div.sk-toggleable {background-color: white;}#sk-container-id-1 label.sk-toggleable__label {cursor: pointer;display: block;width: 100%;margin-bottom: 0;padding: 0.3em;box-sizing: border-box;text-align: center;}#sk-container-id-1 label.sk-toggleable__label-arrow:before {content: \"▸\";float: left;margin-right: 0.25em;color: #696969;}#sk-container-id-1 label.sk-toggleable__label-arrow:hover:before {color: black;}#sk-container-id-1 div.sk-estimator:hover label.sk-toggleable__label-arrow:before {color: black;}#sk-container-id-1 div.sk-toggleable__content {max-height: 0;max-width: 0;overflow: hidden;text-align: left;background-color: #f0f8ff;}#sk-container-id-1 div.sk-toggleable__content pre {margin: 0.2em;color: black;border-radius: 0.25em;background-color: #f0f8ff;}#sk-container-id-1 input.sk-toggleable__control:checked~div.sk-toggleable__content {max-height: 200px;max-width: 100%;overflow: auto;}#sk-container-id-1 input.sk-toggleable__control:checked~label.sk-toggleable__label-arrow:before {content: \"▾\";}#sk-container-id-1 div.sk-estimator input.sk-toggleable__control:checked~label.sk-toggleable__label {background-color: #d4ebff;}#sk-container-id-1 div.sk-label input.sk-toggleable__control:checked~label.sk-toggleable__label {background-color: #d4ebff;}#sk-container-id-1 input.sk-hidden--visually {border: 0;clip: rect(1px 1px 1px 1px);clip: rect(1px, 1px, 1px, 1px);height: 1px;margin: -1px;overflow: hidden;padding: 0;position: absolute;width: 1px;}#sk-container-id-1 div.sk-estimator {font-family: monospace;background-color: #f0f8ff;border: 1px dotted black;border-radius: 0.25em;box-sizing: border-box;margin-bottom: 0.5em;}#sk-container-id-1 div.sk-estimator:hover {background-color: #d4ebff;}#sk-container-id-1 div.sk-parallel-item::after {content: \"\";width: 100%;border-bottom: 1px solid gray;flex-grow: 1;}#sk-container-id-1 div.sk-label:hover label.sk-toggleable__label {background-color: #d4ebff;}#sk-container-id-1 div.sk-serial::before {content: \"\";position: absolute;border-left: 1px solid gray;box-sizing: border-box;top: 0;bottom: 0;left: 50%;z-index: 0;}#sk-container-id-1 div.sk-serial {display: flex;flex-direction: column;align-items: center;background-color: white;padding-right: 0.2em;padding-left: 0.2em;position: relative;}#sk-container-id-1 div.sk-item {position: relative;z-index: 1;}#sk-container-id-1 div.sk-parallel {display: flex;align-items: stretch;justify-content: center;background-color: white;position: relative;}#sk-container-id-1 div.sk-item::before, #sk-container-id-1 div.sk-parallel-item::before {content: \"\";position: absolute;border-left: 1px solid gray;box-sizing: border-box;top: 0;bottom: 0;left: 50%;z-index: -1;}#sk-container-id-1 div.sk-parallel-item {display: flex;flex-direction: column;z-index: 1;position: relative;background-color: white;}#sk-container-id-1 div.sk-parallel-item:first-child::after {align-self: flex-end;width: 50%;}#sk-container-id-1 div.sk-parallel-item:last-child::after {align-self: flex-start;width: 50%;}#sk-container-id-1 div.sk-parallel-item:only-child::after {width: 0;}#sk-container-id-1 div.sk-dashed-wrapped {border: 1px dashed gray;margin: 0 0.4em 0.5em 0.4em;box-sizing: border-box;padding-bottom: 0.4em;background-color: white;}#sk-container-id-1 div.sk-label label {font-family: monospace;font-weight: bold;display: inline-block;line-height: 1.2em;}#sk-container-id-1 div.sk-label-container {text-align: center;}#sk-container-id-1 div.sk-container {/* jupyter's `normalize.less` sets `[hidden] { display: none; }` but bootstrap.min.css set `[hidden] { display: none !important; }` so we also need the `!important` here to be able to override the default hidden behavior on the sphinx rendered scikit-learn.org. See: https://github.com/scikit-learn/scikit-learn/issues/21755 */display: inline-block !important;position: relative;}#sk-container-id-1 div.sk-text-repr-fallback {display: none;}</style><div id=\"sk-container-id-1\" class=\"sk-top-container\"><div class=\"sk-text-repr-fallback\"><pre>RandomForestRegressor(n_jobs=-1, random_state=27)</pre><b>In a Jupyter environment, please rerun this cell to show the HTML representation or trust the notebook. <br />On GitHub, the HTML representation is unable to render, please try loading this page with nbviewer.org.</b></div><div class=\"sk-container\" hidden><div class=\"sk-item\"><div class=\"sk-estimator sk-toggleable\"><input class=\"sk-toggleable__control sk-hidden--visually\" id=\"sk-estimator-id-1\" type=\"checkbox\" checked><label for=\"sk-estimator-id-1\" class=\"sk-toggleable__label sk-toggleable__label-arrow\">RandomForestRegressor</label><div class=\"sk-toggleable__content\"><pre>RandomForestRegressor(n_jobs=-1, random_state=27)</pre></div></div></div></div></div>"
      ],
      "text/plain": [
       "RandomForestRegressor(n_jobs=-1, random_state=27)"
      ]
     },
     "execution_count": 13,
     "metadata": {},
     "output_type": "execute_result"
    }
   ],
   "source": [
    "model = RandomForestRegressor(n_jobs=-1, random_state=27)\n",
    "# Для начала обучим модель без настройки гиперпараметров\n",
    "model.fit(x_train, y_train)"
   ]
  },
  {
   "cell_type": "code",
   "execution_count": 14,
   "id": "9a57f3f3-19aa-45b6-ac19-482706ae815f",
   "metadata": {
    "tags": []
   },
   "outputs": [],
   "source": [
    "pred_test = model.predict(x_test)\n",
    "pred_train = model.predict(x_train)"
   ]
  },
  {
   "cell_type": "code",
   "execution_count": 15,
   "id": "dc45ebbb-8748-45aa-8b79-637adcfdb3b8",
   "metadata": {
    "tags": []
   },
   "outputs": [
    {
     "data": {
      "text/plain": [
       "(0.954505187157205, 0.04335825243732958)"
      ]
     },
     "execution_count": 15,
     "metadata": {},
     "output_type": "execute_result"
    }
   ],
   "source": [
    "r2_score(y_train, pred_train), mean_absolute_error(y_train, pred_train)"
   ]
  },
  {
   "cell_type": "code",
   "execution_count": 16,
   "id": "e840452f-56c8-41b3-9293-68f05e7b7658",
   "metadata": {
    "tags": []
   },
   "outputs": [
    {
     "data": {
      "text/plain": [
       "(0.5216313825333798, 0.1157429670919535)"
      ]
     },
     "execution_count": 16,
     "metadata": {},
     "output_type": "execute_result"
    }
   ],
   "source": [
    "r2_score(y_test, pred_test), mean_absolute_error(y_test, pred_test)"
   ]
  },
  {
   "cell_type": "markdown",
   "id": "c35dad96-0e06-42af-9c15-9e84bc39ca72",
   "metadata": {},
   "source": [
    "Всего 50% дисперсии на тесте и 96% на трейне, признаки переобучения, попробуем настроить max_depth"
   ]
  },
  {
   "cell_type": "code",
   "execution_count": null,
   "id": "d8461da8-5b24-4a83-a84e-e7f29196b902",
   "metadata": {
    "tags": []
   },
   "outputs": [],
   "source": [
    "tree = RandomForestRegressor(n_jobs=-1, random_state=27)\n",
    "\n",
    "param_grid = {'max_depth': [5, 10, 15, 20]}\n",
    "cv = 5\n",
    "\n",
    "grid_search = GridSearchCV(tree, param_grid=param_grid, cv=cv)\n",
    "grid_search.fit(x_train, y_train)\n",
    "\n",
    "print(grid_search.best_params_)"
   ]
  },
  {
   "cell_type": "markdown",
   "id": "34fc9245-880c-4aef-9fff-05fbb5a30c66",
   "metadata": {},
   "source": [
    "Лучше всего себя показал результат с max_depth 15, дальше настроим min_samples_leaf"
   ]
  },
  {
   "cell_type": "code",
   "execution_count": null,
   "id": "16cd4c92-9312-4072-b265-2006565ab872",
   "metadata": {
    "tags": []
   },
   "outputs": [],
   "source": [
    "tree = RandomForestRegressor(max_depth=15, n_jobs=-1, random_state=27, verbose=10)\n",
    "\n",
    "param_grid = {'min_samples_leaf': [1, 5, 10, 15, 20]}\n",
    "cv = 5\n",
    "\n",
    "grid_search = GridSearchCV(tree, param_grid=param_grid, cv=cv)\n",
    "grid_search.fit(x_train, y_train)\n",
    "\n",
    "print(grid_search.best_params_)"
   ]
  },
  {
   "cell_type": "markdown",
   "id": "a5598ae1-bdb3-47b8-a2bd-78b1a074d29e",
   "metadata": {},
   "source": [
    "Лучше всего оставить min_samples_leaf без изменения"
   ]
  },
  {
   "cell_type": "code",
   "execution_count": 18,
   "id": "9660c7d0-5ef0-4713-acff-33dcb385ac22",
   "metadata": {
    "tags": []
   },
   "outputs": [
    {
     "data": {
      "text/html": [
       "<style>#sk-container-id-2 {color: black;background-color: white;}#sk-container-id-2 pre{padding: 0;}#sk-container-id-2 div.sk-toggleable {background-color: white;}#sk-container-id-2 label.sk-toggleable__label {cursor: pointer;display: block;width: 100%;margin-bottom: 0;padding: 0.3em;box-sizing: border-box;text-align: center;}#sk-container-id-2 label.sk-toggleable__label-arrow:before {content: \"▸\";float: left;margin-right: 0.25em;color: #696969;}#sk-container-id-2 label.sk-toggleable__label-arrow:hover:before {color: black;}#sk-container-id-2 div.sk-estimator:hover label.sk-toggleable__label-arrow:before {color: black;}#sk-container-id-2 div.sk-toggleable__content {max-height: 0;max-width: 0;overflow: hidden;text-align: left;background-color: #f0f8ff;}#sk-container-id-2 div.sk-toggleable__content pre {margin: 0.2em;color: black;border-radius: 0.25em;background-color: #f0f8ff;}#sk-container-id-2 input.sk-toggleable__control:checked~div.sk-toggleable__content {max-height: 200px;max-width: 100%;overflow: auto;}#sk-container-id-2 input.sk-toggleable__control:checked~label.sk-toggleable__label-arrow:before {content: \"▾\";}#sk-container-id-2 div.sk-estimator input.sk-toggleable__control:checked~label.sk-toggleable__label {background-color: #d4ebff;}#sk-container-id-2 div.sk-label input.sk-toggleable__control:checked~label.sk-toggleable__label {background-color: #d4ebff;}#sk-container-id-2 input.sk-hidden--visually {border: 0;clip: rect(1px 1px 1px 1px);clip: rect(1px, 1px, 1px, 1px);height: 1px;margin: -1px;overflow: hidden;padding: 0;position: absolute;width: 1px;}#sk-container-id-2 div.sk-estimator {font-family: monospace;background-color: #f0f8ff;border: 1px dotted black;border-radius: 0.25em;box-sizing: border-box;margin-bottom: 0.5em;}#sk-container-id-2 div.sk-estimator:hover {background-color: #d4ebff;}#sk-container-id-2 div.sk-parallel-item::after {content: \"\";width: 100%;border-bottom: 1px solid gray;flex-grow: 1;}#sk-container-id-2 div.sk-label:hover label.sk-toggleable__label {background-color: #d4ebff;}#sk-container-id-2 div.sk-serial::before {content: \"\";position: absolute;border-left: 1px solid gray;box-sizing: border-box;top: 0;bottom: 0;left: 50%;z-index: 0;}#sk-container-id-2 div.sk-serial {display: flex;flex-direction: column;align-items: center;background-color: white;padding-right: 0.2em;padding-left: 0.2em;position: relative;}#sk-container-id-2 div.sk-item {position: relative;z-index: 1;}#sk-container-id-2 div.sk-parallel {display: flex;align-items: stretch;justify-content: center;background-color: white;position: relative;}#sk-container-id-2 div.sk-item::before, #sk-container-id-2 div.sk-parallel-item::before {content: \"\";position: absolute;border-left: 1px solid gray;box-sizing: border-box;top: 0;bottom: 0;left: 50%;z-index: -1;}#sk-container-id-2 div.sk-parallel-item {display: flex;flex-direction: column;z-index: 1;position: relative;background-color: white;}#sk-container-id-2 div.sk-parallel-item:first-child::after {align-self: flex-end;width: 50%;}#sk-container-id-2 div.sk-parallel-item:last-child::after {align-self: flex-start;width: 50%;}#sk-container-id-2 div.sk-parallel-item:only-child::after {width: 0;}#sk-container-id-2 div.sk-dashed-wrapped {border: 1px dashed gray;margin: 0 0.4em 0.5em 0.4em;box-sizing: border-box;padding-bottom: 0.4em;background-color: white;}#sk-container-id-2 div.sk-label label {font-family: monospace;font-weight: bold;display: inline-block;line-height: 1.2em;}#sk-container-id-2 div.sk-label-container {text-align: center;}#sk-container-id-2 div.sk-container {/* jupyter's `normalize.less` sets `[hidden] { display: none; }` but bootstrap.min.css set `[hidden] { display: none !important; }` so we also need the `!important` here to be able to override the default hidden behavior on the sphinx rendered scikit-learn.org. See: https://github.com/scikit-learn/scikit-learn/issues/21755 */display: inline-block !important;position: relative;}#sk-container-id-2 div.sk-text-repr-fallback {display: none;}</style><div id=\"sk-container-id-2\" class=\"sk-top-container\"><div class=\"sk-text-repr-fallback\"><pre>RandomForestRegressor(max_depth=15, n_jobs=-1, random_state=27)</pre><b>In a Jupyter environment, please rerun this cell to show the HTML representation or trust the notebook. <br />On GitHub, the HTML representation is unable to render, please try loading this page with nbviewer.org.</b></div><div class=\"sk-container\" hidden><div class=\"sk-item\"><div class=\"sk-estimator sk-toggleable\"><input class=\"sk-toggleable__control sk-hidden--visually\" id=\"sk-estimator-id-2\" type=\"checkbox\" checked><label for=\"sk-estimator-id-2\" class=\"sk-toggleable__label sk-toggleable__label-arrow\">RandomForestRegressor</label><div class=\"sk-toggleable__content\"><pre>RandomForestRegressor(max_depth=15, n_jobs=-1, random_state=27)</pre></div></div></div></div></div>"
      ],
      "text/plain": [
       "RandomForestRegressor(max_depth=15, n_jobs=-1, random_state=27)"
      ]
     },
     "execution_count": 18,
     "metadata": {},
     "output_type": "execute_result"
    }
   ],
   "source": [
    "model = RandomForestRegressor(max_depth=15, n_jobs=-1, random_state=27)\n",
    "\n",
    "model.fit(x_train, y_train)"
   ]
  },
  {
   "cell_type": "code",
   "execution_count": 19,
   "id": "e08e54b1-4f9d-44d7-a81d-131041cfb476",
   "metadata": {
    "tags": []
   },
   "outputs": [],
   "source": [
    "pred_test = model.predict(x_test)\n",
    "pred_train = model.predict(x_train)"
   ]
  },
  {
   "cell_type": "code",
   "execution_count": 20,
   "id": "36020abe-679c-4728-b865-7fa844b96545",
   "metadata": {
    "tags": []
   },
   "outputs": [
    {
     "data": {
      "text/plain": [
       "(0.9108009675526895, 0.0955702211590535)"
      ]
     },
     "execution_count": 20,
     "metadata": {},
     "output_type": "execute_result"
    }
   ],
   "source": [
    "r2_score(y_train, pred_train), mean_absolute_error(y_train, pred_train)"
   ]
  },
  {
   "cell_type": "code",
   "execution_count": 21,
   "id": "c7754b9b-18ea-499d-9314-b769359624fe",
   "metadata": {
    "tags": []
   },
   "outputs": [
    {
     "data": {
      "text/plain": [
       "(0.53192669128142, 0.11563419589839538)"
      ]
     },
     "execution_count": 21,
     "metadata": {},
     "output_type": "execute_result"
    }
   ],
   "source": [
    "r2_score(y_test, pred_test), mean_absolute_error(y_test, pred_test)"
   ]
  },
  {
   "cell_type": "markdown",
   "id": "8c5d9bbb-dc88-4422-b13d-80f2b06087d8",
   "metadata": {},
   "source": [
    "С настроенными гиперпараметрами результат улучшился на 4 процента("
   ]
  },
  {
   "cell_type": "markdown",
   "id": "a7b99d96-aced-40ab-9220-bfdc76a2a8cf",
   "metadata": {
    "tags": []
   },
   "source": [
    "Пусть это будет первая модель для отправки"
   ]
  },
  {
   "cell_type": "code",
   "execution_count": 23,
   "id": "84d6e4c3-63c5-4244-befb-06c65bd27ac9",
   "metadata": {
    "tags": []
   },
   "outputs": [],
   "source": [
    "df_test['Locality'] = lb.transform(df_test['Locality'])\n",
    "transformed_t = ohe1.transform(df_test[['Property']]) \n",
    "transformed_t1 = ohe2.transform(df_test[['Residential']]) \n",
    "df_test[ohe1.categories_[0]] = transformed_t.toarray()\n",
    "df_test[ohe2.categories_[0]] = transformed_t1.toarray()\n",
    "df_test.drop('Property', axis=1, inplace=True)"
   ]
  },
  {
   "cell_type": "code",
   "execution_count": 24,
   "id": "7b829f05-5ddf-4c6e-a66b-75802cb5cd5b",
   "metadata": {
    "tags": []
   },
   "outputs": [],
   "source": [
    "df_test['Estimated Value'] = scaler.transform(df_test[\"Estimated Value\"].values.reshape(-1,1))"
   ]
  },
  {
   "cell_type": "code",
   "execution_count": 25,
   "id": "cc6f3bfb-16e4-4db1-addf-70858378fa06",
   "metadata": {
    "tags": []
   },
   "outputs": [],
   "source": [
    "df_test_for_model = df_test.drop(['Segment', 'Sale Price'], axis=1)"
   ]
  },
  {
   "cell_type": "code",
   "execution_count": 26,
   "id": "25fd6beb-6202-48cc-9642-bbc3f18295f6",
   "metadata": {
    "tags": []
   },
   "outputs": [],
   "source": [
    "pred = model.predict(df_test_for_model)\n",
    "\n",
    "df_test['Sale Price'] = pred\n",
    "\n",
    "df_test['Profit'] = (df_test['Sale Price'] - df_test['Estimated Value'])/100"
   ]
  },
  {
   "cell_type": "markdown",
   "id": "43bb0f33-4e5e-4fc3-91f3-384b5b527c63",
   "metadata": {},
   "source": [
    "Осталось только разбить данные на сегменты, чтобы стандартизация нам никак не помешала, разобьем данные с помощью квантилей"
   ]
  },
  {
   "cell_type": "code",
   "execution_count": 27,
   "id": "1d5ba391-78dc-40a0-8ee7-ddf536269a03",
   "metadata": {
    "tags": []
   },
   "outputs": [],
   "source": [
    "q1, q2, q3 = df_test['Profit'].quantile([0.25, 0.5, 0.75])\n",
    "df_test['Segment'] = np.where(df_test['Profit'] >= q3, 0, np.where(df_test['Profit'] >= q2, 1, np.where(df_test['Profit'] >= q1, 2, 3)))"
   ]
  },
  {
   "cell_type": "code",
   "execution_count": 320,
   "id": "5b393dc3-0cf5-4fd7-98aa-6a2f54a99092",
   "metadata": {
    "tags": []
   },
   "outputs": [],
   "source": [
    "df_sub = pd.read_csv('submission.csv')\n",
    "\n",
    "df_sub['Segment'] = df_test['Segment'] \n",
    "\n",
    "df_sub.to_csv('my_submission_file.csv', index=False)"
   ]
  },
  {
   "cell_type": "markdown",
   "id": "fddc65ac-961e-4e9e-91a8-1d5905a89974",
   "metadata": {},
   "source": [
    "Данный способ позволяет предсказать около 26% сегментов, что на самом деле очень плохо попробуем Catboost model "
   ]
  },
  {
   "cell_type": "markdown",
   "id": "be5c2d05-f640-4cf3-a5e5-45b50b4ff21f",
   "metadata": {},
   "source": [
    "В catboost изначально стоят неплохо настроенные гиперпараметры, так что сразу обучаем"
   ]
  },
  {
   "cell_type": "code",
   "execution_count": 29,
   "id": "9e4132c6-e5ee-4260-a9f1-725adb047e3f",
   "metadata": {
    "tags": []
   },
   "outputs": [
    {
     "data": {
      "text/plain": [
       "<catboost.core.CatBoostRegressor at 0x156db92ac50>"
      ]
     },
     "execution_count": 29,
     "metadata": {},
     "output_type": "execute_result"
    }
   ],
   "source": [
    "model = ctb.CatBoostRegressor(random_state=27, verbose=0)\n",
    "\n",
    "model.fit(x_train, y_train)"
   ]
  },
  {
   "cell_type": "code",
   "execution_count": 30,
   "id": "7fcbd078-3378-41e6-b9fb-634909389073",
   "metadata": {
    "tags": []
   },
   "outputs": [],
   "source": [
    "pred_train = model.predict(x_train)\n",
    "pred_test = model.predict(x_test)"
   ]
  },
  {
   "cell_type": "code",
   "execution_count": 31,
   "id": "cdb3a620-4e8f-42c9-a015-58c9c6c84335",
   "metadata": {
    "tags": []
   },
   "outputs": [
    {
     "name": "stdout",
     "output_type": "stream",
     "text": [
      "0.8359267477858133 0.11364517014080265\n"
     ]
    }
   ],
   "source": [
    "print(r2_score(y_train, pred_train), mean_absolute_error(y_train, pred_train))"
   ]
  },
  {
   "cell_type": "code",
   "execution_count": 32,
   "id": "b6bcc399-a42c-40be-96b4-f6f5c1bc02a0",
   "metadata": {
    "tags": []
   },
   "outputs": [
    {
     "name": "stdout",
     "output_type": "stream",
     "text": [
      "0.517034593123481 0.1210294094835803\n"
     ]
    }
   ],
   "source": [
    "print(r2_score(y_test, pred_test), mean_absolute_error(y_test, pred_test))"
   ]
  },
  {
   "cell_type": "markdown",
   "id": "130b5d36-5132-407c-b662-1fd7360be48c",
   "metadata": {},
   "source": [
    "51% дисперсии при обучении, но если отправить при остальных тех же условиях accuracy достигает 30%"
   ]
  },
  {
   "cell_type": "markdown",
   "id": "acb7c882-0a7a-4157-b8a4-1d00627eab2a",
   "metadata": {},
   "source": [
    "Линейная модель умудряется описать только 10% дисперсии(это очень мало), так что перейду сразу к нейронкам"
   ]
  },
  {
   "cell_type": "markdown",
   "id": "70bc251c-861a-4d7f-9ea9-a635b0551512",
   "metadata": {},
   "source": [
    "Долго настраивая слои, активации и rate в дропоуте у меня получилась такая нейронка"
   ]
  },
  {
   "cell_type": "code",
   "execution_count": 329,
   "id": "bcd68a0a-a6d3-4889-83f8-fda04a922977",
   "metadata": {},
   "outputs": [],
   "source": [
    "model = tf.keras.models.Sequential([\n",
    "    tf.keras.layers.Dense(20, input_shape=x_train.iloc[0].shape, activation='relu'),\n",
    "    tf.keras.layers.BatchNormalization(),\n",
    "    tf.keras.layers.Dense(100, activation='relu'),\n",
    "    tf.keras.layers.BatchNormalization(),\n",
    "    tf.keras.layers.Dropout(rate=0.01),\n",
    "    tf.keras.layers.Dense(200, activation='relu'),\n",
    "    tf.keras.layers.Dropout(rate=0.05),\n",
    "    tf.keras.layers.BatchNormalization(),\n",
    "    tf.keras.layers.Dense(100, activation='relu'),\n",
    "    tf.keras.layers.Dropout(rate=0.05),\n",
    "    tf.keras.layers.BatchNormalization(),\n",
    "    tf.keras.layers.Dense(20, activation='relu'),\n",
    "    tf.keras.layers.Dense(1, activation='linear')\n",
    "])\n"
   ]
  },
  {
   "cell_type": "code",
   "execution_count": 330,
   "id": "a98dbf6b-9757-4831-9525-125769f24d7e",
   "metadata": {
    "tags": []
   },
   "outputs": [],
   "source": [
    "model.compile(optimizer=tf.keras.optimizers.Adam(),\n",
    "              loss=tf.keras.losses.mean_absolute_error,\n",
    "              metrics=[tf.keras.metrics.mean_squared_error,\n",
    "                       tf.keras.metrics.mean_absolute_percentage_error\n",
    "                       ])"
   ]
  },
  {
   "cell_type": "code",
   "execution_count": 331,
   "id": "a3921edf-a20a-426e-ac7a-5d274bf5aaa1",
   "metadata": {
    "tags": []
   },
   "outputs": [],
   "source": [
    "def train_val_test_split(x, val_frac=0.15, test_frac=0.15):\n",
    "    x_train = x[:round((1 - val_frac - test_frac) * len(x))]\n",
    "    x_val = x[round((1 - val_frac - test_frac) * len(x)):round((1 - test_frac) * len(x))]\n",
    "    x_test = x[round((1 - test_frac) * len(x)):]\n",
    "    return x_train, x_val, x_test\n",
    "\n",
    "\n",
    "x_train, x_val, x_test = train_val_test_split(df_ohe_w.drop('Sale Price', axis=1))\n",
    "y_train, y_val, y_test = train_val_test_split(df_ohe_w['Sale Price'])"
   ]
  },
  {
   "cell_type": "code",
   "execution_count": 332,
   "id": "623d40d0-7ecd-4d72-ae9b-c25369fd0ff9",
   "metadata": {
    "tags": []
   },
   "outputs": [],
   "source": [
    "annealing = tf.keras.callbacks.ReduceLROnPlateau(monitor=\"val_loss\",\n",
    "                                                 factor=0.1,\n",
    "                                                 patience=5,\n",
    "                                                 verbose=1,\n",
    "                                                 min_delta=0.001)"
   ]
  },
  {
   "cell_type": "code",
   "execution_count": 333,
   "id": "507f1023-a76c-496f-b540-f89860af3391",
   "metadata": {
    "tags": []
   },
   "outputs": [],
   "source": [
    "tb_callback = tf.keras.callbacks.TensorBoard(log_dir='logs/first', \n",
    "                                             histogram_freq=1)"
   ]
  },
  {
   "cell_type": "code",
   "execution_count": 262,
   "id": "530f354d-91bf-4249-ab59-da6176b764b2",
   "metadata": {
    "collapsed": true,
    "jupyter": {
     "outputs_hidden": true
    },
    "tags": []
   },
   "outputs": [
    {
     "name": "stdout",
     "output_type": "stream",
     "text": [
      "Epoch 1/100\n",
      "388/388 [==============================] - 5s 14ms/step - loss: 0.1693 - mean_squared_error: 0.4839 - mean_absolute_percentage_error: 197.1369 - val_loss: 0.1395 - val_mean_squared_error: 1.7502 - val_mean_absolute_percentage_error: 162.4903 - lr: 1.0000e-14\n",
      "Epoch 2/100\n",
      "388/388 [==============================] - 5s 13ms/step - loss: 0.1685 - mean_squared_error: 0.4915 - mean_absolute_percentage_error: 188.9921 - val_loss: 0.1393 - val_mean_squared_error: 2.1507 - val_mean_absolute_percentage_error: 164.3531 - lr: 1.0000e-14\n",
      "Epoch 3/100\n",
      "388/388 [==============================] - 5s 14ms/step - loss: 0.1684 - mean_squared_error: 0.4849 - mean_absolute_percentage_error: 193.8125 - val_loss: 0.1397 - val_mean_squared_error: 1.8431 - val_mean_absolute_percentage_error: 164.9094 - lr: 1.0000e-14\n",
      "Epoch 4/100\n",
      "388/388 [==============================] - 6s 15ms/step - loss: 0.1682 - mean_squared_error: 0.4877 - mean_absolute_percentage_error: 193.1836 - val_loss: 0.1402 - val_mean_squared_error: 1.5958 - val_mean_absolute_percentage_error: 163.1534 - lr: 1.0000e-14\n",
      "Epoch 5/100\n",
      "388/388 [==============================] - 5s 14ms/step - loss: 0.1683 - mean_squared_error: 0.4800 - mean_absolute_percentage_error: 197.6594 - val_loss: 0.1401 - val_mean_squared_error: 1.8060 - val_mean_absolute_percentage_error: 165.6736 - lr: 1.0000e-14\n",
      "Epoch 6/100\n",
      "385/388 [============================>.] - ETA: 0s - loss: 0.1687 - mean_squared_error: 0.4884 - mean_absolute_percentage_error: 195.0065\n",
      "Epoch 6: ReduceLROnPlateau reducing learning rate to 1.0000001518582595e-15.\n",
      "388/388 [==============================] - 5s 14ms/step - loss: 0.1688 - mean_squared_error: 0.4888 - mean_absolute_percentage_error: 194.6548 - val_loss: 0.1395 - val_mean_squared_error: 1.9741 - val_mean_absolute_percentage_error: 165.2112 - lr: 1.0000e-14\n",
      "Epoch 7/100\n",
      "388/388 [==============================] - 5s 14ms/step - loss: 0.1679 - mean_squared_error: 0.4867 - mean_absolute_percentage_error: 191.1856 - val_loss: 0.1399 - val_mean_squared_error: 1.9977 - val_mean_absolute_percentage_error: 166.0843 - lr: 1.0000e-15\n",
      "Epoch 8/100\n",
      "388/388 [==============================] - 5s 13ms/step - loss: 0.1692 - mean_squared_error: 0.4884 - mean_absolute_percentage_error: 198.6203 - val_loss: 0.1398 - val_mean_squared_error: 1.9562 - val_mean_absolute_percentage_error: 165.6442 - lr: 1.0000e-15\n",
      "Epoch 9/100\n",
      "388/388 [==============================] - 5s 14ms/step - loss: 0.1683 - mean_squared_error: 0.4850 - mean_absolute_percentage_error: 191.1660 - val_loss: 0.1395 - val_mean_squared_error: 1.9767 - val_mean_absolute_percentage_error: 164.3233 - lr: 1.0000e-15\n",
      "Epoch 10/100\n",
      "388/388 [==============================] - 5s 13ms/step - loss: 0.1691 - mean_squared_error: 0.4841 - mean_absolute_percentage_error: 199.2669 - val_loss: 0.1401 - val_mean_squared_error: 1.9630 - val_mean_absolute_percentage_error: 166.1179 - lr: 1.0000e-15\n",
      "Epoch 11/100\n",
      "385/388 [============================>.] - ETA: 0s - loss: 0.1692 - mean_squared_error: 0.4824 - mean_absolute_percentage_error: 192.1276\n",
      "Epoch 11: ReduceLROnPlateau reducing learning rate to 1.0000001095066122e-16.\n",
      "388/388 [==============================] - 5s 14ms/step - loss: 0.1691 - mean_squared_error: 0.4815 - mean_absolute_percentage_error: 192.0832 - val_loss: 0.1405 - val_mean_squared_error: 2.0081 - val_mean_absolute_percentage_error: 167.9940 - lr: 1.0000e-15\n",
      "Epoch 12/100\n",
      "388/388 [==============================] - 6s 16ms/step - loss: 0.1680 - mean_squared_error: 0.4861 - mean_absolute_percentage_error: 199.7314 - val_loss: 0.1397 - val_mean_squared_error: 1.8376 - val_mean_absolute_percentage_error: 164.9641 - lr: 1.0000e-16\n",
      "Epoch 13/100\n",
      "388/388 [==============================] - 6s 14ms/step - loss: 0.1688 - mean_squared_error: 0.4883 - mean_absolute_percentage_error: 201.3992 - val_loss: 0.1390 - val_mean_squared_error: 2.0507 - val_mean_absolute_percentage_error: 163.1297 - lr: 1.0000e-16\n",
      "Epoch 14/100\n",
      "388/388 [==============================] - 6s 14ms/step - loss: 0.1687 - mean_squared_error: 0.4859 - mean_absolute_percentage_error: 201.1105 - val_loss: 0.1394 - val_mean_squared_error: 2.0626 - val_mean_absolute_percentage_error: 164.9572 - lr: 1.0000e-16\n",
      "Epoch 15/100\n",
      "388/388 [==============================] - 6s 14ms/step - loss: 0.1684 - mean_squared_error: 0.4857 - mean_absolute_percentage_error: 196.6146 - val_loss: 0.1399 - val_mean_squared_error: 2.1223 - val_mean_absolute_percentage_error: 166.1973 - lr: 1.0000e-16\n",
      "Epoch 16/100\n",
      "386/388 [============================>.] - ETA: 0s - loss: 0.1684 - mean_squared_error: 0.4896 - mean_absolute_percentage_error: 195.1277\n",
      "Epoch 16: ReduceLROnPlateau reducing learning rate to 1.0000000830368326e-17.\n",
      "388/388 [==============================] - 5s 14ms/step - loss: 0.1683 - mean_squared_error: 0.4889 - mean_absolute_percentage_error: 194.9793 - val_loss: 0.1399 - val_mean_squared_error: 2.0258 - val_mean_absolute_percentage_error: 166.0450 - lr: 1.0000e-16\n",
      "Epoch 17/100\n",
      "388/388 [==============================] - 5s 14ms/step - loss: 0.1693 - mean_squared_error: 0.4912 - mean_absolute_percentage_error: 195.1780 - val_loss: 0.1394 - val_mean_squared_error: 2.1487 - val_mean_absolute_percentage_error: 164.6946 - lr: 1.0000e-17\n",
      "Epoch 18/100\n",
      "388/388 [==============================] - 5s 13ms/step - loss: 0.1685 - mean_squared_error: 0.4836 - mean_absolute_percentage_error: 195.4450 - val_loss: 0.1383 - val_mean_squared_error: 1.9513 - val_mean_absolute_percentage_error: 161.2975 - lr: 1.0000e-17\n",
      "Epoch 19/100\n",
      "388/388 [==============================] - 5s 14ms/step - loss: 0.1690 - mean_squared_error: 0.4838 - mean_absolute_percentage_error: 195.8501 - val_loss: 0.1398 - val_mean_squared_error: 1.9927 - val_mean_absolute_percentage_error: 165.9574 - lr: 1.0000e-17\n",
      "Epoch 20/100\n",
      "388/388 [==============================] - 5s 14ms/step - loss: 0.1683 - mean_squared_error: 0.4847 - mean_absolute_percentage_error: 197.6795 - val_loss: 0.1391 - val_mean_squared_error: 1.8613 - val_mean_absolute_percentage_error: 163.1330 - lr: 1.0000e-17\n",
      "Epoch 21/100\n",
      "388/388 [==============================] - 6s 14ms/step - loss: 0.1691 - mean_squared_error: 0.4895 - mean_absolute_percentage_error: 198.7317 - val_loss: 0.1397 - val_mean_squared_error: 1.8825 - val_mean_absolute_percentage_error: 165.2105 - lr: 1.0000e-17\n",
      "Epoch 22/100\n",
      "388/388 [==============================] - 5s 14ms/step - loss: 0.1691 - mean_squared_error: 0.4880 - mean_absolute_percentage_error: 196.0989 - val_loss: 0.1401 - val_mean_squared_error: 1.9838 - val_mean_absolute_percentage_error: 165.9624 - lr: 1.0000e-17\n",
      "Epoch 23/100\n",
      "384/388 [============================>.] - ETA: 0s - loss: 0.1693 - mean_squared_error: 0.4922 - mean_absolute_percentage_error: 199.6404\n",
      "Epoch 23: ReduceLROnPlateau reducing learning rate to 1.0000000664932204e-18.\n",
      "388/388 [==============================] - 5s 14ms/step - loss: 0.1691 - mean_squared_error: 0.4888 - mean_absolute_percentage_error: 199.2280 - val_loss: 0.1402 - val_mean_squared_error: 1.9900 - val_mean_absolute_percentage_error: 166.1262 - lr: 1.0000e-17\n",
      "Epoch 24/100\n",
      "388/388 [==============================] - 5s 14ms/step - loss: 0.1698 - mean_squared_error: 0.4881 - mean_absolute_percentage_error: 193.3211 - val_loss: 0.1399 - val_mean_squared_error: 2.0241 - val_mean_absolute_percentage_error: 165.8030 - lr: 1.0000e-18\n",
      "Epoch 25/100\n",
      "388/388 [==============================] - 5s 14ms/step - loss: 0.1693 - mean_squared_error: 0.4851 - mean_absolute_percentage_error: 198.9993 - val_loss: 0.1401 - val_mean_squared_error: 2.0266 - val_mean_absolute_percentage_error: 166.6763 - lr: 1.0000e-18\n",
      "Epoch 26/100\n",
      "388/388 [==============================] - 5s 14ms/step - loss: 0.1691 - mean_squared_error: 0.4853 - mean_absolute_percentage_error: 194.4260 - val_loss: 0.1401 - val_mean_squared_error: 1.8171 - val_mean_absolute_percentage_error: 165.4979 - lr: 1.0000e-18\n",
      "Epoch 27/100\n",
      "388/388 [==============================] - 5s 14ms/step - loss: 0.1689 - mean_squared_error: 0.4834 - mean_absolute_percentage_error: 193.0857 - val_loss: 0.1392 - val_mean_squared_error: 2.1241 - val_mean_absolute_percentage_error: 164.0577 - lr: 1.0000e-18\n",
      "Epoch 28/100\n",
      "386/388 [============================>.] - ETA: 0s - loss: 0.1685 - mean_squared_error: 0.4830 - mean_absolute_percentage_error: 194.3160\n",
      "Epoch 28: ReduceLROnPlateau reducing learning rate to 1.000000045813705e-19.\n",
      "388/388 [==============================] - 5s 14ms/step - loss: 0.1685 - mean_squared_error: 0.4827 - mean_absolute_percentage_error: 194.1354 - val_loss: 0.1403 - val_mean_squared_error: 1.9959 - val_mean_absolute_percentage_error: 166.7822 - lr: 1.0000e-18\n",
      "Epoch 29/100\n",
      "388/388 [==============================] - 5s 14ms/step - loss: 0.1689 - mean_squared_error: 0.4867 - mean_absolute_percentage_error: 196.0678 - val_loss: 0.1388 - val_mean_squared_error: 2.0224 - val_mean_absolute_percentage_error: 162.7816 - lr: 1.0000e-19\n",
      "Epoch 30/100\n",
      "388/388 [==============================] - 5s 14ms/step - loss: 0.1694 - mean_squared_error: 0.4903 - mean_absolute_percentage_error: 200.8118 - val_loss: 0.1408 - val_mean_squared_error: 1.6768 - val_mean_absolute_percentage_error: 165.8694 - lr: 1.0000e-19\n",
      "Epoch 31/100\n",
      "388/388 [==============================] - 5s 14ms/step - loss: 0.1689 - mean_squared_error: 0.4874 - mean_absolute_percentage_error: 195.7680 - val_loss: 0.1404 - val_mean_squared_error: 2.1542 - val_mean_absolute_percentage_error: 167.7943 - lr: 1.0000e-19\n",
      "Epoch 32/100\n",
      "388/388 [==============================] - 5s 14ms/step - loss: 0.1688 - mean_squared_error: 0.4885 - mean_absolute_percentage_error: 197.1328 - val_loss: 0.1399 - val_mean_squared_error: 2.1039 - val_mean_absolute_percentage_error: 165.9443 - lr: 1.0000e-19\n",
      "Epoch 33/100\n",
      "386/388 [============================>.] - ETA: 0s - loss: 0.1687 - mean_squared_error: 0.4867 - mean_absolute_percentage_error: 193.2229\n",
      "Epoch 33: ReduceLROnPlateau reducing learning rate to 1.000000032889008e-20.\n",
      "388/388 [==============================] - 7s 17ms/step - loss: 0.1688 - mean_squared_error: 0.4862 - mean_absolute_percentage_error: 196.3651 - val_loss: 0.1391 - val_mean_squared_error: 1.8782 - val_mean_absolute_percentage_error: 162.4109 - lr: 1.0000e-19\n",
      "Epoch 34/100\n",
      "388/388 [==============================] - 6s 17ms/step - loss: 0.1693 - mean_squared_error: 0.4939 - mean_absolute_percentage_error: 199.1022 - val_loss: 0.1398 - val_mean_squared_error: 1.9976 - val_mean_absolute_percentage_error: 165.4922 - lr: 1.0000e-20\n",
      "Epoch 35/100\n",
      "388/388 [==============================] - 6s 16ms/step - loss: 0.1683 - mean_squared_error: 0.4827 - mean_absolute_percentage_error: 195.8032 - val_loss: 0.1406 - val_mean_squared_error: 1.8908 - val_mean_absolute_percentage_error: 167.8678 - lr: 1.0000e-20\n",
      "Epoch 36/100\n",
      "388/388 [==============================] - 6s 15ms/step - loss: 0.1687 - mean_squared_error: 0.4912 - mean_absolute_percentage_error: 187.9845 - val_loss: 0.1400 - val_mean_squared_error: 1.9734 - val_mean_absolute_percentage_error: 166.2689 - lr: 1.0000e-20\n",
      "Epoch 37/100\n",
      "388/388 [==============================] - 6s 14ms/step - loss: 0.1686 - mean_squared_error: 0.4843 - mean_absolute_percentage_error: 191.8825 - val_loss: 0.1396 - val_mean_squared_error: 1.7762 - val_mean_absolute_percentage_error: 163.5027 - lr: 1.0000e-20\n",
      "Epoch 38/100\n",
      "386/388 [============================>.] - ETA: 0s - loss: 0.1688 - mean_squared_error: 0.4929 - mean_absolute_percentage_error: 200.7150\n",
      "Epoch 38: ReduceLROnPlateau reducing learning rate to 1.0000000490448793e-21.\n",
      "388/388 [==============================] - 5s 14ms/step - loss: 0.1688 - mean_squared_error: 0.4912 - mean_absolute_percentage_error: 200.5639 - val_loss: 0.1400 - val_mean_squared_error: 1.9070 - val_mean_absolute_percentage_error: 166.1295 - lr: 1.0000e-20\n"
     ]
    },
    {
     "data": {
      "text/plain": [
       "<keras.callbacks.History at 0x2cd14e63f10>"
      ]
     },
     "execution_count": 262,
     "metadata": {},
     "output_type": "execute_result"
    }
   ],
   "source": [
    "model.fit(x_train, y_train, \n",
    "          validation_data=(x_val, y_val),\n",
    "          batch_size = 1000,\n",
    "          callbacks=[tf.keras.callbacks.EarlyStopping(patience=20), annealing, tb_callback],\n",
    "          epochs=100)"
   ]
  },
  {
   "cell_type": "code",
   "execution_count": 259,
   "id": "52f30609-7487-46de-ab14-718c47a5d628",
   "metadata": {
    "tags": []
   },
   "outputs": [
    {
     "name": "stdout",
     "output_type": "stream",
     "text": [
      "2597/2597 [==============================] - 4s 2ms/step\n"
     ]
    }
   ],
   "source": [
    "pred = model.predict(x_test)"
   ]
  },
  {
   "cell_type": "code",
   "execution_count": 260,
   "id": "b1558edb-7d12-43cf-bfa2-6c8efb688552",
   "metadata": {
    "tags": []
   },
   "outputs": [
    {
     "data": {
      "text/plain": [
       "0.31731232675449605"
      ]
     },
     "execution_count": 260,
     "metadata": {},
     "output_type": "execute_result"
    }
   ],
   "source": [
    "r2_score(y_test, pred)"
   ]
  },
  {
   "cell_type": "markdown",
   "id": "34c6fe2c-727e-410e-b77e-b99c2a377d44",
   "metadata": {},
   "source": [
    "Нейронка с трудом описывает 30% дисперсии(не подходит), на последок решил себя проверить использовав встроенную нейронку из sklearn, она описала лишь 27% дисперсии(все мимо)"
   ]
  },
  {
   "cell_type": "code",
   "execution_count": 62,
   "id": "7154d750-aede-4754-a45c-1486cb5845c9",
   "metadata": {
    "tags": []
   },
   "outputs": [],
   "source": [
    "from sklearn.neural_network import MLPRegressor"
   ]
  },
  {
   "cell_type": "code",
   "execution_count": null,
   "id": "ee0e4bde-fb63-4141-a62c-f9d36d04838f",
   "metadata": {
    "tags": []
   },
   "outputs": [],
   "source": [
    "model = MLPRegressor(learning_rate='adaptive', random_state=27, max_iter=500, verbose=1, n_iter_no_change=50)\n",
    "\n",
    "model.fit(x_train, y_train)"
   ]
  },
  {
   "cell_type": "code",
   "execution_count": 65,
   "id": "a4bf506c-3f91-4014-8a8a-d0336e572d95",
   "metadata": {
    "tags": []
   },
   "outputs": [],
   "source": [
    "pred = model.predict(x_test)"
   ]
  },
  {
   "cell_type": "code",
   "execution_count": 66,
   "id": "7ea15aff-015b-4c8a-b87f-e2082f3def50",
   "metadata": {
    "tags": []
   },
   "outputs": [
    {
     "data": {
      "text/plain": [
       "0.2756038968572416"
      ]
     },
     "execution_count": 66,
     "metadata": {},
     "output_type": "execute_result"
    }
   ],
   "source": [
    "r2_score(y_test, pred)"
   ]
  },
  {
   "cell_type": "markdown",
   "id": "d05409fd-883e-40ff-b813-58f17172e881",
   "metadata": {},
   "source": [
    "## Results"
   ]
  },
  {
   "cell_type": "code",
   "execution_count": 337,
   "id": "1053b813-ca0a-427c-971c-ac9b884aa3fe",
   "metadata": {
    "jupyter": {
     "source_hidden": true
    },
    "tags": []
   },
   "outputs": [
    {
     "data": {
      "text/html": [
       "<div>\n",
       "<style scoped>\n",
       "    .dataframe tbody tr th:only-of-type {\n",
       "        vertical-align: middle;\n",
       "    }\n",
       "\n",
       "    .dataframe tbody tr th {\n",
       "        vertical-align: top;\n",
       "    }\n",
       "\n",
       "    .dataframe thead th {\n",
       "        text-align: right;\n",
       "    }\n",
       "</style>\n",
       "<table border=\"1\" class=\"dataframe\">\n",
       "  <thead>\n",
       "    <tr style=\"text-align: right;\">\n",
       "      <th></th>\n",
       "      <th>R2_score</th>\n",
       "      <th>Accuracy_on_segm</th>\n",
       "    </tr>\n",
       "  </thead>\n",
       "  <tbody>\n",
       "    <tr>\n",
       "      <th>Linear</th>\n",
       "      <td>0.096734</td>\n",
       "      <td>&lt;5%</td>\n",
       "    </tr>\n",
       "    <tr>\n",
       "      <th>DeepLearn</th>\n",
       "      <td>0.317312</td>\n",
       "      <td>15%</td>\n",
       "    </tr>\n",
       "    <tr>\n",
       "      <th>MLPReg</th>\n",
       "      <td>0.275604</td>\n",
       "      <td>15%</td>\n",
       "    </tr>\n",
       "    <tr>\n",
       "      <th>RandomForest</th>\n",
       "      <td>0.541411</td>\n",
       "      <td>26%-27%</td>\n",
       "    </tr>\n",
       "    <tr>\n",
       "      <th>CatBoost</th>\n",
       "      <td>0.517035</td>\n",
       "      <td>30%</td>\n",
       "    </tr>\n",
       "  </tbody>\n",
       "</table>\n",
       "</div>"
      ],
      "text/plain": [
       "              R2_score Accuracy_on_segm\n",
       "Linear        0.096734              <5%\n",
       "DeepLearn     0.317312              15%\n",
       "MLPReg        0.275604              15%\n",
       "RandomForest  0.541411          26%-27%\n",
       "CatBoost      0.517035              30%"
      ]
     },
     "execution_count": 337,
     "metadata": {},
     "output_type": "execute_result"
    }
   ],
   "source": [
    "pd.DataFrame([[0.09673426871284, '<5%'],[0.31731232675449605,'15%'], [0.2756038968572416, '15%'],[0.5414108541853, '26%-27%'],[0.517034593123481, '30%']], columns=['R2_score', 'Accuracy_on_segm'], index=['Linear', 'DeepLearn', 'MLPReg', 'RandomForest', 'CatBoost'])"
   ]
  }
 ],
 "metadata": {
  "kernelspec": {
   "display_name": "Python (myenv).",
   "language": "python",
   "name": "myenv"
  },
  "language_info": {
   "codemirror_mode": {
    "name": "ipython",
    "version": 3
   },
   "file_extension": ".py",
   "mimetype": "text/x-python",
   "name": "python",
   "nbconvert_exporter": "python",
   "pygments_lexer": "ipython3",
   "version": "3.10.11"
  }
 },
 "nbformat": 4,
 "nbformat_minor": 5
}
